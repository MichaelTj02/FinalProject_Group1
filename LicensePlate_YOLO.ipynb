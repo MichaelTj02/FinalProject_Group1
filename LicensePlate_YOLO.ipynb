{
  "nbformat": 4,
  "nbformat_minor": 0,
  "metadata": {
    "colab": {
      "provenance": [],
      "toc_visible": true,
      "authorship_tag": "ABX9TyPXYNL+A34WIgVXAKSeVpta",
      "include_colab_link": true
    },
    "kernelspec": {
      "name": "python3",
      "display_name": "Python 3"
    },
    "language_info": {
      "name": "python"
    }
  },
  "cells": [
    {
      "cell_type": "markdown",
      "metadata": {
        "id": "view-in-github",
        "colab_type": "text"
      },
      "source": [
        "<a href=\"https://colab.research.google.com/github/MichaelTj02/FinalProject_Group1/blob/main/LicensePlate_YOLO.ipynb\" target=\"_parent\"><img src=\"https://colab.research.google.com/assets/colab-badge.svg\" alt=\"Open In Colab\"/></a>"
      ]
    },
    {
      "cell_type": "markdown",
      "source": [
        "# Prepare data and imports"
      ],
      "metadata": {
        "id": "N4muPgWpEk9m"
      }
    },
    {
      "cell_type": "code",
      "execution_count": 1,
      "metadata": {
        "id": "a98pDaacAeQU"
      },
      "outputs": [],
      "source": [
        "import numpy as np # linear algebra\n",
        "import pandas as pd # data processing, CSV file I/O (e.g. pd.read_csv)\n",
        "import matplotlib.pyplot as plt\n",
        "import tensorflow as tf\n",
        "from tensorflow import keras\n",
        "import cv2\n",
        "import seaborn as sns\n",
        "import glob\n",
        "import xml.etree.ElementTree as ET\n",
        "from PIL import Image\n",
        "import os\n",
        "import shutil"
      ]
    },
    {
      "cell_type": "markdown",
      "source": [
        "Convert XML label files to .txt"
      ],
      "metadata": {
        "id": "bYZ7n8XLCTyC"
      }
    },
    {
      "cell_type": "code",
      "source": [
        "import os\n",
        "import xml.etree.ElementTree as ET\n",
        "\n",
        "def convert_xml_to_yolo(xml_dir, output_dir, class_list, img_dir):\n",
        "\n",
        "    os.makedirs(output_dir, exist_ok=True)\n",
        "    for xml_file in os.listdir(xml_dir):\n",
        "        if xml_file.endswith(\".xml\"):\n",
        "            xml_path = os.path.join(xml_dir, xml_file)\n",
        "            tree = ET.parse(xml_path)\n",
        "            root = tree.getroot()\n",
        "\n",
        "            # Get image dimensions\n",
        "            size = root.find(\"size\")\n",
        "            img_width = int(size.find(\"width\").text)\n",
        "            img_height = int(size.find(\"height\").text)\n",
        "\n",
        "            # Prepare YOLO annotation content\n",
        "            yolo_annotations = []\n",
        "\n",
        "            # Parse objects\n",
        "            for obj in root.findall(\"object\"):\n",
        "                class_name = obj.find(\"name\").text\n",
        "                if class_name not in class_list:\n",
        "                    print(f\"Warning: Class '{class_name}' not in class list. Skipping.\")\n",
        "                    continue\n",
        "\n",
        "                class_id = class_list.index(class_name)\n",
        "                bndbox = obj.find(\"bndbox\")\n",
        "                xmin = int(bndbox.find(\"xmin\").text)\n",
        "                ymin = int(bndbox.find(\"ymin\").text)\n",
        "                xmax = int(bndbox.find(\"xmax\").text)\n",
        "                ymax = int(bndbox.find(\"ymax\").text)\n",
        "\n",
        "                # Convert to YOLO format (normalized values)\n",
        "                x_center = (xmin + xmax) / 2 / img_width\n",
        "                y_center = (ymin + ymax) / 2 / img_height\n",
        "                width = (xmax - xmin) / img_width\n",
        "                height = (ymax - ymin) / img_height\n",
        "\n",
        "                yolo_annotations.append(f\"{class_id} {x_center} {y_center} {width} {height}\")\n",
        "\n",
        "            # Save annotations to .txt file (one file per image)\n",
        "            image_name = os.path.splitext(xml_file)[0]\n",
        "            output_file = os.path.join(output_dir, image_name + \".txt\")\n",
        "            with open(output_file, \"w\") as f:\n",
        "                f.write(\"\\n\".join(yolo_annotations))\n",
        "            print(f\"Converted: {xml_file} -> {output_file}\")\n",
        "\n",
        "# Define paths\n",
        "base_dir = r\"C:\\Users\\mtj02\\Desktop\\FinalProject_Group1\\Datasets\\LicensePlateDataset\"\n",
        "train_xml_dir = os.path.join(base_dir, \"labels/train\")\n",
        "val_xml_dir = os.path.join(base_dir, \"labels/val\")\n",
        "train_output_dir = os.path.join(base_dir, \"train\")\n",
        "val_output_dir = os.path.join(base_dir, \"val\")\n",
        "train_img_dir = os.path.join(base_dir, \"images/train\")\n",
        "val_img_dir = os.path.join(base_dir, \"images/val\")\n",
        "\n",
        "# Class list (e.g., numbers and uppercase letters)\n",
        "class_list = list(\"ABCDEFGHIJKLMNOPQRSTUVWXYZ0123456789\")\n",
        "\n",
        "# Convert XML to YOLO for train and val datasets\n",
        "convert_xml_to_yolo(train_xml_dir, train_output_dir, class_list, train_img_dir)\n",
        "convert_xml_to_yolo(val_xml_dir, val_output_dir, class_list, val_img_dir)\n"
      ],
      "metadata": {
        "colab": {
          "base_uri": "https://localhost:8080/"
        },
        "collapsed": true,
        "id": "QygArXGqBrSE",
        "outputId": "508c17a5-3f2e-47ad-9aac-bca06648d1d1"
      },
      "execution_count": null,
      "outputs": [
        {
          "output_type": "stream",
          "name": "stdout",
          "text": [
            "Converted: 0000.xml -> C:\\Users\\mtj02\\Desktop\\FinalProject_Group1\\Datasets\\LicensePlateDataset\\train\\0000.txt\n",
            "Converted: 0001.xml -> C:\\Users\\mtj02\\Desktop\\FinalProject_Group1\\Datasets\\LicensePlateDataset\\train\\0001.txt\n",
            "Converted: 0003.xml -> C:\\Users\\mtj02\\Desktop\\FinalProject_Group1\\Datasets\\LicensePlateDataset\\train\\0003.txt\n",
            "Converted: 0004.xml -> C:\\Users\\mtj02\\Desktop\\FinalProject_Group1\\Datasets\\LicensePlateDataset\\train\\0004.txt\n",
            "Converted: 0005.xml -> C:\\Users\\mtj02\\Desktop\\FinalProject_Group1\\Datasets\\LicensePlateDataset\\train\\0005.txt\n",
            "Converted: 0006.xml -> C:\\Users\\mtj02\\Desktop\\FinalProject_Group1\\Datasets\\LicensePlateDataset\\train\\0006.txt\n",
            "Converted: 0008.xml -> C:\\Users\\mtj02\\Desktop\\FinalProject_Group1\\Datasets\\LicensePlateDataset\\train\\0008.txt\n",
            "Converted: 0009.xml -> C:\\Users\\mtj02\\Desktop\\FinalProject_Group1\\Datasets\\LicensePlateDataset\\train\\0009.txt\n",
            "Converted: 0010.xml -> C:\\Users\\mtj02\\Desktop\\FinalProject_Group1\\Datasets\\LicensePlateDataset\\train\\0010.txt\n",
            "Converted: 0011.xml -> C:\\Users\\mtj02\\Desktop\\FinalProject_Group1\\Datasets\\LicensePlateDataset\\train\\0011.txt\n",
            "Converted: 0012.xml -> C:\\Users\\mtj02\\Desktop\\FinalProject_Group1\\Datasets\\LicensePlateDataset\\train\\0012.txt\n",
            "Converted: 0013.xml -> C:\\Users\\mtj02\\Desktop\\FinalProject_Group1\\Datasets\\LicensePlateDataset\\train\\0013.txt\n",
            "Converted: 0014.xml -> C:\\Users\\mtj02\\Desktop\\FinalProject_Group1\\Datasets\\LicensePlateDataset\\train\\0014.txt\n",
            "Converted: 0015.xml -> C:\\Users\\mtj02\\Desktop\\FinalProject_Group1\\Datasets\\LicensePlateDataset\\train\\0015.txt\n",
            "Converted: 0016.xml -> C:\\Users\\mtj02\\Desktop\\FinalProject_Group1\\Datasets\\LicensePlateDataset\\train\\0016.txt\n",
            "Converted: 0017.xml -> C:\\Users\\mtj02\\Desktop\\FinalProject_Group1\\Datasets\\LicensePlateDataset\\train\\0017.txt\n",
            "Converted: 0018.xml -> C:\\Users\\mtj02\\Desktop\\FinalProject_Group1\\Datasets\\LicensePlateDataset\\train\\0018.txt\n",
            "Converted: 0019.xml -> C:\\Users\\mtj02\\Desktop\\FinalProject_Group1\\Datasets\\LicensePlateDataset\\train\\0019.txt\n",
            "Converted: 0020.xml -> C:\\Users\\mtj02\\Desktop\\FinalProject_Group1\\Datasets\\LicensePlateDataset\\train\\0020.txt\n",
            "Converted: 0021.xml -> C:\\Users\\mtj02\\Desktop\\FinalProject_Group1\\Datasets\\LicensePlateDataset\\train\\0021.txt\n",
            "Converted: 0022.xml -> C:\\Users\\mtj02\\Desktop\\FinalProject_Group1\\Datasets\\LicensePlateDataset\\train\\0022.txt\n",
            "Converted: 0023.xml -> C:\\Users\\mtj02\\Desktop\\FinalProject_Group1\\Datasets\\LicensePlateDataset\\train\\0023.txt\n",
            "Converted: 0024.xml -> C:\\Users\\mtj02\\Desktop\\FinalProject_Group1\\Datasets\\LicensePlateDataset\\train\\0024.txt\n",
            "Converted: 0025.xml -> C:\\Users\\mtj02\\Desktop\\FinalProject_Group1\\Datasets\\LicensePlateDataset\\train\\0025.txt\n",
            "Converted: 0028.xml -> C:\\Users\\mtj02\\Desktop\\FinalProject_Group1\\Datasets\\LicensePlateDataset\\train\\0028.txt\n",
            "Converted: 0029.xml -> C:\\Users\\mtj02\\Desktop\\FinalProject_Group1\\Datasets\\LicensePlateDataset\\train\\0029.txt\n",
            "Converted: 0030.xml -> C:\\Users\\mtj02\\Desktop\\FinalProject_Group1\\Datasets\\LicensePlateDataset\\train\\0030.txt\n",
            "Converted: 0031.xml -> C:\\Users\\mtj02\\Desktop\\FinalProject_Group1\\Datasets\\LicensePlateDataset\\train\\0031.txt\n",
            "Converted: 0032.xml -> C:\\Users\\mtj02\\Desktop\\FinalProject_Group1\\Datasets\\LicensePlateDataset\\train\\0032.txt\n",
            "Converted: 0033.xml -> C:\\Users\\mtj02\\Desktop\\FinalProject_Group1\\Datasets\\LicensePlateDataset\\train\\0033.txt\n",
            "Converted: 0034.xml -> C:\\Users\\mtj02\\Desktop\\FinalProject_Group1\\Datasets\\LicensePlateDataset\\train\\0034.txt\n",
            "Converted: 0035.xml -> C:\\Users\\mtj02\\Desktop\\FinalProject_Group1\\Datasets\\LicensePlateDataset\\train\\0035.txt\n",
            "Converted: 0037.xml -> C:\\Users\\mtj02\\Desktop\\FinalProject_Group1\\Datasets\\LicensePlateDataset\\train\\0037.txt\n",
            "Converted: 0038.xml -> C:\\Users\\mtj02\\Desktop\\FinalProject_Group1\\Datasets\\LicensePlateDataset\\train\\0038.txt\n",
            "Converted: 0039.xml -> C:\\Users\\mtj02\\Desktop\\FinalProject_Group1\\Datasets\\LicensePlateDataset\\train\\0039.txt\n",
            "Converted: 0040.xml -> C:\\Users\\mtj02\\Desktop\\FinalProject_Group1\\Datasets\\LicensePlateDataset\\train\\0040.txt\n",
            "Converted: 0041.xml -> C:\\Users\\mtj02\\Desktop\\FinalProject_Group1\\Datasets\\LicensePlateDataset\\train\\0041.txt\n",
            "Converted: 0042.xml -> C:\\Users\\mtj02\\Desktop\\FinalProject_Group1\\Datasets\\LicensePlateDataset\\train\\0042.txt\n",
            "Converted: 0043.xml -> C:\\Users\\mtj02\\Desktop\\FinalProject_Group1\\Datasets\\LicensePlateDataset\\train\\0043.txt\n",
            "Converted: 0044.xml -> C:\\Users\\mtj02\\Desktop\\FinalProject_Group1\\Datasets\\LicensePlateDataset\\train\\0044.txt\n",
            "Converted: 0045.xml -> C:\\Users\\mtj02\\Desktop\\FinalProject_Group1\\Datasets\\LicensePlateDataset\\train\\0045.txt\n",
            "Converted: 0046.xml -> C:\\Users\\mtj02\\Desktop\\FinalProject_Group1\\Datasets\\LicensePlateDataset\\train\\0046.txt\n",
            "Converted: 0047.xml -> C:\\Users\\mtj02\\Desktop\\FinalProject_Group1\\Datasets\\LicensePlateDataset\\train\\0047.txt\n",
            "Converted: 0048.xml -> C:\\Users\\mtj02\\Desktop\\FinalProject_Group1\\Datasets\\LicensePlateDataset\\train\\0048.txt\n",
            "Converted: 0050.xml -> C:\\Users\\mtj02\\Desktop\\FinalProject_Group1\\Datasets\\LicensePlateDataset\\train\\0050.txt\n",
            "Converted: 0051.xml -> C:\\Users\\mtj02\\Desktop\\FinalProject_Group1\\Datasets\\LicensePlateDataset\\train\\0051.txt\n",
            "Converted: 0052.xml -> C:\\Users\\mtj02\\Desktop\\FinalProject_Group1\\Datasets\\LicensePlateDataset\\train\\0052.txt\n",
            "Converted: 0053.xml -> C:\\Users\\mtj02\\Desktop\\FinalProject_Group1\\Datasets\\LicensePlateDataset\\train\\0053.txt\n",
            "Converted: 0054.xml -> C:\\Users\\mtj02\\Desktop\\FinalProject_Group1\\Datasets\\LicensePlateDataset\\train\\0054.txt\n",
            "Converted: 0055.xml -> C:\\Users\\mtj02\\Desktop\\FinalProject_Group1\\Datasets\\LicensePlateDataset\\train\\0055.txt\n",
            "Converted: 0057.xml -> C:\\Users\\mtj02\\Desktop\\FinalProject_Group1\\Datasets\\LicensePlateDataset\\train\\0057.txt\n",
            "Converted: 0058.xml -> C:\\Users\\mtj02\\Desktop\\FinalProject_Group1\\Datasets\\LicensePlateDataset\\train\\0058.txt\n",
            "Converted: 0059.xml -> C:\\Users\\mtj02\\Desktop\\FinalProject_Group1\\Datasets\\LicensePlateDataset\\train\\0059.txt\n",
            "Converted: 0060.xml -> C:\\Users\\mtj02\\Desktop\\FinalProject_Group1\\Datasets\\LicensePlateDataset\\train\\0060.txt\n",
            "Converted: 0061.xml -> C:\\Users\\mtj02\\Desktop\\FinalProject_Group1\\Datasets\\LicensePlateDataset\\train\\0061.txt\n",
            "Converted: 0062.xml -> C:\\Users\\mtj02\\Desktop\\FinalProject_Group1\\Datasets\\LicensePlateDataset\\train\\0062.txt\n",
            "Converted: 0063.xml -> C:\\Users\\mtj02\\Desktop\\FinalProject_Group1\\Datasets\\LicensePlateDataset\\train\\0063.txt\n",
            "Converted: 0065.xml -> C:\\Users\\mtj02\\Desktop\\FinalProject_Group1\\Datasets\\LicensePlateDataset\\train\\0065.txt\n",
            "Converted: 0066.xml -> C:\\Users\\mtj02\\Desktop\\FinalProject_Group1\\Datasets\\LicensePlateDataset\\train\\0066.txt\n",
            "Converted: 0067.xml -> C:\\Users\\mtj02\\Desktop\\FinalProject_Group1\\Datasets\\LicensePlateDataset\\train\\0067.txt\n",
            "Converted: 0068.xml -> C:\\Users\\mtj02\\Desktop\\FinalProject_Group1\\Datasets\\LicensePlateDataset\\train\\0068.txt\n",
            "Converted: 0069.xml -> C:\\Users\\mtj02\\Desktop\\FinalProject_Group1\\Datasets\\LicensePlateDataset\\train\\0069.txt\n",
            "Converted: 0070.xml -> C:\\Users\\mtj02\\Desktop\\FinalProject_Group1\\Datasets\\LicensePlateDataset\\train\\0070.txt\n",
            "Converted: 0071.xml -> C:\\Users\\mtj02\\Desktop\\FinalProject_Group1\\Datasets\\LicensePlateDataset\\train\\0071.txt\n",
            "Converted: 0072.xml -> C:\\Users\\mtj02\\Desktop\\FinalProject_Group1\\Datasets\\LicensePlateDataset\\train\\0072.txt\n",
            "Converted: 0073.xml -> C:\\Users\\mtj02\\Desktop\\FinalProject_Group1\\Datasets\\LicensePlateDataset\\train\\0073.txt\n",
            "Converted: 0074.xml -> C:\\Users\\mtj02\\Desktop\\FinalProject_Group1\\Datasets\\LicensePlateDataset\\train\\0074.txt\n",
            "Converted: 0076.xml -> C:\\Users\\mtj02\\Desktop\\FinalProject_Group1\\Datasets\\LicensePlateDataset\\train\\0076.txt\n",
            "Converted: 0077.xml -> C:\\Users\\mtj02\\Desktop\\FinalProject_Group1\\Datasets\\LicensePlateDataset\\train\\0077.txt\n",
            "Converted: 0078.xml -> C:\\Users\\mtj02\\Desktop\\FinalProject_Group1\\Datasets\\LicensePlateDataset\\train\\0078.txt\n",
            "Converted: 0079.xml -> C:\\Users\\mtj02\\Desktop\\FinalProject_Group1\\Datasets\\LicensePlateDataset\\train\\0079.txt\n",
            "Converted: 0080.xml -> C:\\Users\\mtj02\\Desktop\\FinalProject_Group1\\Datasets\\LicensePlateDataset\\train\\0080.txt\n",
            "Converted: 0081.xml -> C:\\Users\\mtj02\\Desktop\\FinalProject_Group1\\Datasets\\LicensePlateDataset\\train\\0081.txt\n",
            "Converted: 0082.xml -> C:\\Users\\mtj02\\Desktop\\FinalProject_Group1\\Datasets\\LicensePlateDataset\\train\\0082.txt\n",
            "Converted: 0083.xml -> C:\\Users\\mtj02\\Desktop\\FinalProject_Group1\\Datasets\\LicensePlateDataset\\train\\0083.txt\n",
            "Converted: 0084.xml -> C:\\Users\\mtj02\\Desktop\\FinalProject_Group1\\Datasets\\LicensePlateDataset\\train\\0084.txt\n",
            "Converted: 0085.xml -> C:\\Users\\mtj02\\Desktop\\FinalProject_Group1\\Datasets\\LicensePlateDataset\\train\\0085.txt\n",
            "Converted: 0086.xml -> C:\\Users\\mtj02\\Desktop\\FinalProject_Group1\\Datasets\\LicensePlateDataset\\train\\0086.txt\n",
            "Converted: 0087.xml -> C:\\Users\\mtj02\\Desktop\\FinalProject_Group1\\Datasets\\LicensePlateDataset\\train\\0087.txt\n",
            "Converted: 0088.xml -> C:\\Users\\mtj02\\Desktop\\FinalProject_Group1\\Datasets\\LicensePlateDataset\\train\\0088.txt\n",
            "Converted: 0089.xml -> C:\\Users\\mtj02\\Desktop\\FinalProject_Group1\\Datasets\\LicensePlateDataset\\train\\0089.txt\n",
            "Converted: 0091.xml -> C:\\Users\\mtj02\\Desktop\\FinalProject_Group1\\Datasets\\LicensePlateDataset\\train\\0091.txt\n",
            "Converted: 0092.xml -> C:\\Users\\mtj02\\Desktop\\FinalProject_Group1\\Datasets\\LicensePlateDataset\\train\\0092.txt\n",
            "Converted: 0093.xml -> C:\\Users\\mtj02\\Desktop\\FinalProject_Group1\\Datasets\\LicensePlateDataset\\train\\0093.txt\n",
            "Converted: 0094.xml -> C:\\Users\\mtj02\\Desktop\\FinalProject_Group1\\Datasets\\LicensePlateDataset\\train\\0094.txt\n",
            "Converted: 0095.xml -> C:\\Users\\mtj02\\Desktop\\FinalProject_Group1\\Datasets\\LicensePlateDataset\\train\\0095.txt\n",
            "Converted: 0096.xml -> C:\\Users\\mtj02\\Desktop\\FinalProject_Group1\\Datasets\\LicensePlateDataset\\train\\0096.txt\n",
            "Converted: 0097.xml -> C:\\Users\\mtj02\\Desktop\\FinalProject_Group1\\Datasets\\LicensePlateDataset\\train\\0097.txt\n",
            "Converted: 0098.xml -> C:\\Users\\mtj02\\Desktop\\FinalProject_Group1\\Datasets\\LicensePlateDataset\\train\\0098.txt\n",
            "Converted: 0099.xml -> C:\\Users\\mtj02\\Desktop\\FinalProject_Group1\\Datasets\\LicensePlateDataset\\train\\0099.txt\n",
            "Converted: 0100.xml -> C:\\Users\\mtj02\\Desktop\\FinalProject_Group1\\Datasets\\LicensePlateDataset\\train\\0100.txt\n",
            "Converted: 0101.xml -> C:\\Users\\mtj02\\Desktop\\FinalProject_Group1\\Datasets\\LicensePlateDataset\\train\\0101.txt\n",
            "Converted: 0102.xml -> C:\\Users\\mtj02\\Desktop\\FinalProject_Group1\\Datasets\\LicensePlateDataset\\train\\0102.txt\n",
            "Converted: 0103.xml -> C:\\Users\\mtj02\\Desktop\\FinalProject_Group1\\Datasets\\LicensePlateDataset\\train\\0103.txt\n",
            "Converted: 0105.xml -> C:\\Users\\mtj02\\Desktop\\FinalProject_Group1\\Datasets\\LicensePlateDataset\\train\\0105.txt\n",
            "Converted: 0106.xml -> C:\\Users\\mtj02\\Desktop\\FinalProject_Group1\\Datasets\\LicensePlateDataset\\train\\0106.txt\n",
            "Converted: 0108.xml -> C:\\Users\\mtj02\\Desktop\\FinalProject_Group1\\Datasets\\LicensePlateDataset\\train\\0108.txt\n",
            "Converted: 0109.xml -> C:\\Users\\mtj02\\Desktop\\FinalProject_Group1\\Datasets\\LicensePlateDataset\\train\\0109.txt\n",
            "Converted: 0110.xml -> C:\\Users\\mtj02\\Desktop\\FinalProject_Group1\\Datasets\\LicensePlateDataset\\train\\0110.txt\n",
            "Converted: 0111.xml -> C:\\Users\\mtj02\\Desktop\\FinalProject_Group1\\Datasets\\LicensePlateDataset\\train\\0111.txt\n",
            "Converted: 0112.xml -> C:\\Users\\mtj02\\Desktop\\FinalProject_Group1\\Datasets\\LicensePlateDataset\\train\\0112.txt\n",
            "Converted: 0113.xml -> C:\\Users\\mtj02\\Desktop\\FinalProject_Group1\\Datasets\\LicensePlateDataset\\train\\0113.txt\n",
            "Converted: 0115.xml -> C:\\Users\\mtj02\\Desktop\\FinalProject_Group1\\Datasets\\LicensePlateDataset\\train\\0115.txt\n",
            "Converted: 0116.xml -> C:\\Users\\mtj02\\Desktop\\FinalProject_Group1\\Datasets\\LicensePlateDataset\\train\\0116.txt\n",
            "Converted: 0117.xml -> C:\\Users\\mtj02\\Desktop\\FinalProject_Group1\\Datasets\\LicensePlateDataset\\train\\0117.txt\n",
            "Converted: 0118.xml -> C:\\Users\\mtj02\\Desktop\\FinalProject_Group1\\Datasets\\LicensePlateDataset\\train\\0118.txt\n",
            "Converted: 0119.xml -> C:\\Users\\mtj02\\Desktop\\FinalProject_Group1\\Datasets\\LicensePlateDataset\\train\\0119.txt\n",
            "Converted: 0120.xml -> C:\\Users\\mtj02\\Desktop\\FinalProject_Group1\\Datasets\\LicensePlateDataset\\train\\0120.txt\n",
            "Converted: 0121.xml -> C:\\Users\\mtj02\\Desktop\\FinalProject_Group1\\Datasets\\LicensePlateDataset\\train\\0121.txt\n",
            "Converted: 0122.xml -> C:\\Users\\mtj02\\Desktop\\FinalProject_Group1\\Datasets\\LicensePlateDataset\\train\\0122.txt\n",
            "Converted: 0123.xml -> C:\\Users\\mtj02\\Desktop\\FinalProject_Group1\\Datasets\\LicensePlateDataset\\train\\0123.txt\n",
            "Converted: 0125.xml -> C:\\Users\\mtj02\\Desktop\\FinalProject_Group1\\Datasets\\LicensePlateDataset\\train\\0125.txt\n",
            "Converted: 0127.xml -> C:\\Users\\mtj02\\Desktop\\FinalProject_Group1\\Datasets\\LicensePlateDataset\\train\\0127.txt\n",
            "Converted: 0128.xml -> C:\\Users\\mtj02\\Desktop\\FinalProject_Group1\\Datasets\\LicensePlateDataset\\train\\0128.txt\n",
            "Converted: 0129.xml -> C:\\Users\\mtj02\\Desktop\\FinalProject_Group1\\Datasets\\LicensePlateDataset\\train\\0129.txt\n",
            "Converted: 0130.xml -> C:\\Users\\mtj02\\Desktop\\FinalProject_Group1\\Datasets\\LicensePlateDataset\\train\\0130.txt\n",
            "Converted: 0131.xml -> C:\\Users\\mtj02\\Desktop\\FinalProject_Group1\\Datasets\\LicensePlateDataset\\train\\0131.txt\n",
            "Converted: 0132.xml -> C:\\Users\\mtj02\\Desktop\\FinalProject_Group1\\Datasets\\LicensePlateDataset\\train\\0132.txt\n",
            "Converted: 0133.xml -> C:\\Users\\mtj02\\Desktop\\FinalProject_Group1\\Datasets\\LicensePlateDataset\\train\\0133.txt\n",
            "Converted: 0134.xml -> C:\\Users\\mtj02\\Desktop\\FinalProject_Group1\\Datasets\\LicensePlateDataset\\train\\0134.txt\n",
            "Converted: 0135.xml -> C:\\Users\\mtj02\\Desktop\\FinalProject_Group1\\Datasets\\LicensePlateDataset\\train\\0135.txt\n",
            "Converted: 0136.xml -> C:\\Users\\mtj02\\Desktop\\FinalProject_Group1\\Datasets\\LicensePlateDataset\\train\\0136.txt\n",
            "Converted: 0137.xml -> C:\\Users\\mtj02\\Desktop\\FinalProject_Group1\\Datasets\\LicensePlateDataset\\train\\0137.txt\n",
            "Converted: 0138.xml -> C:\\Users\\mtj02\\Desktop\\FinalProject_Group1\\Datasets\\LicensePlateDataset\\train\\0138.txt\n",
            "Converted: 0139.xml -> C:\\Users\\mtj02\\Desktop\\FinalProject_Group1\\Datasets\\LicensePlateDataset\\train\\0139.txt\n",
            "Converted: 0140.xml -> C:\\Users\\mtj02\\Desktop\\FinalProject_Group1\\Datasets\\LicensePlateDataset\\train\\0140.txt\n",
            "Converted: 0141.xml -> C:\\Users\\mtj02\\Desktop\\FinalProject_Group1\\Datasets\\LicensePlateDataset\\train\\0141.txt\n",
            "Converted: 0142.xml -> C:\\Users\\mtj02\\Desktop\\FinalProject_Group1\\Datasets\\LicensePlateDataset\\train\\0142.txt\n",
            "Converted: 0143.xml -> C:\\Users\\mtj02\\Desktop\\FinalProject_Group1\\Datasets\\LicensePlateDataset\\train\\0143.txt\n",
            "Converted: 0144.xml -> C:\\Users\\mtj02\\Desktop\\FinalProject_Group1\\Datasets\\LicensePlateDataset\\train\\0144.txt\n",
            "Converted: 0145.xml -> C:\\Users\\mtj02\\Desktop\\FinalProject_Group1\\Datasets\\LicensePlateDataset\\train\\0145.txt\n",
            "Converted: 0146.xml -> C:\\Users\\mtj02\\Desktop\\FinalProject_Group1\\Datasets\\LicensePlateDataset\\train\\0146.txt\n",
            "Converted: 0147.xml -> C:\\Users\\mtj02\\Desktop\\FinalProject_Group1\\Datasets\\LicensePlateDataset\\train\\0147.txt\n",
            "Converted: 0148.xml -> C:\\Users\\mtj02\\Desktop\\FinalProject_Group1\\Datasets\\LicensePlateDataset\\train\\0148.txt\n",
            "Converted: 0149.xml -> C:\\Users\\mtj02\\Desktop\\FinalProject_Group1\\Datasets\\LicensePlateDataset\\train\\0149.txt\n",
            "Converted: 0150.xml -> C:\\Users\\mtj02\\Desktop\\FinalProject_Group1\\Datasets\\LicensePlateDataset\\train\\0150.txt\n",
            "Converted: 0151.xml -> C:\\Users\\mtj02\\Desktop\\FinalProject_Group1\\Datasets\\LicensePlateDataset\\train\\0151.txt\n",
            "Converted: 0152.xml -> C:\\Users\\mtj02\\Desktop\\FinalProject_Group1\\Datasets\\LicensePlateDataset\\train\\0152.txt\n",
            "Converted: 0154.xml -> C:\\Users\\mtj02\\Desktop\\FinalProject_Group1\\Datasets\\LicensePlateDataset\\train\\0154.txt\n",
            "Converted: 0155.xml -> C:\\Users\\mtj02\\Desktop\\FinalProject_Group1\\Datasets\\LicensePlateDataset\\train\\0155.txt\n",
            "Converted: 0156.xml -> C:\\Users\\mtj02\\Desktop\\FinalProject_Group1\\Datasets\\LicensePlateDataset\\train\\0156.txt\n",
            "Converted: 0159.xml -> C:\\Users\\mtj02\\Desktop\\FinalProject_Group1\\Datasets\\LicensePlateDataset\\train\\0159.txt\n",
            "Converted: 0160.xml -> C:\\Users\\mtj02\\Desktop\\FinalProject_Group1\\Datasets\\LicensePlateDataset\\train\\0160.txt\n",
            "Converted: 0161.xml -> C:\\Users\\mtj02\\Desktop\\FinalProject_Group1\\Datasets\\LicensePlateDataset\\train\\0161.txt\n",
            "Converted: 0162.xml -> C:\\Users\\mtj02\\Desktop\\FinalProject_Group1\\Datasets\\LicensePlateDataset\\train\\0162.txt\n",
            "Converted: 0163.xml -> C:\\Users\\mtj02\\Desktop\\FinalProject_Group1\\Datasets\\LicensePlateDataset\\train\\0163.txt\n",
            "Converted: 0164.xml -> C:\\Users\\mtj02\\Desktop\\FinalProject_Group1\\Datasets\\LicensePlateDataset\\train\\0164.txt\n",
            "Converted: 0167.xml -> C:\\Users\\mtj02\\Desktop\\FinalProject_Group1\\Datasets\\LicensePlateDataset\\train\\0167.txt\n",
            "Converted: 0168.xml -> C:\\Users\\mtj02\\Desktop\\FinalProject_Group1\\Datasets\\LicensePlateDataset\\train\\0168.txt\n",
            "Converted: 0169.xml -> C:\\Users\\mtj02\\Desktop\\FinalProject_Group1\\Datasets\\LicensePlateDataset\\train\\0169.txt\n",
            "Converted: 0170.xml -> C:\\Users\\mtj02\\Desktop\\FinalProject_Group1\\Datasets\\LicensePlateDataset\\train\\0170.txt\n",
            "Converted: 0171.xml -> C:\\Users\\mtj02\\Desktop\\FinalProject_Group1\\Datasets\\LicensePlateDataset\\train\\0171.txt\n",
            "Converted: 0172.xml -> C:\\Users\\mtj02\\Desktop\\FinalProject_Group1\\Datasets\\LicensePlateDataset\\train\\0172.txt\n",
            "Converted: 0173.xml -> C:\\Users\\mtj02\\Desktop\\FinalProject_Group1\\Datasets\\LicensePlateDataset\\train\\0173.txt\n",
            "Converted: 0174.xml -> C:\\Users\\mtj02\\Desktop\\FinalProject_Group1\\Datasets\\LicensePlateDataset\\train\\0174.txt\n",
            "Converted: 0176.xml -> C:\\Users\\mtj02\\Desktop\\FinalProject_Group1\\Datasets\\LicensePlateDataset\\train\\0176.txt\n",
            "Converted: 0177.xml -> C:\\Users\\mtj02\\Desktop\\FinalProject_Group1\\Datasets\\LicensePlateDataset\\train\\0177.txt\n",
            "Converted: 0178.xml -> C:\\Users\\mtj02\\Desktop\\FinalProject_Group1\\Datasets\\LicensePlateDataset\\train\\0178.txt\n",
            "Converted: 0179.xml -> C:\\Users\\mtj02\\Desktop\\FinalProject_Group1\\Datasets\\LicensePlateDataset\\train\\0179.txt\n",
            "Converted: 0181.xml -> C:\\Users\\mtj02\\Desktop\\FinalProject_Group1\\Datasets\\LicensePlateDataset\\train\\0181.txt\n",
            "Converted: 0183.xml -> C:\\Users\\mtj02\\Desktop\\FinalProject_Group1\\Datasets\\LicensePlateDataset\\train\\0183.txt\n",
            "Converted: 0184.xml -> C:\\Users\\mtj02\\Desktop\\FinalProject_Group1\\Datasets\\LicensePlateDataset\\train\\0184.txt\n",
            "Converted: 0185.xml -> C:\\Users\\mtj02\\Desktop\\FinalProject_Group1\\Datasets\\LicensePlateDataset\\train\\0185.txt\n",
            "Converted: 0186.xml -> C:\\Users\\mtj02\\Desktop\\FinalProject_Group1\\Datasets\\LicensePlateDataset\\train\\0186.txt\n",
            "Converted: 0187.xml -> C:\\Users\\mtj02\\Desktop\\FinalProject_Group1\\Datasets\\LicensePlateDataset\\train\\0187.txt\n",
            "Converted: 0188.xml -> C:\\Users\\mtj02\\Desktop\\FinalProject_Group1\\Datasets\\LicensePlateDataset\\train\\0188.txt\n",
            "Converted: 0189.xml -> C:\\Users\\mtj02\\Desktop\\FinalProject_Group1\\Datasets\\LicensePlateDataset\\train\\0189.txt\n",
            "Converted: 0190.xml -> C:\\Users\\mtj02\\Desktop\\FinalProject_Group1\\Datasets\\LicensePlateDataset\\val\\0190.txt\n",
            "Converted: 0191.xml -> C:\\Users\\mtj02\\Desktop\\FinalProject_Group1\\Datasets\\LicensePlateDataset\\val\\0191.txt\n",
            "Converted: 0192.xml -> C:\\Users\\mtj02\\Desktop\\FinalProject_Group1\\Datasets\\LicensePlateDataset\\val\\0192.txt\n",
            "Converted: 0193.xml -> C:\\Users\\mtj02\\Desktop\\FinalProject_Group1\\Datasets\\LicensePlateDataset\\val\\0193.txt\n",
            "Converted: 0195.xml -> C:\\Users\\mtj02\\Desktop\\FinalProject_Group1\\Datasets\\LicensePlateDataset\\val\\0195.txt\n",
            "Converted: 0198.xml -> C:\\Users\\mtj02\\Desktop\\FinalProject_Group1\\Datasets\\LicensePlateDataset\\val\\0198.txt\n",
            "Converted: 0199.xml -> C:\\Users\\mtj02\\Desktop\\FinalProject_Group1\\Datasets\\LicensePlateDataset\\val\\0199.txt\n",
            "Converted: 0201.xml -> C:\\Users\\mtj02\\Desktop\\FinalProject_Group1\\Datasets\\LicensePlateDataset\\val\\0201.txt\n",
            "Converted: 0202.xml -> C:\\Users\\mtj02\\Desktop\\FinalProject_Group1\\Datasets\\LicensePlateDataset\\val\\0202.txt\n",
            "Converted: 0203.xml -> C:\\Users\\mtj02\\Desktop\\FinalProject_Group1\\Datasets\\LicensePlateDataset\\val\\0203.txt\n",
            "Converted: 0204.xml -> C:\\Users\\mtj02\\Desktop\\FinalProject_Group1\\Datasets\\LicensePlateDataset\\val\\0204.txt\n",
            "Converted: 0205.xml -> C:\\Users\\mtj02\\Desktop\\FinalProject_Group1\\Datasets\\LicensePlateDataset\\val\\0205.txt\n",
            "Converted: 0206.xml -> C:\\Users\\mtj02\\Desktop\\FinalProject_Group1\\Datasets\\LicensePlateDataset\\val\\0206.txt\n",
            "Converted: 0207.xml -> C:\\Users\\mtj02\\Desktop\\FinalProject_Group1\\Datasets\\LicensePlateDataset\\val\\0207.txt\n",
            "Converted: 0208.xml -> C:\\Users\\mtj02\\Desktop\\FinalProject_Group1\\Datasets\\LicensePlateDataset\\val\\0208.txt\n",
            "Converted: 0209.xml -> C:\\Users\\mtj02\\Desktop\\FinalProject_Group1\\Datasets\\LicensePlateDataset\\val\\0209.txt\n",
            "Converted: 0210.xml -> C:\\Users\\mtj02\\Desktop\\FinalProject_Group1\\Datasets\\LicensePlateDataset\\val\\0210.txt\n",
            "Converted: 0211.xml -> C:\\Users\\mtj02\\Desktop\\FinalProject_Group1\\Datasets\\LicensePlateDataset\\val\\0211.txt\n",
            "Converted: 0212.xml -> C:\\Users\\mtj02\\Desktop\\FinalProject_Group1\\Datasets\\LicensePlateDataset\\val\\0212.txt\n",
            "Converted: 0213.xml -> C:\\Users\\mtj02\\Desktop\\FinalProject_Group1\\Datasets\\LicensePlateDataset\\val\\0213.txt\n",
            "Converted: 0214.xml -> C:\\Users\\mtj02\\Desktop\\FinalProject_Group1\\Datasets\\LicensePlateDataset\\val\\0214.txt\n",
            "Converted: 0215.xml -> C:\\Users\\mtj02\\Desktop\\FinalProject_Group1\\Datasets\\LicensePlateDataset\\val\\0215.txt\n",
            "Converted: 0216.xml -> C:\\Users\\mtj02\\Desktop\\FinalProject_Group1\\Datasets\\LicensePlateDataset\\val\\0216.txt\n",
            "Converted: 0217.xml -> C:\\Users\\mtj02\\Desktop\\FinalProject_Group1\\Datasets\\LicensePlateDataset\\val\\0217.txt\n",
            "Converted: 0218.xml -> C:\\Users\\mtj02\\Desktop\\FinalProject_Group1\\Datasets\\LicensePlateDataset\\val\\0218.txt\n",
            "Converted: 0219.xml -> C:\\Users\\mtj02\\Desktop\\FinalProject_Group1\\Datasets\\LicensePlateDataset\\val\\0219.txt\n",
            "Converted: 0220.xml -> C:\\Users\\mtj02\\Desktop\\FinalProject_Group1\\Datasets\\LicensePlateDataset\\val\\0220.txt\n",
            "Converted: 0221.xml -> C:\\Users\\mtj02\\Desktop\\FinalProject_Group1\\Datasets\\LicensePlateDataset\\val\\0221.txt\n",
            "Converted: 0222.xml -> C:\\Users\\mtj02\\Desktop\\FinalProject_Group1\\Datasets\\LicensePlateDataset\\val\\0222.txt\n",
            "Converted: 0223.xml -> C:\\Users\\mtj02\\Desktop\\FinalProject_Group1\\Datasets\\LicensePlateDataset\\val\\0223.txt\n",
            "Converted: 0224.xml -> C:\\Users\\mtj02\\Desktop\\FinalProject_Group1\\Datasets\\LicensePlateDataset\\val\\0224.txt\n",
            "Converted: 0226.xml -> C:\\Users\\mtj02\\Desktop\\FinalProject_Group1\\Datasets\\LicensePlateDataset\\val\\0226.txt\n",
            "Converted: 0227.xml -> C:\\Users\\mtj02\\Desktop\\FinalProject_Group1\\Datasets\\LicensePlateDataset\\val\\0227.txt\n",
            "Converted: 0228.xml -> C:\\Users\\mtj02\\Desktop\\FinalProject_Group1\\Datasets\\LicensePlateDataset\\val\\0228.txt\n",
            "Converted: 0229.xml -> C:\\Users\\mtj02\\Desktop\\FinalProject_Group1\\Datasets\\LicensePlateDataset\\val\\0229.txt\n",
            "Converted: 0230.xml -> C:\\Users\\mtj02\\Desktop\\FinalProject_Group1\\Datasets\\LicensePlateDataset\\val\\0230.txt\n",
            "Converted: 0231.xml -> C:\\Users\\mtj02\\Desktop\\FinalProject_Group1\\Datasets\\LicensePlateDataset\\val\\0231.txt\n",
            "Converted: 0232.xml -> C:\\Users\\mtj02\\Desktop\\FinalProject_Group1\\Datasets\\LicensePlateDataset\\val\\0232.txt\n",
            "Converted: 0233.xml -> C:\\Users\\mtj02\\Desktop\\FinalProject_Group1\\Datasets\\LicensePlateDataset\\val\\0233.txt\n",
            "Converted: 0234.xml -> C:\\Users\\mtj02\\Desktop\\FinalProject_Group1\\Datasets\\LicensePlateDataset\\val\\0234.txt\n",
            "Converted: 0235.xml -> C:\\Users\\mtj02\\Desktop\\FinalProject_Group1\\Datasets\\LicensePlateDataset\\val\\0235.txt\n",
            "Converted: 0236.xml -> C:\\Users\\mtj02\\Desktop\\FinalProject_Group1\\Datasets\\LicensePlateDataset\\val\\0236.txt\n"
          ]
        }
      ]
    },
    {
      "cell_type": "markdown",
      "source": [
        "# License plate character recognition using YOLO"
      ],
      "metadata": {
        "id": "r1w7xtpTBg1x"
      }
    },
    {
      "cell_type": "code",
      "source": [
        "%pip install ultralytics\n",
        "import ultralytics\n",
        "ultralytics.checks()"
      ],
      "metadata": {
        "colab": {
          "base_uri": "https://localhost:8080/"
        },
        "id": "sy_99pViEpVj",
        "outputId": "cbebb98b-3544-4894-b18e-e725cd58dbfd"
      },
      "execution_count": 2,
      "outputs": [
        {
          "output_type": "stream",
          "name": "stdout",
          "text": [
            "Ultralytics 8.3.47  Python-3.12.6 torch-2.5.1+cu118 CUDA:0 (NVIDIA GeForce RTX 4090, 24564MiB)\n",
            "Setup complete  (32 CPUs, 31.7 GB RAM, 372.2/930.7 GB disk)\n"
          ]
        }
      ]
    },
    {
      "cell_type": "code",
      "source": [
        "from ultralytics import YOLO"
      ],
      "metadata": {
        "id": "XYhDJZ9kE0Kp"
      },
      "execution_count": 3,
      "outputs": []
    },
    {
      "cell_type": "code",
      "source": [
        "model = YOLO('yolov8s.pt') # pretrained model"
      ],
      "metadata": {
        "id": "34An_ppPE4Lb"
      },
      "execution_count": 4,
      "outputs": []
    },
    {
      "cell_type": "markdown",
      "source": [
        "**Test default model**"
      ],
      "metadata": {
        "id": "G9BdSTBqE78F"
      }
    },
    {
      "cell_type": "code",
      "source": [
        "%%writefile config.yaml\n",
        "path: C:\\Users\\mtj02\\Desktop\\FinalProject_Group1\\Datasets\\LicensePlateDataset\n",
        "train: C:\\Users\\mtj02\\Desktop\\FinalProject_Group1\\Datasets\\LicensePlateDataset\\images\\train\n",
        "val: C:\\Users\\mtj02\\Desktop\\FinalProject_Group1\\Datasets\\LicensePlateDataset\\images\\val\n",
        "\n",
        "# Classes\n",
        "nc: 36  # Number of classes (26 letters + 10 digits)\n",
        "\n",
        "# Class names\n",
        "names:\n",
        "  0: A\n",
        "  1: B\n",
        "  2: C\n",
        "  3: D\n",
        "  4: E\n",
        "  5: F\n",
        "  6: G\n",
        "  7: H\n",
        "  8: I\n",
        "  9: J\n",
        "  10: K\n",
        "  11: L\n",
        "  12: M\n",
        "  13: N\n",
        "  14: O\n",
        "  15: P\n",
        "  16: Q\n",
        "  17: R\n",
        "  18: S\n",
        "  19: T\n",
        "  20: U\n",
        "  21: V\n",
        "  22: W\n",
        "  23: X\n",
        "  24: Y\n",
        "  25: Z\n",
        "  26: 0\n",
        "  27: 1\n",
        "  28: 2\n",
        "  29: 3\n",
        "  30: 4\n",
        "  31: 5\n",
        "  32: 6\n",
        "  33: 7\n",
        "  34: 8\n",
        "  35: 9"
      ],
      "metadata": {
        "colab": {
          "base_uri": "https://localhost:8080/"
        },
        "id": "HtyPkRjqE9-V",
        "outputId": "aff9d2b1-3a88-4dea-c8d8-4a080ee37a29"
      },
      "execution_count": 5,
      "outputs": [
        {
          "output_type": "stream",
          "name": "stdout",
          "text": [
            "Overwriting config.yaml\n"
          ]
        }
      ]
    },
    {
      "cell_type": "code",
      "source": [
        "model.train(data=\"config.yaml\",epochs=5,patience=5,batch=8, lr0=0.0005,imgsz=640, name=\"default_training_run\")"
      ],
      "metadata": {
        "colab": {
          "base_uri": "https://localhost:8080/"
        },
        "collapsed": true,
        "id": "08mYrAClGJ51",
        "outputId": "5fc24bfa-4da9-4b42-f221-bb91583bca21"
      },
      "execution_count": 6,
      "outputs": [
        {
          "output_type": "stream",
          "name": "stdout",
          "text": [
            "New https://pypi.org/project/ultralytics/8.3.48 available  Update with 'pip install -U ultralytics'\n",
            "Ultralytics 8.3.47  Python-3.12.6 torch-2.5.1+cu118 CUDA:0 (NVIDIA GeForce RTX 4090, 24564MiB)\n",
            "\u001b[34m\u001b[1mengine\\trainer: \u001b[0mtask=detect, mode=train, model=yolov8s.pt, data=config.yaml, epochs=5, time=None, patience=5, batch=8, imgsz=640, save=True, save_period=-1, cache=False, device=None, workers=8, project=None, name=default_training_run3, exist_ok=False, pretrained=True, optimizer=auto, verbose=True, seed=0, deterministic=True, single_cls=False, rect=False, cos_lr=False, close_mosaic=10, resume=False, amp=True, fraction=1.0, profile=False, freeze=None, multi_scale=False, overlap_mask=True, mask_ratio=4, dropout=0.0, val=True, split=val, save_json=False, save_hybrid=False, conf=None, iou=0.7, max_det=300, half=False, dnn=False, plots=True, source=None, vid_stride=1, stream_buffer=False, visualize=False, augment=False, agnostic_nms=False, classes=None, retina_masks=False, embed=None, show=False, save_frames=False, save_txt=False, save_conf=False, save_crop=False, show_labels=True, show_conf=True, show_boxes=True, line_width=None, format=torchscript, keras=False, optimize=False, int8=False, dynamic=False, simplify=True, opset=None, workspace=None, nms=False, lr0=0.0005, lrf=0.01, momentum=0.937, weight_decay=0.0005, warmup_epochs=3.0, warmup_momentum=0.8, warmup_bias_lr=0.1, box=7.5, cls=0.5, dfl=1.5, pose=12.0, kobj=1.0, nbs=64, hsv_h=0.015, hsv_s=0.7, hsv_v=0.4, degrees=0.0, translate=0.1, scale=0.5, shear=0.0, perspective=0.0, flipud=0.0, fliplr=0.5, bgr=0.0, mosaic=1.0, mixup=0.0, copy_paste=0.0, copy_paste_mode=flip, auto_augment=randaugment, erasing=0.4, crop_fraction=1.0, cfg=None, tracker=botsort.yaml, save_dir=C:\\Users\\mtj02\\runs\\detect\\default_training_run3\n",
            "Overriding model.yaml nc=80 with nc=36\n",
            "\n",
            "                   from  n    params  module                                       arguments                     \n",
            "  0                  -1  1       928  ultralytics.nn.modules.conv.Conv             [3, 32, 3, 2]                 \n",
            "  1                  -1  1     18560  ultralytics.nn.modules.conv.Conv             [32, 64, 3, 2]                \n",
            "  2                  -1  1     29056  ultralytics.nn.modules.block.C2f             [64, 64, 1, True]             \n",
            "  3                  -1  1     73984  ultralytics.nn.modules.conv.Conv             [64, 128, 3, 2]               \n",
            "  4                  -1  2    197632  ultralytics.nn.modules.block.C2f             [128, 128, 2, True]           \n",
            "  5                  -1  1    295424  ultralytics.nn.modules.conv.Conv             [128, 256, 3, 2]              \n",
            "  6                  -1  2    788480  ultralytics.nn.modules.block.C2f             [256, 256, 2, True]           \n",
            "  7                  -1  1   1180672  ultralytics.nn.modules.conv.Conv             [256, 512, 3, 2]              \n",
            "  8                  -1  1   1838080  ultralytics.nn.modules.block.C2f             [512, 512, 1, True]           \n",
            "  9                  -1  1    656896  ultralytics.nn.modules.block.SPPF            [512, 512, 5]                 \n",
            " 10                  -1  1         0  torch.nn.modules.upsampling.Upsample         [None, 2, 'nearest']          \n",
            " 11             [-1, 6]  1         0  ultralytics.nn.modules.conv.Concat           [1]                           \n",
            " 12                  -1  1    591360  ultralytics.nn.modules.block.C2f             [768, 256, 1]                 \n",
            " 13                  -1  1         0  torch.nn.modules.upsampling.Upsample         [None, 2, 'nearest']          \n",
            " 14             [-1, 4]  1         0  ultralytics.nn.modules.conv.Concat           [1]                           \n",
            " 15                  -1  1    148224  ultralytics.nn.modules.block.C2f             [384, 128, 1]                 \n",
            " 16                  -1  1    147712  ultralytics.nn.modules.conv.Conv             [128, 128, 3, 2]              \n",
            " 17            [-1, 12]  1         0  ultralytics.nn.modules.conv.Concat           [1]                           \n",
            " 18                  -1  1    493056  ultralytics.nn.modules.block.C2f             [384, 256, 1]                 \n",
            " 19                  -1  1    590336  ultralytics.nn.modules.conv.Conv             [256, 256, 3, 2]              \n",
            " 20             [-1, 9]  1         0  ultralytics.nn.modules.conv.Concat           [1]                           \n",
            " 21                  -1  1   1969152  ultralytics.nn.modules.block.C2f             [768, 512, 1]                 \n",
            " 22        [15, 18, 21]  1   2129980  ultralytics.nn.modules.head.Detect           [36, [128, 256, 512]]         \n",
            "Model summary: 225 layers, 11,149,532 parameters, 11,149,516 gradients, 28.7 GFLOPs\n",
            "\n",
            "Transferred 349/355 items from pretrained weights\n",
            "\u001b[34m\u001b[1mTensorBoard: \u001b[0mStart with 'tensorboard --logdir C:\\Users\\mtj02\\runs\\detect\\default_training_run3', view at http://localhost:6006/\n",
            "Freezing layer 'model.22.dfl.conv.weight'\n",
            "\u001b[34m\u001b[1mAMP: \u001b[0mrunning Automatic Mixed Precision (AMP) checks...\n",
            "\u001b[34m\u001b[1mAMP: \u001b[0mchecks passed \n"
          ]
        },
        {
          "output_type": "stream",
          "name": "stderr",
          "text": [
            "\u001b[34m\u001b[1mtrain: \u001b[0mScanning C:\\Users\\mtj02\\Desktop\\FinalProject_Group1\\Datasets\\LicensePlateDataset\\labels\\train.cache... 167 image\u001b[0m\n",
            "\u001b[34m\u001b[1mval: \u001b[0mScanning C:\\Users\\mtj02\\Desktop\\FinalProject_Group1\\Datasets\\LicensePlateDataset\\labels\\val.cache... 42 images, 0 \u001b[0m\n"
          ]
        },
        {
          "output_type": "stream",
          "name": "stdout",
          "text": [
            "Plotting labels to C:\\Users\\mtj02\\runs\\detect\\default_training_run3\\labels.jpg... \n",
            "\u001b[34m\u001b[1moptimizer:\u001b[0m 'optimizer=auto' found, ignoring 'lr0=0.0005' and 'momentum=0.937' and determining best 'optimizer', 'lr0' and 'momentum' automatically... \n",
            "\u001b[34m\u001b[1moptimizer:\u001b[0m AdamW(lr=0.00025, momentum=0.9) with parameter groups 57 weight(decay=0.0), 64 weight(decay=0.0005), 63 bias(decay=0.0)\n",
            "\u001b[34m\u001b[1mTensorBoard: \u001b[0mmodel graph visualization added \n",
            "Image sizes 640 train, 640 val\n",
            "Using 8 dataloader workers\n",
            "Logging results to \u001b[1mC:\\Users\\mtj02\\runs\\detect\\default_training_run3\u001b[0m\n",
            "Starting training for 5 epochs...\n",
            "\n",
            "      Epoch    GPU_mem   box_loss   cls_loss   dfl_loss  Instances       Size\n"
          ]
        },
        {
          "output_type": "stream",
          "name": "stderr",
          "text": [
            "        1/5      2.28G      1.422      4.808      1.241        167        640: 100%|██████████| 21/21 [00:01<00:00, 11.\n",
            "                 Class     Images  Instances      Box(P          R      mAP50  mAP50-95): 100%|██████████| 3/3 [00:00<0"
          ]
        },
        {
          "output_type": "stream",
          "name": "stdout",
          "text": [
            "                   all         42        413     0.0219      0.308     0.0316     0.0187\n"
          ]
        },
        {
          "output_type": "stream",
          "name": "stderr",
          "text": [
            "\n"
          ]
        },
        {
          "output_type": "stream",
          "name": "stdout",
          "text": [
            "\n",
            "      Epoch    GPU_mem   box_loss   cls_loss   dfl_loss  Instances       Size\n"
          ]
        },
        {
          "output_type": "stream",
          "name": "stderr",
          "text": [
            "        2/5      2.12G      1.119      3.419      1.058        181        640: 100%|██████████| 21/21 [00:00<00:00, 22.\n",
            "                 Class     Images  Instances      Box(P          R      mAP50  mAP50-95): 100%|██████████| 3/3 [00:00<0"
          ]
        },
        {
          "output_type": "stream",
          "name": "stdout",
          "text": [
            "                   all         42        413      0.451      0.185     0.0979     0.0737\n"
          ]
        },
        {
          "output_type": "stream",
          "name": "stderr",
          "text": [
            "\n"
          ]
        },
        {
          "output_type": "stream",
          "name": "stdout",
          "text": [
            "\n",
            "      Epoch    GPU_mem   box_loss   cls_loss   dfl_loss  Instances       Size\n"
          ]
        },
        {
          "output_type": "stream",
          "name": "stderr",
          "text": [
            "        3/5      2.14G      1.005      2.686      1.022         87        640: 100%|██████████| 21/21 [00:00<00:00, 22.\n",
            "                 Class     Images  Instances      Box(P          R      mAP50  mAP50-95): 100%|██████████| 3/3 [00:00<0"
          ]
        },
        {
          "output_type": "stream",
          "name": "stdout",
          "text": [
            "                   all         42        413      0.376      0.305      0.195      0.147\n"
          ]
        },
        {
          "output_type": "stream",
          "name": "stderr",
          "text": [
            "\n"
          ]
        },
        {
          "output_type": "stream",
          "name": "stdout",
          "text": [
            "\n",
            "      Epoch    GPU_mem   box_loss   cls_loss   dfl_loss  Instances       Size\n"
          ]
        },
        {
          "output_type": "stream",
          "name": "stderr",
          "text": [
            "        4/5      2.07G      1.002      2.414      1.046        127        640: 100%|██████████| 21/21 [00:00<00:00, 23.\n",
            "                 Class     Images  Instances      Box(P          R      mAP50  mAP50-95): 100%|██████████| 3/3 [00:00<0"
          ]
        },
        {
          "output_type": "stream",
          "name": "stdout",
          "text": [
            "                   all         42        413      0.743      0.291      0.301      0.233\n"
          ]
        },
        {
          "output_type": "stream",
          "name": "stderr",
          "text": [
            "\n"
          ]
        },
        {
          "output_type": "stream",
          "name": "stdout",
          "text": [
            "\n",
            "      Epoch    GPU_mem   box_loss   cls_loss   dfl_loss  Instances       Size\n"
          ]
        },
        {
          "output_type": "stream",
          "name": "stderr",
          "text": [
            "        5/5      2.17G      1.005      2.248      1.015        166        640: 100%|██████████| 21/21 [00:00<00:00, 23.\n",
            "                 Class     Images  Instances      Box(P          R      mAP50  mAP50-95): 100%|██████████| 3/3 [00:00<0"
          ]
        },
        {
          "output_type": "stream",
          "name": "stdout",
          "text": [
            "                   all         42        413      0.687      0.327      0.346      0.268\n"
          ]
        },
        {
          "output_type": "stream",
          "name": "stderr",
          "text": [
            "\n"
          ]
        },
        {
          "output_type": "stream",
          "name": "stdout",
          "text": [
            "\n",
            "5 epochs completed in 0.003 hours.\n",
            "Optimizer stripped from C:\\Users\\mtj02\\runs\\detect\\default_training_run3\\weights\\last.pt, 22.5MB\n",
            "Optimizer stripped from C:\\Users\\mtj02\\runs\\detect\\default_training_run3\\weights\\best.pt, 22.5MB\n",
            "\n",
            "Validating C:\\Users\\mtj02\\runs\\detect\\default_training_run3\\weights\\best.pt...\n",
            "Ultralytics 8.3.47  Python-3.12.6 torch-2.5.1+cu118 CUDA:0 (NVIDIA GeForce RTX 4090, 24564MiB)\n",
            "Model summary (fused): 168 layers, 11,139,516 parameters, 0 gradients, 28.5 GFLOPs\n"
          ]
        },
        {
          "output_type": "stream",
          "name": "stderr",
          "text": [
            "                 Class     Images  Instances      Box(P          R      mAP50  mAP50-95): 100%|██████████| 3/3 [00:00<0\n"
          ]
        },
        {
          "output_type": "stream",
          "name": "stdout",
          "text": [
            "                   all         42        413      0.686      0.328      0.347      0.268\n",
            "                     A         11         13      0.609      0.538      0.435        0.3\n",
            "                     B         10         10      0.514        0.3      0.372      0.287\n",
            "                     C         12         12      0.204        0.5      0.392       0.33\n",
            "                     D          5          5          1          0     0.0214     0.0161\n",
            "                     E          7          8          0          0      0.175      0.145\n",
            "                     F          2          2          1          0     0.0115    0.00896\n",
            "                     H         27         29      0.469      0.759      0.625      0.465\n",
            "                     J          1          1          1          0          0          0\n",
            "                     K          6          6      0.409      0.833      0.778      0.546\n",
            "                     L          6          6      0.338      0.833      0.712      0.596\n",
            "                     M         21         21      0.487      0.667      0.628      0.469\n",
            "                     N         11         11          0          0      0.149      0.118\n",
            "                     O          2          2          1          0          0          0\n",
            "                     P          5          5          1          0    0.00927    0.00806\n",
            "                     Q          1          1          1          0    0.00809    0.00647\n",
            "                     R          6          7      0.937      0.286      0.414       0.37\n",
            "                     S          3          3          1          0     0.0267     0.0213\n",
            "                     T         15         15      0.467      0.667      0.618      0.494\n",
            "                     U          3          3          1          0     0.0823     0.0658\n",
            "                     V          1          1          1          0     0.0199     0.0179\n",
            "                     W          3          3          1          0     0.0188      0.015\n",
            "                     X          2          2          1          0     0.0407     0.0285\n",
            "                     Y          1          1          1          0    0.00427    0.00384\n",
            "                     Z          1          1          1          0          0          0\n",
            "                     0         26         36      0.755      0.857      0.784      0.598\n",
            "                     1         24         35      0.629      0.533      0.573      0.397\n",
            "                     2         20         27      0.834       0.56      0.697      0.541\n",
            "                     3         18         22      0.395      0.476      0.469      0.373\n",
            "                     4         23         29          1      0.308      0.652      0.491\n",
            "                     5         19         25      0.472      0.573      0.563      0.408\n",
            "                     6         16         22      0.392      0.818      0.755      0.578\n",
            "                     7          8         13      0.548      0.932      0.652      0.536\n",
            "                     8         15         19      0.533      0.602      0.666      0.551\n",
            "                     9         13         17       0.34      0.118      0.434       0.34\n",
            "Speed: 0.2ms preprocess, 0.5ms inference, 0.0ms loss, 2.5ms postprocess per image\n",
            "Results saved to \u001b[1mC:\\Users\\mtj02\\runs\\detect\\default_training_run3\u001b[0m\n"
          ]
        },
        {
          "output_type": "execute_result",
          "data": {
            "text/plain": [
              "ultralytics.utils.metrics.DetMetrics object with attributes:\n",
              "\n",
              "ap_class_index: array([ 0,  1,  2,  3,  4,  5,  7,  9, 10, 11, 12, 13, 14, 15, 16, 17, 18, 19, 20, 21, 22, 23, 24, 25, 26, 27, 28, 29, 30, 31, 32, 33, 34, 35])\n",
              "box: ultralytics.utils.metrics.Metric object\n",
              "confusion_matrix: <ultralytics.utils.metrics.ConfusionMatrix object at 0x000002719A4CAFC0>\n",
              "curves: ['Precision-Recall(B)', 'F1-Confidence(B)', 'Precision-Confidence(B)', 'Recall-Confidence(B)']\n",
              "curves_results: [[array([          0,    0.001001,    0.002002,    0.003003,    0.004004,    0.005005,    0.006006,    0.007007,    0.008008,    0.009009,     0.01001,    0.011011,    0.012012,    0.013013,    0.014014,    0.015015,    0.016016,    0.017017,    0.018018,    0.019019,     0.02002,    0.021021,    0.022022,    0.023023,\n",
              "          0.024024,    0.025025,    0.026026,    0.027027,    0.028028,    0.029029,     0.03003,    0.031031,    0.032032,    0.033033,    0.034034,    0.035035,    0.036036,    0.037037,    0.038038,    0.039039,     0.04004,    0.041041,    0.042042,    0.043043,    0.044044,    0.045045,    0.046046,    0.047047,\n",
              "          0.048048,    0.049049,     0.05005,    0.051051,    0.052052,    0.053053,    0.054054,    0.055055,    0.056056,    0.057057,    0.058058,    0.059059,     0.06006,    0.061061,    0.062062,    0.063063,    0.064064,    0.065065,    0.066066,    0.067067,    0.068068,    0.069069,     0.07007,    0.071071,\n",
              "          0.072072,    0.073073,    0.074074,    0.075075,    0.076076,    0.077077,    0.078078,    0.079079,     0.08008,    0.081081,    0.082082,    0.083083,    0.084084,    0.085085,    0.086086,    0.087087,    0.088088,    0.089089,     0.09009,    0.091091,    0.092092,    0.093093,    0.094094,    0.095095,\n",
              "          0.096096,    0.097097,    0.098098,    0.099099,      0.1001,      0.1011,      0.1021,      0.1031,      0.1041,     0.10511,     0.10611,     0.10711,     0.10811,     0.10911,     0.11011,     0.11111,     0.11211,     0.11311,     0.11411,     0.11512,     0.11612,     0.11712,     0.11812,     0.11912,\n",
              "           0.12012,     0.12112,     0.12212,     0.12312,     0.12412,     0.12513,     0.12613,     0.12713,     0.12813,     0.12913,     0.13013,     0.13113,     0.13213,     0.13313,     0.13413,     0.13514,     0.13614,     0.13714,     0.13814,     0.13914,     0.14014,     0.14114,     0.14214,     0.14314,\n",
              "           0.14414,     0.14515,     0.14615,     0.14715,     0.14815,     0.14915,     0.15015,     0.15115,     0.15215,     0.15315,     0.15415,     0.15516,     0.15616,     0.15716,     0.15816,     0.15916,     0.16016,     0.16116,     0.16216,     0.16316,     0.16416,     0.16517,     0.16617,     0.16717,\n",
              "           0.16817,     0.16917,     0.17017,     0.17117,     0.17217,     0.17317,     0.17417,     0.17518,     0.17618,     0.17718,     0.17818,     0.17918,     0.18018,     0.18118,     0.18218,     0.18318,     0.18418,     0.18519,     0.18619,     0.18719,     0.18819,     0.18919,     0.19019,     0.19119,\n",
              "           0.19219,     0.19319,     0.19419,      0.1952,      0.1962,      0.1972,      0.1982,      0.1992,      0.2002,      0.2012,      0.2022,      0.2032,      0.2042,     0.20521,     0.20621,     0.20721,     0.20821,     0.20921,     0.21021,     0.21121,     0.21221,     0.21321,     0.21421,     0.21522,\n",
              "           0.21622,     0.21722,     0.21822,     0.21922,     0.22022,     0.22122,     0.22222,     0.22322,     0.22422,     0.22523,     0.22623,     0.22723,     0.22823,     0.22923,     0.23023,     0.23123,     0.23223,     0.23323,     0.23423,     0.23524,     0.23624,     0.23724,     0.23824,     0.23924,\n",
              "           0.24024,     0.24124,     0.24224,     0.24324,     0.24424,     0.24525,     0.24625,     0.24725,     0.24825,     0.24925,     0.25025,     0.25125,     0.25225,     0.25325,     0.25425,     0.25526,     0.25626,     0.25726,     0.25826,     0.25926,     0.26026,     0.26126,     0.26226,     0.26326,\n",
              "           0.26426,     0.26527,     0.26627,     0.26727,     0.26827,     0.26927,     0.27027,     0.27127,     0.27227,     0.27327,     0.27427,     0.27528,     0.27628,     0.27728,     0.27828,     0.27928,     0.28028,     0.28128,     0.28228,     0.28328,     0.28428,     0.28529,     0.28629,     0.28729,\n",
              "           0.28829,     0.28929,     0.29029,     0.29129,     0.29229,     0.29329,     0.29429,      0.2953,      0.2963,      0.2973,      0.2983,      0.2993,      0.3003,      0.3013,      0.3023,      0.3033,      0.3043,     0.30531,     0.30631,     0.30731,     0.30831,     0.30931,     0.31031,     0.31131,\n",
              "           0.31231,     0.31331,     0.31431,     0.31532,     0.31632,     0.31732,     0.31832,     0.31932,     0.32032,     0.32132,     0.32232,     0.32332,     0.32432,     0.32533,     0.32633,     0.32733,     0.32833,     0.32933,     0.33033,     0.33133,     0.33233,     0.33333,     0.33433,     0.33534,\n",
              "           0.33634,     0.33734,     0.33834,     0.33934,     0.34034,     0.34134,     0.34234,     0.34334,     0.34434,     0.34535,     0.34635,     0.34735,     0.34835,     0.34935,     0.35035,     0.35135,     0.35235,     0.35335,     0.35435,     0.35536,     0.35636,     0.35736,     0.35836,     0.35936,\n",
              "           0.36036,     0.36136,     0.36236,     0.36336,     0.36436,     0.36537,     0.36637,     0.36737,     0.36837,     0.36937,     0.37037,     0.37137,     0.37237,     0.37337,     0.37437,     0.37538,     0.37638,     0.37738,     0.37838,     0.37938,     0.38038,     0.38138,     0.38238,     0.38338,\n",
              "           0.38438,     0.38539,     0.38639,     0.38739,     0.38839,     0.38939,     0.39039,     0.39139,     0.39239,     0.39339,     0.39439,      0.3954,      0.3964,      0.3974,      0.3984,      0.3994,      0.4004,      0.4014,      0.4024,      0.4034,      0.4044,     0.40541,     0.40641,     0.40741,\n",
              "           0.40841,     0.40941,     0.41041,     0.41141,     0.41241,     0.41341,     0.41441,     0.41542,     0.41642,     0.41742,     0.41842,     0.41942,     0.42042,     0.42142,     0.42242,     0.42342,     0.42442,     0.42543,     0.42643,     0.42743,     0.42843,     0.42943,     0.43043,     0.43143,\n",
              "           0.43243,     0.43343,     0.43443,     0.43544,     0.43644,     0.43744,     0.43844,     0.43944,     0.44044,     0.44144,     0.44244,     0.44344,     0.44444,     0.44545,     0.44645,     0.44745,     0.44845,     0.44945,     0.45045,     0.45145,     0.45245,     0.45345,     0.45445,     0.45546,\n",
              "           0.45646,     0.45746,     0.45846,     0.45946,     0.46046,     0.46146,     0.46246,     0.46346,     0.46446,     0.46547,     0.46647,     0.46747,     0.46847,     0.46947,     0.47047,     0.47147,     0.47247,     0.47347,     0.47447,     0.47548,     0.47648,     0.47748,     0.47848,     0.47948,\n",
              "           0.48048,     0.48148,     0.48248,     0.48348,     0.48448,     0.48549,     0.48649,     0.48749,     0.48849,     0.48949,     0.49049,     0.49149,     0.49249,     0.49349,     0.49449,      0.4955,      0.4965,      0.4975,      0.4985,      0.4995,      0.5005,      0.5015,      0.5025,      0.5035,\n",
              "            0.5045,     0.50551,     0.50651,     0.50751,     0.50851,     0.50951,     0.51051,     0.51151,     0.51251,     0.51351,     0.51451,     0.51552,     0.51652,     0.51752,     0.51852,     0.51952,     0.52052,     0.52152,     0.52252,     0.52352,     0.52452,     0.52553,     0.52653,     0.52753,\n",
              "           0.52853,     0.52953,     0.53053,     0.53153,     0.53253,     0.53353,     0.53453,     0.53554,     0.53654,     0.53754,     0.53854,     0.53954,     0.54054,     0.54154,     0.54254,     0.54354,     0.54454,     0.54555,     0.54655,     0.54755,     0.54855,     0.54955,     0.55055,     0.55155,\n",
              "           0.55255,     0.55355,     0.55455,     0.55556,     0.55656,     0.55756,     0.55856,     0.55956,     0.56056,     0.56156,     0.56256,     0.56356,     0.56456,     0.56557,     0.56657,     0.56757,     0.56857,     0.56957,     0.57057,     0.57157,     0.57257,     0.57357,     0.57457,     0.57558,\n",
              "           0.57658,     0.57758,     0.57858,     0.57958,     0.58058,     0.58158,     0.58258,     0.58358,     0.58458,     0.58559,     0.58659,     0.58759,     0.58859,     0.58959,     0.59059,     0.59159,     0.59259,     0.59359,     0.59459,      0.5956,      0.5966,      0.5976,      0.5986,      0.5996,\n",
              "            0.6006,      0.6016,      0.6026,      0.6036,      0.6046,     0.60561,     0.60661,     0.60761,     0.60861,     0.60961,     0.61061,     0.61161,     0.61261,     0.61361,     0.61461,     0.61562,     0.61662,     0.61762,     0.61862,     0.61962,     0.62062,     0.62162,     0.62262,     0.62362,\n",
              "           0.62462,     0.62563,     0.62663,     0.62763,     0.62863,     0.62963,     0.63063,     0.63163,     0.63263,     0.63363,     0.63463,     0.63564,     0.63664,     0.63764,     0.63864,     0.63964,     0.64064,     0.64164,     0.64264,     0.64364,     0.64464,     0.64565,     0.64665,     0.64765,\n",
              "           0.64865,     0.64965,     0.65065,     0.65165,     0.65265,     0.65365,     0.65465,     0.65566,     0.65666,     0.65766,     0.65866,     0.65966,     0.66066,     0.66166,     0.66266,     0.66366,     0.66466,     0.66567,     0.66667,     0.66767,     0.66867,     0.66967,     0.67067,     0.67167,\n",
              "           0.67267,     0.67367,     0.67467,     0.67568,     0.67668,     0.67768,     0.67868,     0.67968,     0.68068,     0.68168,     0.68268,     0.68368,     0.68468,     0.68569,     0.68669,     0.68769,     0.68869,     0.68969,     0.69069,     0.69169,     0.69269,     0.69369,     0.69469,      0.6957,\n",
              "            0.6967,      0.6977,      0.6987,      0.6997,      0.7007,      0.7017,      0.7027,      0.7037,      0.7047,     0.70571,     0.70671,     0.70771,     0.70871,     0.70971,     0.71071,     0.71171,     0.71271,     0.71371,     0.71471,     0.71572,     0.71672,     0.71772,     0.71872,     0.71972,\n",
              "           0.72072,     0.72172,     0.72272,     0.72372,     0.72472,     0.72573,     0.72673,     0.72773,     0.72873,     0.72973,     0.73073,     0.73173,     0.73273,     0.73373,     0.73473,     0.73574,     0.73674,     0.73774,     0.73874,     0.73974,     0.74074,     0.74174,     0.74274,     0.74374,\n",
              "           0.74474,     0.74575,     0.74675,     0.74775,     0.74875,     0.74975,     0.75075,     0.75175,     0.75275,     0.75375,     0.75475,     0.75576,     0.75676,     0.75776,     0.75876,     0.75976,     0.76076,     0.76176,     0.76276,     0.76376,     0.76476,     0.76577,     0.76677,     0.76777,\n",
              "           0.76877,     0.76977,     0.77077,     0.77177,     0.77277,     0.77377,     0.77477,     0.77578,     0.77678,     0.77778,     0.77878,     0.77978,     0.78078,     0.78178,     0.78278,     0.78378,     0.78478,     0.78579,     0.78679,     0.78779,     0.78879,     0.78979,     0.79079,     0.79179,\n",
              "           0.79279,     0.79379,     0.79479,      0.7958,      0.7968,      0.7978,      0.7988,      0.7998,      0.8008,      0.8018,      0.8028,      0.8038,      0.8048,     0.80581,     0.80681,     0.80781,     0.80881,     0.80981,     0.81081,     0.81181,     0.81281,     0.81381,     0.81481,     0.81582,\n",
              "           0.81682,     0.81782,     0.81882,     0.81982,     0.82082,     0.82182,     0.82282,     0.82382,     0.82482,     0.82583,     0.82683,     0.82783,     0.82883,     0.82983,     0.83083,     0.83183,     0.83283,     0.83383,     0.83483,     0.83584,     0.83684,     0.83784,     0.83884,     0.83984,\n",
              "           0.84084,     0.84184,     0.84284,     0.84384,     0.84484,     0.84585,     0.84685,     0.84785,     0.84885,     0.84985,     0.85085,     0.85185,     0.85285,     0.85385,     0.85485,     0.85586,     0.85686,     0.85786,     0.85886,     0.85986,     0.86086,     0.86186,     0.86286,     0.86386,\n",
              "           0.86486,     0.86587,     0.86687,     0.86787,     0.86887,     0.86987,     0.87087,     0.87187,     0.87287,     0.87387,     0.87487,     0.87588,     0.87688,     0.87788,     0.87888,     0.87988,     0.88088,     0.88188,     0.88288,     0.88388,     0.88488,     0.88589,     0.88689,     0.88789,\n",
              "           0.88889,     0.88989,     0.89089,     0.89189,     0.89289,     0.89389,     0.89489,      0.8959,      0.8969,      0.8979,      0.8989,      0.8999,      0.9009,      0.9019,      0.9029,      0.9039,      0.9049,     0.90591,     0.90691,     0.90791,     0.90891,     0.90991,     0.91091,     0.91191,\n",
              "           0.91291,     0.91391,     0.91491,     0.91592,     0.91692,     0.91792,     0.91892,     0.91992,     0.92092,     0.92192,     0.92292,     0.92392,     0.92492,     0.92593,     0.92693,     0.92793,     0.92893,     0.92993,     0.93093,     0.93193,     0.93293,     0.93393,     0.93493,     0.93594,\n",
              "           0.93694,     0.93794,     0.93894,     0.93994,     0.94094,     0.94194,     0.94294,     0.94394,     0.94494,     0.94595,     0.94695,     0.94795,     0.94895,     0.94995,     0.95095,     0.95195,     0.95295,     0.95395,     0.95495,     0.95596,     0.95696,     0.95796,     0.95896,     0.95996,\n",
              "           0.96096,     0.96196,     0.96296,     0.96396,     0.96496,     0.96597,     0.96697,     0.96797,     0.96897,     0.96997,     0.97097,     0.97197,     0.97297,     0.97397,     0.97497,     0.97598,     0.97698,     0.97798,     0.97898,     0.97998,     0.98098,     0.98198,     0.98298,     0.98398,\n",
              "           0.98498,     0.98599,     0.98699,     0.98799,     0.98899,     0.98999,     0.99099,     0.99199,     0.99299,     0.99399,     0.99499,       0.996,       0.997,       0.998,       0.999,           1]), array([[    0.66667,     0.66667,     0.66667, ...,    0.081761,    0.081761,           0],\n",
              "       [          1,           1,           1, ...,   0.0005775,  0.00028875,           0],\n",
              "       [          1,           1,           1, ...,    0.058537,    0.058537,           0],\n",
              "       ...,\n",
              "       [          1,           1,           1, ...,     0.56522,     0.56522,           0],\n",
              "       [          1,           1,           1, ...,     0.32203,     0.32203,           0],\n",
              "       [          1,           1,           1, ...,     0.16505,     0.16505,           0]]), 'Recall', 'Precision'], [array([          0,    0.001001,    0.002002,    0.003003,    0.004004,    0.005005,    0.006006,    0.007007,    0.008008,    0.009009,     0.01001,    0.011011,    0.012012,    0.013013,    0.014014,    0.015015,    0.016016,    0.017017,    0.018018,    0.019019,     0.02002,    0.021021,    0.022022,    0.023023,\n",
              "          0.024024,    0.025025,    0.026026,    0.027027,    0.028028,    0.029029,     0.03003,    0.031031,    0.032032,    0.033033,    0.034034,    0.035035,    0.036036,    0.037037,    0.038038,    0.039039,     0.04004,    0.041041,    0.042042,    0.043043,    0.044044,    0.045045,    0.046046,    0.047047,\n",
              "          0.048048,    0.049049,     0.05005,    0.051051,    0.052052,    0.053053,    0.054054,    0.055055,    0.056056,    0.057057,    0.058058,    0.059059,     0.06006,    0.061061,    0.062062,    0.063063,    0.064064,    0.065065,    0.066066,    0.067067,    0.068068,    0.069069,     0.07007,    0.071071,\n",
              "          0.072072,    0.073073,    0.074074,    0.075075,    0.076076,    0.077077,    0.078078,    0.079079,     0.08008,    0.081081,    0.082082,    0.083083,    0.084084,    0.085085,    0.086086,    0.087087,    0.088088,    0.089089,     0.09009,    0.091091,    0.092092,    0.093093,    0.094094,    0.095095,\n",
              "          0.096096,    0.097097,    0.098098,    0.099099,      0.1001,      0.1011,      0.1021,      0.1031,      0.1041,     0.10511,     0.10611,     0.10711,     0.10811,     0.10911,     0.11011,     0.11111,     0.11211,     0.11311,     0.11411,     0.11512,     0.11612,     0.11712,     0.11812,     0.11912,\n",
              "           0.12012,     0.12112,     0.12212,     0.12312,     0.12412,     0.12513,     0.12613,     0.12713,     0.12813,     0.12913,     0.13013,     0.13113,     0.13213,     0.13313,     0.13413,     0.13514,     0.13614,     0.13714,     0.13814,     0.13914,     0.14014,     0.14114,     0.14214,     0.14314,\n",
              "           0.14414,     0.14515,     0.14615,     0.14715,     0.14815,     0.14915,     0.15015,     0.15115,     0.15215,     0.15315,     0.15415,     0.15516,     0.15616,     0.15716,     0.15816,     0.15916,     0.16016,     0.16116,     0.16216,     0.16316,     0.16416,     0.16517,     0.16617,     0.16717,\n",
              "           0.16817,     0.16917,     0.17017,     0.17117,     0.17217,     0.17317,     0.17417,     0.17518,     0.17618,     0.17718,     0.17818,     0.17918,     0.18018,     0.18118,     0.18218,     0.18318,     0.18418,     0.18519,     0.18619,     0.18719,     0.18819,     0.18919,     0.19019,     0.19119,\n",
              "           0.19219,     0.19319,     0.19419,      0.1952,      0.1962,      0.1972,      0.1982,      0.1992,      0.2002,      0.2012,      0.2022,      0.2032,      0.2042,     0.20521,     0.20621,     0.20721,     0.20821,     0.20921,     0.21021,     0.21121,     0.21221,     0.21321,     0.21421,     0.21522,\n",
              "           0.21622,     0.21722,     0.21822,     0.21922,     0.22022,     0.22122,     0.22222,     0.22322,     0.22422,     0.22523,     0.22623,     0.22723,     0.22823,     0.22923,     0.23023,     0.23123,     0.23223,     0.23323,     0.23423,     0.23524,     0.23624,     0.23724,     0.23824,     0.23924,\n",
              "           0.24024,     0.24124,     0.24224,     0.24324,     0.24424,     0.24525,     0.24625,     0.24725,     0.24825,     0.24925,     0.25025,     0.25125,     0.25225,     0.25325,     0.25425,     0.25526,     0.25626,     0.25726,     0.25826,     0.25926,     0.26026,     0.26126,     0.26226,     0.26326,\n",
              "           0.26426,     0.26527,     0.26627,     0.26727,     0.26827,     0.26927,     0.27027,     0.27127,     0.27227,     0.27327,     0.27427,     0.27528,     0.27628,     0.27728,     0.27828,     0.27928,     0.28028,     0.28128,     0.28228,     0.28328,     0.28428,     0.28529,     0.28629,     0.28729,\n",
              "           0.28829,     0.28929,     0.29029,     0.29129,     0.29229,     0.29329,     0.29429,      0.2953,      0.2963,      0.2973,      0.2983,      0.2993,      0.3003,      0.3013,      0.3023,      0.3033,      0.3043,     0.30531,     0.30631,     0.30731,     0.30831,     0.30931,     0.31031,     0.31131,\n",
              "           0.31231,     0.31331,     0.31431,     0.31532,     0.31632,     0.31732,     0.31832,     0.31932,     0.32032,     0.32132,     0.32232,     0.32332,     0.32432,     0.32533,     0.32633,     0.32733,     0.32833,     0.32933,     0.33033,     0.33133,     0.33233,     0.33333,     0.33433,     0.33534,\n",
              "           0.33634,     0.33734,     0.33834,     0.33934,     0.34034,     0.34134,     0.34234,     0.34334,     0.34434,     0.34535,     0.34635,     0.34735,     0.34835,     0.34935,     0.35035,     0.35135,     0.35235,     0.35335,     0.35435,     0.35536,     0.35636,     0.35736,     0.35836,     0.35936,\n",
              "           0.36036,     0.36136,     0.36236,     0.36336,     0.36436,     0.36537,     0.36637,     0.36737,     0.36837,     0.36937,     0.37037,     0.37137,     0.37237,     0.37337,     0.37437,     0.37538,     0.37638,     0.37738,     0.37838,     0.37938,     0.38038,     0.38138,     0.38238,     0.38338,\n",
              "           0.38438,     0.38539,     0.38639,     0.38739,     0.38839,     0.38939,     0.39039,     0.39139,     0.39239,     0.39339,     0.39439,      0.3954,      0.3964,      0.3974,      0.3984,      0.3994,      0.4004,      0.4014,      0.4024,      0.4034,      0.4044,     0.40541,     0.40641,     0.40741,\n",
              "           0.40841,     0.40941,     0.41041,     0.41141,     0.41241,     0.41341,     0.41441,     0.41542,     0.41642,     0.41742,     0.41842,     0.41942,     0.42042,     0.42142,     0.42242,     0.42342,     0.42442,     0.42543,     0.42643,     0.42743,     0.42843,     0.42943,     0.43043,     0.43143,\n",
              "           0.43243,     0.43343,     0.43443,     0.43544,     0.43644,     0.43744,     0.43844,     0.43944,     0.44044,     0.44144,     0.44244,     0.44344,     0.44444,     0.44545,     0.44645,     0.44745,     0.44845,     0.44945,     0.45045,     0.45145,     0.45245,     0.45345,     0.45445,     0.45546,\n",
              "           0.45646,     0.45746,     0.45846,     0.45946,     0.46046,     0.46146,     0.46246,     0.46346,     0.46446,     0.46547,     0.46647,     0.46747,     0.46847,     0.46947,     0.47047,     0.47147,     0.47247,     0.47347,     0.47447,     0.47548,     0.47648,     0.47748,     0.47848,     0.47948,\n",
              "           0.48048,     0.48148,     0.48248,     0.48348,     0.48448,     0.48549,     0.48649,     0.48749,     0.48849,     0.48949,     0.49049,     0.49149,     0.49249,     0.49349,     0.49449,      0.4955,      0.4965,      0.4975,      0.4985,      0.4995,      0.5005,      0.5015,      0.5025,      0.5035,\n",
              "            0.5045,     0.50551,     0.50651,     0.50751,     0.50851,     0.50951,     0.51051,     0.51151,     0.51251,     0.51351,     0.51451,     0.51552,     0.51652,     0.51752,     0.51852,     0.51952,     0.52052,     0.52152,     0.52252,     0.52352,     0.52452,     0.52553,     0.52653,     0.52753,\n",
              "           0.52853,     0.52953,     0.53053,     0.53153,     0.53253,     0.53353,     0.53453,     0.53554,     0.53654,     0.53754,     0.53854,     0.53954,     0.54054,     0.54154,     0.54254,     0.54354,     0.54454,     0.54555,     0.54655,     0.54755,     0.54855,     0.54955,     0.55055,     0.55155,\n",
              "           0.55255,     0.55355,     0.55455,     0.55556,     0.55656,     0.55756,     0.55856,     0.55956,     0.56056,     0.56156,     0.56256,     0.56356,     0.56456,     0.56557,     0.56657,     0.56757,     0.56857,     0.56957,     0.57057,     0.57157,     0.57257,     0.57357,     0.57457,     0.57558,\n",
              "           0.57658,     0.57758,     0.57858,     0.57958,     0.58058,     0.58158,     0.58258,     0.58358,     0.58458,     0.58559,     0.58659,     0.58759,     0.58859,     0.58959,     0.59059,     0.59159,     0.59259,     0.59359,     0.59459,      0.5956,      0.5966,      0.5976,      0.5986,      0.5996,\n",
              "            0.6006,      0.6016,      0.6026,      0.6036,      0.6046,     0.60561,     0.60661,     0.60761,     0.60861,     0.60961,     0.61061,     0.61161,     0.61261,     0.61361,     0.61461,     0.61562,     0.61662,     0.61762,     0.61862,     0.61962,     0.62062,     0.62162,     0.62262,     0.62362,\n",
              "           0.62462,     0.62563,     0.62663,     0.62763,     0.62863,     0.62963,     0.63063,     0.63163,     0.63263,     0.63363,     0.63463,     0.63564,     0.63664,     0.63764,     0.63864,     0.63964,     0.64064,     0.64164,     0.64264,     0.64364,     0.64464,     0.64565,     0.64665,     0.64765,\n",
              "           0.64865,     0.64965,     0.65065,     0.65165,     0.65265,     0.65365,     0.65465,     0.65566,     0.65666,     0.65766,     0.65866,     0.65966,     0.66066,     0.66166,     0.66266,     0.66366,     0.66466,     0.66567,     0.66667,     0.66767,     0.66867,     0.66967,     0.67067,     0.67167,\n",
              "           0.67267,     0.67367,     0.67467,     0.67568,     0.67668,     0.67768,     0.67868,     0.67968,     0.68068,     0.68168,     0.68268,     0.68368,     0.68468,     0.68569,     0.68669,     0.68769,     0.68869,     0.68969,     0.69069,     0.69169,     0.69269,     0.69369,     0.69469,      0.6957,\n",
              "            0.6967,      0.6977,      0.6987,      0.6997,      0.7007,      0.7017,      0.7027,      0.7037,      0.7047,     0.70571,     0.70671,     0.70771,     0.70871,     0.70971,     0.71071,     0.71171,     0.71271,     0.71371,     0.71471,     0.71572,     0.71672,     0.71772,     0.71872,     0.71972,\n",
              "           0.72072,     0.72172,     0.72272,     0.72372,     0.72472,     0.72573,     0.72673,     0.72773,     0.72873,     0.72973,     0.73073,     0.73173,     0.73273,     0.73373,     0.73473,     0.73574,     0.73674,     0.73774,     0.73874,     0.73974,     0.74074,     0.74174,     0.74274,     0.74374,\n",
              "           0.74474,     0.74575,     0.74675,     0.74775,     0.74875,     0.74975,     0.75075,     0.75175,     0.75275,     0.75375,     0.75475,     0.75576,     0.75676,     0.75776,     0.75876,     0.75976,     0.76076,     0.76176,     0.76276,     0.76376,     0.76476,     0.76577,     0.76677,     0.76777,\n",
              "           0.76877,     0.76977,     0.77077,     0.77177,     0.77277,     0.77377,     0.77477,     0.77578,     0.77678,     0.77778,     0.77878,     0.77978,     0.78078,     0.78178,     0.78278,     0.78378,     0.78478,     0.78579,     0.78679,     0.78779,     0.78879,     0.78979,     0.79079,     0.79179,\n",
              "           0.79279,     0.79379,     0.79479,      0.7958,      0.7968,      0.7978,      0.7988,      0.7998,      0.8008,      0.8018,      0.8028,      0.8038,      0.8048,     0.80581,     0.80681,     0.80781,     0.80881,     0.80981,     0.81081,     0.81181,     0.81281,     0.81381,     0.81481,     0.81582,\n",
              "           0.81682,     0.81782,     0.81882,     0.81982,     0.82082,     0.82182,     0.82282,     0.82382,     0.82482,     0.82583,     0.82683,     0.82783,     0.82883,     0.82983,     0.83083,     0.83183,     0.83283,     0.83383,     0.83483,     0.83584,     0.83684,     0.83784,     0.83884,     0.83984,\n",
              "           0.84084,     0.84184,     0.84284,     0.84384,     0.84484,     0.84585,     0.84685,     0.84785,     0.84885,     0.84985,     0.85085,     0.85185,     0.85285,     0.85385,     0.85485,     0.85586,     0.85686,     0.85786,     0.85886,     0.85986,     0.86086,     0.86186,     0.86286,     0.86386,\n",
              "           0.86486,     0.86587,     0.86687,     0.86787,     0.86887,     0.86987,     0.87087,     0.87187,     0.87287,     0.87387,     0.87487,     0.87588,     0.87688,     0.87788,     0.87888,     0.87988,     0.88088,     0.88188,     0.88288,     0.88388,     0.88488,     0.88589,     0.88689,     0.88789,\n",
              "           0.88889,     0.88989,     0.89089,     0.89189,     0.89289,     0.89389,     0.89489,      0.8959,      0.8969,      0.8979,      0.8989,      0.8999,      0.9009,      0.9019,      0.9029,      0.9039,      0.9049,     0.90591,     0.90691,     0.90791,     0.90891,     0.90991,     0.91091,     0.91191,\n",
              "           0.91291,     0.91391,     0.91491,     0.91592,     0.91692,     0.91792,     0.91892,     0.91992,     0.92092,     0.92192,     0.92292,     0.92392,     0.92492,     0.92593,     0.92693,     0.92793,     0.92893,     0.92993,     0.93093,     0.93193,     0.93293,     0.93393,     0.93493,     0.93594,\n",
              "           0.93694,     0.93794,     0.93894,     0.93994,     0.94094,     0.94194,     0.94294,     0.94394,     0.94494,     0.94595,     0.94695,     0.94795,     0.94895,     0.94995,     0.95095,     0.95195,     0.95295,     0.95395,     0.95495,     0.95596,     0.95696,     0.95796,     0.95896,     0.95996,\n",
              "           0.96096,     0.96196,     0.96296,     0.96396,     0.96496,     0.96597,     0.96697,     0.96797,     0.96897,     0.96997,     0.97097,     0.97197,     0.97297,     0.97397,     0.97497,     0.97598,     0.97698,     0.97798,     0.97898,     0.97998,     0.98098,     0.98198,     0.98298,     0.98398,\n",
              "           0.98498,     0.98599,     0.98699,     0.98799,     0.98899,     0.98999,     0.99099,     0.99199,     0.99299,     0.99399,     0.99499,       0.996,       0.997,       0.998,       0.999,           1]), array([[   0.055085,    0.055085,    0.055085, ...,           0,           0,           0],\n",
              "       [   0.055901,    0.055901,    0.055901, ...,           0,           0,           0],\n",
              "       [   0.078947,    0.078947,    0.078947, ...,           0,           0,           0],\n",
              "       ...,\n",
              "       [    0.06235,     0.06235,     0.06235, ...,           0,           0,           0],\n",
              "       [    0.11801,     0.11801,     0.11801, ...,           0,           0,           0],\n",
              "       [   0.083538,    0.083538,    0.083538, ...,           0,           0,           0]]), 'Confidence', 'F1'], [array([          0,    0.001001,    0.002002,    0.003003,    0.004004,    0.005005,    0.006006,    0.007007,    0.008008,    0.009009,     0.01001,    0.011011,    0.012012,    0.013013,    0.014014,    0.015015,    0.016016,    0.017017,    0.018018,    0.019019,     0.02002,    0.021021,    0.022022,    0.023023,\n",
              "          0.024024,    0.025025,    0.026026,    0.027027,    0.028028,    0.029029,     0.03003,    0.031031,    0.032032,    0.033033,    0.034034,    0.035035,    0.036036,    0.037037,    0.038038,    0.039039,     0.04004,    0.041041,    0.042042,    0.043043,    0.044044,    0.045045,    0.046046,    0.047047,\n",
              "          0.048048,    0.049049,     0.05005,    0.051051,    0.052052,    0.053053,    0.054054,    0.055055,    0.056056,    0.057057,    0.058058,    0.059059,     0.06006,    0.061061,    0.062062,    0.063063,    0.064064,    0.065065,    0.066066,    0.067067,    0.068068,    0.069069,     0.07007,    0.071071,\n",
              "          0.072072,    0.073073,    0.074074,    0.075075,    0.076076,    0.077077,    0.078078,    0.079079,     0.08008,    0.081081,    0.082082,    0.083083,    0.084084,    0.085085,    0.086086,    0.087087,    0.088088,    0.089089,     0.09009,    0.091091,    0.092092,    0.093093,    0.094094,    0.095095,\n",
              "          0.096096,    0.097097,    0.098098,    0.099099,      0.1001,      0.1011,      0.1021,      0.1031,      0.1041,     0.10511,     0.10611,     0.10711,     0.10811,     0.10911,     0.11011,     0.11111,     0.11211,     0.11311,     0.11411,     0.11512,     0.11612,     0.11712,     0.11812,     0.11912,\n",
              "           0.12012,     0.12112,     0.12212,     0.12312,     0.12412,     0.12513,     0.12613,     0.12713,     0.12813,     0.12913,     0.13013,     0.13113,     0.13213,     0.13313,     0.13413,     0.13514,     0.13614,     0.13714,     0.13814,     0.13914,     0.14014,     0.14114,     0.14214,     0.14314,\n",
              "           0.14414,     0.14515,     0.14615,     0.14715,     0.14815,     0.14915,     0.15015,     0.15115,     0.15215,     0.15315,     0.15415,     0.15516,     0.15616,     0.15716,     0.15816,     0.15916,     0.16016,     0.16116,     0.16216,     0.16316,     0.16416,     0.16517,     0.16617,     0.16717,\n",
              "           0.16817,     0.16917,     0.17017,     0.17117,     0.17217,     0.17317,     0.17417,     0.17518,     0.17618,     0.17718,     0.17818,     0.17918,     0.18018,     0.18118,     0.18218,     0.18318,     0.18418,     0.18519,     0.18619,     0.18719,     0.18819,     0.18919,     0.19019,     0.19119,\n",
              "           0.19219,     0.19319,     0.19419,      0.1952,      0.1962,      0.1972,      0.1982,      0.1992,      0.2002,      0.2012,      0.2022,      0.2032,      0.2042,     0.20521,     0.20621,     0.20721,     0.20821,     0.20921,     0.21021,     0.21121,     0.21221,     0.21321,     0.21421,     0.21522,\n",
              "           0.21622,     0.21722,     0.21822,     0.21922,     0.22022,     0.22122,     0.22222,     0.22322,     0.22422,     0.22523,     0.22623,     0.22723,     0.22823,     0.22923,     0.23023,     0.23123,     0.23223,     0.23323,     0.23423,     0.23524,     0.23624,     0.23724,     0.23824,     0.23924,\n",
              "           0.24024,     0.24124,     0.24224,     0.24324,     0.24424,     0.24525,     0.24625,     0.24725,     0.24825,     0.24925,     0.25025,     0.25125,     0.25225,     0.25325,     0.25425,     0.25526,     0.25626,     0.25726,     0.25826,     0.25926,     0.26026,     0.26126,     0.26226,     0.26326,\n",
              "           0.26426,     0.26527,     0.26627,     0.26727,     0.26827,     0.26927,     0.27027,     0.27127,     0.27227,     0.27327,     0.27427,     0.27528,     0.27628,     0.27728,     0.27828,     0.27928,     0.28028,     0.28128,     0.28228,     0.28328,     0.28428,     0.28529,     0.28629,     0.28729,\n",
              "           0.28829,     0.28929,     0.29029,     0.29129,     0.29229,     0.29329,     0.29429,      0.2953,      0.2963,      0.2973,      0.2983,      0.2993,      0.3003,      0.3013,      0.3023,      0.3033,      0.3043,     0.30531,     0.30631,     0.30731,     0.30831,     0.30931,     0.31031,     0.31131,\n",
              "           0.31231,     0.31331,     0.31431,     0.31532,     0.31632,     0.31732,     0.31832,     0.31932,     0.32032,     0.32132,     0.32232,     0.32332,     0.32432,     0.32533,     0.32633,     0.32733,     0.32833,     0.32933,     0.33033,     0.33133,     0.33233,     0.33333,     0.33433,     0.33534,\n",
              "           0.33634,     0.33734,     0.33834,     0.33934,     0.34034,     0.34134,     0.34234,     0.34334,     0.34434,     0.34535,     0.34635,     0.34735,     0.34835,     0.34935,     0.35035,     0.35135,     0.35235,     0.35335,     0.35435,     0.35536,     0.35636,     0.35736,     0.35836,     0.35936,\n",
              "           0.36036,     0.36136,     0.36236,     0.36336,     0.36436,     0.36537,     0.36637,     0.36737,     0.36837,     0.36937,     0.37037,     0.37137,     0.37237,     0.37337,     0.37437,     0.37538,     0.37638,     0.37738,     0.37838,     0.37938,     0.38038,     0.38138,     0.38238,     0.38338,\n",
              "           0.38438,     0.38539,     0.38639,     0.38739,     0.38839,     0.38939,     0.39039,     0.39139,     0.39239,     0.39339,     0.39439,      0.3954,      0.3964,      0.3974,      0.3984,      0.3994,      0.4004,      0.4014,      0.4024,      0.4034,      0.4044,     0.40541,     0.40641,     0.40741,\n",
              "           0.40841,     0.40941,     0.41041,     0.41141,     0.41241,     0.41341,     0.41441,     0.41542,     0.41642,     0.41742,     0.41842,     0.41942,     0.42042,     0.42142,     0.42242,     0.42342,     0.42442,     0.42543,     0.42643,     0.42743,     0.42843,     0.42943,     0.43043,     0.43143,\n",
              "           0.43243,     0.43343,     0.43443,     0.43544,     0.43644,     0.43744,     0.43844,     0.43944,     0.44044,     0.44144,     0.44244,     0.44344,     0.44444,     0.44545,     0.44645,     0.44745,     0.44845,     0.44945,     0.45045,     0.45145,     0.45245,     0.45345,     0.45445,     0.45546,\n",
              "           0.45646,     0.45746,     0.45846,     0.45946,     0.46046,     0.46146,     0.46246,     0.46346,     0.46446,     0.46547,     0.46647,     0.46747,     0.46847,     0.46947,     0.47047,     0.47147,     0.47247,     0.47347,     0.47447,     0.47548,     0.47648,     0.47748,     0.47848,     0.47948,\n",
              "           0.48048,     0.48148,     0.48248,     0.48348,     0.48448,     0.48549,     0.48649,     0.48749,     0.48849,     0.48949,     0.49049,     0.49149,     0.49249,     0.49349,     0.49449,      0.4955,      0.4965,      0.4975,      0.4985,      0.4995,      0.5005,      0.5015,      0.5025,      0.5035,\n",
              "            0.5045,     0.50551,     0.50651,     0.50751,     0.50851,     0.50951,     0.51051,     0.51151,     0.51251,     0.51351,     0.51451,     0.51552,     0.51652,     0.51752,     0.51852,     0.51952,     0.52052,     0.52152,     0.52252,     0.52352,     0.52452,     0.52553,     0.52653,     0.52753,\n",
              "           0.52853,     0.52953,     0.53053,     0.53153,     0.53253,     0.53353,     0.53453,     0.53554,     0.53654,     0.53754,     0.53854,     0.53954,     0.54054,     0.54154,     0.54254,     0.54354,     0.54454,     0.54555,     0.54655,     0.54755,     0.54855,     0.54955,     0.55055,     0.55155,\n",
              "           0.55255,     0.55355,     0.55455,     0.55556,     0.55656,     0.55756,     0.55856,     0.55956,     0.56056,     0.56156,     0.56256,     0.56356,     0.56456,     0.56557,     0.56657,     0.56757,     0.56857,     0.56957,     0.57057,     0.57157,     0.57257,     0.57357,     0.57457,     0.57558,\n",
              "           0.57658,     0.57758,     0.57858,     0.57958,     0.58058,     0.58158,     0.58258,     0.58358,     0.58458,     0.58559,     0.58659,     0.58759,     0.58859,     0.58959,     0.59059,     0.59159,     0.59259,     0.59359,     0.59459,      0.5956,      0.5966,      0.5976,      0.5986,      0.5996,\n",
              "            0.6006,      0.6016,      0.6026,      0.6036,      0.6046,     0.60561,     0.60661,     0.60761,     0.60861,     0.60961,     0.61061,     0.61161,     0.61261,     0.61361,     0.61461,     0.61562,     0.61662,     0.61762,     0.61862,     0.61962,     0.62062,     0.62162,     0.62262,     0.62362,\n",
              "           0.62462,     0.62563,     0.62663,     0.62763,     0.62863,     0.62963,     0.63063,     0.63163,     0.63263,     0.63363,     0.63463,     0.63564,     0.63664,     0.63764,     0.63864,     0.63964,     0.64064,     0.64164,     0.64264,     0.64364,     0.64464,     0.64565,     0.64665,     0.64765,\n",
              "           0.64865,     0.64965,     0.65065,     0.65165,     0.65265,     0.65365,     0.65465,     0.65566,     0.65666,     0.65766,     0.65866,     0.65966,     0.66066,     0.66166,     0.66266,     0.66366,     0.66466,     0.66567,     0.66667,     0.66767,     0.66867,     0.66967,     0.67067,     0.67167,\n",
              "           0.67267,     0.67367,     0.67467,     0.67568,     0.67668,     0.67768,     0.67868,     0.67968,     0.68068,     0.68168,     0.68268,     0.68368,     0.68468,     0.68569,     0.68669,     0.68769,     0.68869,     0.68969,     0.69069,     0.69169,     0.69269,     0.69369,     0.69469,      0.6957,\n",
              "            0.6967,      0.6977,      0.6987,      0.6997,      0.7007,      0.7017,      0.7027,      0.7037,      0.7047,     0.70571,     0.70671,     0.70771,     0.70871,     0.70971,     0.71071,     0.71171,     0.71271,     0.71371,     0.71471,     0.71572,     0.71672,     0.71772,     0.71872,     0.71972,\n",
              "           0.72072,     0.72172,     0.72272,     0.72372,     0.72472,     0.72573,     0.72673,     0.72773,     0.72873,     0.72973,     0.73073,     0.73173,     0.73273,     0.73373,     0.73473,     0.73574,     0.73674,     0.73774,     0.73874,     0.73974,     0.74074,     0.74174,     0.74274,     0.74374,\n",
              "           0.74474,     0.74575,     0.74675,     0.74775,     0.74875,     0.74975,     0.75075,     0.75175,     0.75275,     0.75375,     0.75475,     0.75576,     0.75676,     0.75776,     0.75876,     0.75976,     0.76076,     0.76176,     0.76276,     0.76376,     0.76476,     0.76577,     0.76677,     0.76777,\n",
              "           0.76877,     0.76977,     0.77077,     0.77177,     0.77277,     0.77377,     0.77477,     0.77578,     0.77678,     0.77778,     0.77878,     0.77978,     0.78078,     0.78178,     0.78278,     0.78378,     0.78478,     0.78579,     0.78679,     0.78779,     0.78879,     0.78979,     0.79079,     0.79179,\n",
              "           0.79279,     0.79379,     0.79479,      0.7958,      0.7968,      0.7978,      0.7988,      0.7998,      0.8008,      0.8018,      0.8028,      0.8038,      0.8048,     0.80581,     0.80681,     0.80781,     0.80881,     0.80981,     0.81081,     0.81181,     0.81281,     0.81381,     0.81481,     0.81582,\n",
              "           0.81682,     0.81782,     0.81882,     0.81982,     0.82082,     0.82182,     0.82282,     0.82382,     0.82482,     0.82583,     0.82683,     0.82783,     0.82883,     0.82983,     0.83083,     0.83183,     0.83283,     0.83383,     0.83483,     0.83584,     0.83684,     0.83784,     0.83884,     0.83984,\n",
              "           0.84084,     0.84184,     0.84284,     0.84384,     0.84484,     0.84585,     0.84685,     0.84785,     0.84885,     0.84985,     0.85085,     0.85185,     0.85285,     0.85385,     0.85485,     0.85586,     0.85686,     0.85786,     0.85886,     0.85986,     0.86086,     0.86186,     0.86286,     0.86386,\n",
              "           0.86486,     0.86587,     0.86687,     0.86787,     0.86887,     0.86987,     0.87087,     0.87187,     0.87287,     0.87387,     0.87487,     0.87588,     0.87688,     0.87788,     0.87888,     0.87988,     0.88088,     0.88188,     0.88288,     0.88388,     0.88488,     0.88589,     0.88689,     0.88789,\n",
              "           0.88889,     0.88989,     0.89089,     0.89189,     0.89289,     0.89389,     0.89489,      0.8959,      0.8969,      0.8979,      0.8989,      0.8999,      0.9009,      0.9019,      0.9029,      0.9039,      0.9049,     0.90591,     0.90691,     0.90791,     0.90891,     0.90991,     0.91091,     0.91191,\n",
              "           0.91291,     0.91391,     0.91491,     0.91592,     0.91692,     0.91792,     0.91892,     0.91992,     0.92092,     0.92192,     0.92292,     0.92392,     0.92492,     0.92593,     0.92693,     0.92793,     0.92893,     0.92993,     0.93093,     0.93193,     0.93293,     0.93393,     0.93493,     0.93594,\n",
              "           0.93694,     0.93794,     0.93894,     0.93994,     0.94094,     0.94194,     0.94294,     0.94394,     0.94494,     0.94595,     0.94695,     0.94795,     0.94895,     0.94995,     0.95095,     0.95195,     0.95295,     0.95395,     0.95495,     0.95596,     0.95696,     0.95796,     0.95896,     0.95996,\n",
              "           0.96096,     0.96196,     0.96296,     0.96396,     0.96496,     0.96597,     0.96697,     0.96797,     0.96897,     0.96997,     0.97097,     0.97197,     0.97297,     0.97397,     0.97497,     0.97598,     0.97698,     0.97798,     0.97898,     0.97998,     0.98098,     0.98198,     0.98298,     0.98398,\n",
              "           0.98498,     0.98599,     0.98699,     0.98799,     0.98899,     0.98999,     0.99099,     0.99199,     0.99299,     0.99399,     0.99499,       0.996,       0.997,       0.998,       0.999,           1]), array([[   0.028322,    0.028322,    0.028322, ...,           1,           1,           1],\n",
              "       [   0.028846,    0.028846,    0.028846, ...,           1,           1,           1],\n",
              "       [   0.041096,    0.041096,    0.041096, ...,           1,           1,           1],\n",
              "       ...,\n",
              "       [   0.032178,    0.032178,    0.032178, ...,           1,           1,           1],\n",
              "       [   0.062706,    0.062706,    0.062706, ...,           1,           1,           1],\n",
              "       [    0.04359,     0.04359,     0.04359, ...,           1,           1,           1]]), 'Confidence', 'Precision'], [array([          0,    0.001001,    0.002002,    0.003003,    0.004004,    0.005005,    0.006006,    0.007007,    0.008008,    0.009009,     0.01001,    0.011011,    0.012012,    0.013013,    0.014014,    0.015015,    0.016016,    0.017017,    0.018018,    0.019019,     0.02002,    0.021021,    0.022022,    0.023023,\n",
              "          0.024024,    0.025025,    0.026026,    0.027027,    0.028028,    0.029029,     0.03003,    0.031031,    0.032032,    0.033033,    0.034034,    0.035035,    0.036036,    0.037037,    0.038038,    0.039039,     0.04004,    0.041041,    0.042042,    0.043043,    0.044044,    0.045045,    0.046046,    0.047047,\n",
              "          0.048048,    0.049049,     0.05005,    0.051051,    0.052052,    0.053053,    0.054054,    0.055055,    0.056056,    0.057057,    0.058058,    0.059059,     0.06006,    0.061061,    0.062062,    0.063063,    0.064064,    0.065065,    0.066066,    0.067067,    0.068068,    0.069069,     0.07007,    0.071071,\n",
              "          0.072072,    0.073073,    0.074074,    0.075075,    0.076076,    0.077077,    0.078078,    0.079079,     0.08008,    0.081081,    0.082082,    0.083083,    0.084084,    0.085085,    0.086086,    0.087087,    0.088088,    0.089089,     0.09009,    0.091091,    0.092092,    0.093093,    0.094094,    0.095095,\n",
              "          0.096096,    0.097097,    0.098098,    0.099099,      0.1001,      0.1011,      0.1021,      0.1031,      0.1041,     0.10511,     0.10611,     0.10711,     0.10811,     0.10911,     0.11011,     0.11111,     0.11211,     0.11311,     0.11411,     0.11512,     0.11612,     0.11712,     0.11812,     0.11912,\n",
              "           0.12012,     0.12112,     0.12212,     0.12312,     0.12412,     0.12513,     0.12613,     0.12713,     0.12813,     0.12913,     0.13013,     0.13113,     0.13213,     0.13313,     0.13413,     0.13514,     0.13614,     0.13714,     0.13814,     0.13914,     0.14014,     0.14114,     0.14214,     0.14314,\n",
              "           0.14414,     0.14515,     0.14615,     0.14715,     0.14815,     0.14915,     0.15015,     0.15115,     0.15215,     0.15315,     0.15415,     0.15516,     0.15616,     0.15716,     0.15816,     0.15916,     0.16016,     0.16116,     0.16216,     0.16316,     0.16416,     0.16517,     0.16617,     0.16717,\n",
              "           0.16817,     0.16917,     0.17017,     0.17117,     0.17217,     0.17317,     0.17417,     0.17518,     0.17618,     0.17718,     0.17818,     0.17918,     0.18018,     0.18118,     0.18218,     0.18318,     0.18418,     0.18519,     0.18619,     0.18719,     0.18819,     0.18919,     0.19019,     0.19119,\n",
              "           0.19219,     0.19319,     0.19419,      0.1952,      0.1962,      0.1972,      0.1982,      0.1992,      0.2002,      0.2012,      0.2022,      0.2032,      0.2042,     0.20521,     0.20621,     0.20721,     0.20821,     0.20921,     0.21021,     0.21121,     0.21221,     0.21321,     0.21421,     0.21522,\n",
              "           0.21622,     0.21722,     0.21822,     0.21922,     0.22022,     0.22122,     0.22222,     0.22322,     0.22422,     0.22523,     0.22623,     0.22723,     0.22823,     0.22923,     0.23023,     0.23123,     0.23223,     0.23323,     0.23423,     0.23524,     0.23624,     0.23724,     0.23824,     0.23924,\n",
              "           0.24024,     0.24124,     0.24224,     0.24324,     0.24424,     0.24525,     0.24625,     0.24725,     0.24825,     0.24925,     0.25025,     0.25125,     0.25225,     0.25325,     0.25425,     0.25526,     0.25626,     0.25726,     0.25826,     0.25926,     0.26026,     0.26126,     0.26226,     0.26326,\n",
              "           0.26426,     0.26527,     0.26627,     0.26727,     0.26827,     0.26927,     0.27027,     0.27127,     0.27227,     0.27327,     0.27427,     0.27528,     0.27628,     0.27728,     0.27828,     0.27928,     0.28028,     0.28128,     0.28228,     0.28328,     0.28428,     0.28529,     0.28629,     0.28729,\n",
              "           0.28829,     0.28929,     0.29029,     0.29129,     0.29229,     0.29329,     0.29429,      0.2953,      0.2963,      0.2973,      0.2983,      0.2993,      0.3003,      0.3013,      0.3023,      0.3033,      0.3043,     0.30531,     0.30631,     0.30731,     0.30831,     0.30931,     0.31031,     0.31131,\n",
              "           0.31231,     0.31331,     0.31431,     0.31532,     0.31632,     0.31732,     0.31832,     0.31932,     0.32032,     0.32132,     0.32232,     0.32332,     0.32432,     0.32533,     0.32633,     0.32733,     0.32833,     0.32933,     0.33033,     0.33133,     0.33233,     0.33333,     0.33433,     0.33534,\n",
              "           0.33634,     0.33734,     0.33834,     0.33934,     0.34034,     0.34134,     0.34234,     0.34334,     0.34434,     0.34535,     0.34635,     0.34735,     0.34835,     0.34935,     0.35035,     0.35135,     0.35235,     0.35335,     0.35435,     0.35536,     0.35636,     0.35736,     0.35836,     0.35936,\n",
              "           0.36036,     0.36136,     0.36236,     0.36336,     0.36436,     0.36537,     0.36637,     0.36737,     0.36837,     0.36937,     0.37037,     0.37137,     0.37237,     0.37337,     0.37437,     0.37538,     0.37638,     0.37738,     0.37838,     0.37938,     0.38038,     0.38138,     0.38238,     0.38338,\n",
              "           0.38438,     0.38539,     0.38639,     0.38739,     0.38839,     0.38939,     0.39039,     0.39139,     0.39239,     0.39339,     0.39439,      0.3954,      0.3964,      0.3974,      0.3984,      0.3994,      0.4004,      0.4014,      0.4024,      0.4034,      0.4044,     0.40541,     0.40641,     0.40741,\n",
              "           0.40841,     0.40941,     0.41041,     0.41141,     0.41241,     0.41341,     0.41441,     0.41542,     0.41642,     0.41742,     0.41842,     0.41942,     0.42042,     0.42142,     0.42242,     0.42342,     0.42442,     0.42543,     0.42643,     0.42743,     0.42843,     0.42943,     0.43043,     0.43143,\n",
              "           0.43243,     0.43343,     0.43443,     0.43544,     0.43644,     0.43744,     0.43844,     0.43944,     0.44044,     0.44144,     0.44244,     0.44344,     0.44444,     0.44545,     0.44645,     0.44745,     0.44845,     0.44945,     0.45045,     0.45145,     0.45245,     0.45345,     0.45445,     0.45546,\n",
              "           0.45646,     0.45746,     0.45846,     0.45946,     0.46046,     0.46146,     0.46246,     0.46346,     0.46446,     0.46547,     0.46647,     0.46747,     0.46847,     0.46947,     0.47047,     0.47147,     0.47247,     0.47347,     0.47447,     0.47548,     0.47648,     0.47748,     0.47848,     0.47948,\n",
              "           0.48048,     0.48148,     0.48248,     0.48348,     0.48448,     0.48549,     0.48649,     0.48749,     0.48849,     0.48949,     0.49049,     0.49149,     0.49249,     0.49349,     0.49449,      0.4955,      0.4965,      0.4975,      0.4985,      0.4995,      0.5005,      0.5015,      0.5025,      0.5035,\n",
              "            0.5045,     0.50551,     0.50651,     0.50751,     0.50851,     0.50951,     0.51051,     0.51151,     0.51251,     0.51351,     0.51451,     0.51552,     0.51652,     0.51752,     0.51852,     0.51952,     0.52052,     0.52152,     0.52252,     0.52352,     0.52452,     0.52553,     0.52653,     0.52753,\n",
              "           0.52853,     0.52953,     0.53053,     0.53153,     0.53253,     0.53353,     0.53453,     0.53554,     0.53654,     0.53754,     0.53854,     0.53954,     0.54054,     0.54154,     0.54254,     0.54354,     0.54454,     0.54555,     0.54655,     0.54755,     0.54855,     0.54955,     0.55055,     0.55155,\n",
              "           0.55255,     0.55355,     0.55455,     0.55556,     0.55656,     0.55756,     0.55856,     0.55956,     0.56056,     0.56156,     0.56256,     0.56356,     0.56456,     0.56557,     0.56657,     0.56757,     0.56857,     0.56957,     0.57057,     0.57157,     0.57257,     0.57357,     0.57457,     0.57558,\n",
              "           0.57658,     0.57758,     0.57858,     0.57958,     0.58058,     0.58158,     0.58258,     0.58358,     0.58458,     0.58559,     0.58659,     0.58759,     0.58859,     0.58959,     0.59059,     0.59159,     0.59259,     0.59359,     0.59459,      0.5956,      0.5966,      0.5976,      0.5986,      0.5996,\n",
              "            0.6006,      0.6016,      0.6026,      0.6036,      0.6046,     0.60561,     0.60661,     0.60761,     0.60861,     0.60961,     0.61061,     0.61161,     0.61261,     0.61361,     0.61461,     0.61562,     0.61662,     0.61762,     0.61862,     0.61962,     0.62062,     0.62162,     0.62262,     0.62362,\n",
              "           0.62462,     0.62563,     0.62663,     0.62763,     0.62863,     0.62963,     0.63063,     0.63163,     0.63263,     0.63363,     0.63463,     0.63564,     0.63664,     0.63764,     0.63864,     0.63964,     0.64064,     0.64164,     0.64264,     0.64364,     0.64464,     0.64565,     0.64665,     0.64765,\n",
              "           0.64865,     0.64965,     0.65065,     0.65165,     0.65265,     0.65365,     0.65465,     0.65566,     0.65666,     0.65766,     0.65866,     0.65966,     0.66066,     0.66166,     0.66266,     0.66366,     0.66466,     0.66567,     0.66667,     0.66767,     0.66867,     0.66967,     0.67067,     0.67167,\n",
              "           0.67267,     0.67367,     0.67467,     0.67568,     0.67668,     0.67768,     0.67868,     0.67968,     0.68068,     0.68168,     0.68268,     0.68368,     0.68468,     0.68569,     0.68669,     0.68769,     0.68869,     0.68969,     0.69069,     0.69169,     0.69269,     0.69369,     0.69469,      0.6957,\n",
              "            0.6967,      0.6977,      0.6987,      0.6997,      0.7007,      0.7017,      0.7027,      0.7037,      0.7047,     0.70571,     0.70671,     0.70771,     0.70871,     0.70971,     0.71071,     0.71171,     0.71271,     0.71371,     0.71471,     0.71572,     0.71672,     0.71772,     0.71872,     0.71972,\n",
              "           0.72072,     0.72172,     0.72272,     0.72372,     0.72472,     0.72573,     0.72673,     0.72773,     0.72873,     0.72973,     0.73073,     0.73173,     0.73273,     0.73373,     0.73473,     0.73574,     0.73674,     0.73774,     0.73874,     0.73974,     0.74074,     0.74174,     0.74274,     0.74374,\n",
              "           0.74474,     0.74575,     0.74675,     0.74775,     0.74875,     0.74975,     0.75075,     0.75175,     0.75275,     0.75375,     0.75475,     0.75576,     0.75676,     0.75776,     0.75876,     0.75976,     0.76076,     0.76176,     0.76276,     0.76376,     0.76476,     0.76577,     0.76677,     0.76777,\n",
              "           0.76877,     0.76977,     0.77077,     0.77177,     0.77277,     0.77377,     0.77477,     0.77578,     0.77678,     0.77778,     0.77878,     0.77978,     0.78078,     0.78178,     0.78278,     0.78378,     0.78478,     0.78579,     0.78679,     0.78779,     0.78879,     0.78979,     0.79079,     0.79179,\n",
              "           0.79279,     0.79379,     0.79479,      0.7958,      0.7968,      0.7978,      0.7988,      0.7998,      0.8008,      0.8018,      0.8028,      0.8038,      0.8048,     0.80581,     0.80681,     0.80781,     0.80881,     0.80981,     0.81081,     0.81181,     0.81281,     0.81381,     0.81481,     0.81582,\n",
              "           0.81682,     0.81782,     0.81882,     0.81982,     0.82082,     0.82182,     0.82282,     0.82382,     0.82482,     0.82583,     0.82683,     0.82783,     0.82883,     0.82983,     0.83083,     0.83183,     0.83283,     0.83383,     0.83483,     0.83584,     0.83684,     0.83784,     0.83884,     0.83984,\n",
              "           0.84084,     0.84184,     0.84284,     0.84384,     0.84484,     0.84585,     0.84685,     0.84785,     0.84885,     0.84985,     0.85085,     0.85185,     0.85285,     0.85385,     0.85485,     0.85586,     0.85686,     0.85786,     0.85886,     0.85986,     0.86086,     0.86186,     0.86286,     0.86386,\n",
              "           0.86486,     0.86587,     0.86687,     0.86787,     0.86887,     0.86987,     0.87087,     0.87187,     0.87287,     0.87387,     0.87487,     0.87588,     0.87688,     0.87788,     0.87888,     0.87988,     0.88088,     0.88188,     0.88288,     0.88388,     0.88488,     0.88589,     0.88689,     0.88789,\n",
              "           0.88889,     0.88989,     0.89089,     0.89189,     0.89289,     0.89389,     0.89489,      0.8959,      0.8969,      0.8979,      0.8989,      0.8999,      0.9009,      0.9019,      0.9029,      0.9039,      0.9049,     0.90591,     0.90691,     0.90791,     0.90891,     0.90991,     0.91091,     0.91191,\n",
              "           0.91291,     0.91391,     0.91491,     0.91592,     0.91692,     0.91792,     0.91892,     0.91992,     0.92092,     0.92192,     0.92292,     0.92392,     0.92492,     0.92593,     0.92693,     0.92793,     0.92893,     0.92993,     0.93093,     0.93193,     0.93293,     0.93393,     0.93493,     0.93594,\n",
              "           0.93694,     0.93794,     0.93894,     0.93994,     0.94094,     0.94194,     0.94294,     0.94394,     0.94494,     0.94595,     0.94695,     0.94795,     0.94895,     0.94995,     0.95095,     0.95195,     0.95295,     0.95395,     0.95495,     0.95596,     0.95696,     0.95796,     0.95896,     0.95996,\n",
              "           0.96096,     0.96196,     0.96296,     0.96396,     0.96496,     0.96597,     0.96697,     0.96797,     0.96897,     0.96997,     0.97097,     0.97197,     0.97297,     0.97397,     0.97497,     0.97598,     0.97698,     0.97798,     0.97898,     0.97998,     0.98098,     0.98198,     0.98298,     0.98398,\n",
              "           0.98498,     0.98599,     0.98699,     0.98799,     0.98899,     0.98999,     0.99099,     0.99199,     0.99299,     0.99399,     0.99499,       0.996,       0.997,       0.998,       0.999,           1]), array([[          1,           1,           1, ...,           0,           0,           0],\n",
              "       [        0.9,         0.9,         0.9, ...,           0,           0,           0],\n",
              "       [          1,           1,           1, ...,           0,           0,           0],\n",
              "       ...,\n",
              "       [          1,           1,           1, ...,           0,           0,           0],\n",
              "       [          1,           1,           1, ...,           0,           0,           0],\n",
              "       [          1,           1,           1, ...,           0,           0,           0]]), 'Confidence', 'Recall']]\n",
              "fitness: np.float64(0.2761524076879342)\n",
              "keys: ['metrics/precision(B)', 'metrics/recall(B)', 'metrics/mAP50(B)', 'metrics/mAP50-95(B)']\n",
              "maps: array([    0.29965,     0.28699,     0.33037,    0.016117,     0.14472,   0.0089595,     0.26832,      0.4651,     0.26832,           0,     0.54606,     0.59555,      0.4693,     0.11824,           0,   0.0080591,   0.0064715,     0.37016,    0.021268,     0.49378,    0.065809,     0.01791,    0.015019,    0.028469,\n",
              "         0.0038433,           0,     0.59775,     0.39672,     0.54066,     0.37273,     0.49055,     0.40823,     0.57766,     0.53578,     0.55055,     0.34047])\n",
              "names: {0: 'A', 1: 'B', 2: 'C', 3: 'D', 4: 'E', 5: 'F', 6: 'G', 7: 'H', 8: 'I', 9: 'J', 10: 'K', 11: 'L', 12: 'M', 13: 'N', 14: 'O', 15: 'P', 16: 'Q', 17: 'R', 18: 'S', 19: 'T', 20: 'U', 21: 'V', 22: 'W', 23: 'X', 24: 'Y', 25: 'Z', 26: '0', 27: '1', 28: '2', 29: '3', 30: '4', 31: '5', 32: '6', 33: '7', 34: '8', 35: '9'}\n",
              "plot: True\n",
              "results_dict: {'metrics/precision(B)': np.float64(0.6862658512178504), 'metrics/recall(B)': np.float64(0.328180880197997), 'metrics/mAP50(B)': np.float64(0.3466280188636647), 'metrics/mAP50-95(B)': np.float64(0.26832178422396413), 'fitness': np.float64(0.2761524076879342)}\n",
              "save_dir: WindowsPath('C:/Users/mtj02/runs/detect/default_training_run3')\n",
              "speed: {'preprocess': 0.23017043159121559, 'inference': 0.4959503809611002, 'loss': 0.0, 'postprocess': 2.521191324506487}\n",
              "task: 'detect'"
            ]
          },
          "metadata": {},
          "execution_count": 6
        }
      ]
    },
    {
      "cell_type": "code",
      "source": [
        "%matplotlib inline\n",
        "from PIL import Image\n",
        "\n",
        "Image.open('C:/Users/mtj02/runs/detect/default_training_run2/confusion_matrix.png')"
      ],
      "metadata": {
        "colab": {
          "base_uri": "https://localhost:8080/",
          "height": 1000
        },
        "collapsed": true,
        "id": "fY5EqN_oGwPM",
        "outputId": "58808495-21e5-4abe-ff5c-3fb0db9ff482"
      },
      "execution_count": 7,
      "outputs": [
        {
          "output_type": "execute_result",
          "data": {
            "text/plain": [
              "<PIL.PngImagePlugin.PngImageFile image mode=RGBA size=3000x2250>"
            ],
            "image/png": "[encoded data removed]"
          },
          "metadata": {},
          "execution_count": 7
        }
      ]
    },
    {
      "cell_type": "markdown",
      "source": [
        "**Predictions**"
      ],
      "metadata": {
        "id": "7GIZaUUJHB_g"
      }
    },
    {
      "cell_type": "code",
      "source": [
        "model = YOLO('C:/Users/mtj02/runs/detect/default_training_run2/weights/best.pt')  # load a custom model"
      ],
      "metadata": {
        "id": "HHc_StPAHDmA"
      },
      "execution_count": 8,
      "outputs": []
    },
    {
      "cell_type": "code",
      "source": [
        "# Perform predictions on the image\n",
        "results = model.predict(\n",
        "    source='C:/Users/mtj02/Desktop/FinalProject_Group1/Datasets/LicensePlateDataset/images/train/0000.png',\n",
        "    save=True,\n",
        "    show_labels=True\n",
        ")\n",
        "\n",
        "# Extract predictions\n",
        "predicted_text = []\n",
        "for box in results[0].boxes.data:\n",
        "    xmin = box[0].item()  # x-coordinate of the top-left corner of the bounding box\n",
        "    class_id = int(box[-1])  # Class ID of the detected character\n",
        "    predicted_text.append((xmin, model.names[class_id]))  # Append x-coordinate and character\n",
        "\n",
        "# Sort the characters by their x-coordinate (left to right)\n",
        "sorted_text = sorted(predicted_text, key=lambda x: x[0])\n",
        "\n",
        "# Combine sorted characters into a single string\n",
        "predicted_string = ''.join([char for _, char in sorted_text])\n",
        "\n",
        "# Print the sorted predicted text\n",
        "print(\"Predicted Text:\", predicted_string)\n"
      ],
      "metadata": {
        "colab": {
          "base_uri": "https://localhost:8080/"
        },
        "collapsed": true,
        "id": "RvYFt8SsHXXi",
        "outputId": "22f45d47-91d4-430b-a3df-bbdbec2a69ff"
      },
      "execution_count": 9,
      "outputs": [
        {
          "output_type": "stream",
          "name": "stdout",
          "text": [
            "\n",
            "image 1/1 C:\\Users\\mtj02\\Desktop\\FinalProject_Group1\\Datasets\\LicensePlateDataset\\images\\train\\0000.png: 256x640 1 H, 1 M, 1 T, 1 2, 2 5s, 1 6, 1 7, 39.8ms\n",
            "Speed: 0.0ms preprocess, 39.8ms inference, 3.6ms postprocess per image at shape (1, 3, 256, 640)\n",
            "Results saved to \u001b[1mC:\\Users\\mtj02\\runs\\detect\\predict3\u001b[0m\n",
            "Predicted Text: MH7T2556\n"
          ]
        }
      ]
    },
    {
      "cell_type": "code",
      "source": [
        "# Prediction 1\n",
        "%matplotlib inline\n",
        "from PIL import Image\n",
        "\n",
        "Image.open(\"C:/Users/mtj02/runs/detect/predict2/0000.jpg\")"
      ],
      "metadata": {
        "colab": {
          "base_uri": "https://localhost:8080/",
          "height": 64
        },
        "id": "4F1QWFEXHnOs",
        "outputId": "ed938982-f2a7-4154-b75f-4b168a876024"
      },
      "execution_count": 10,
      "outputs": [
        {
          "output_type": "execute_result",
          "data": {
            "text/plain": [
              "<PIL.JpegImagePlugin.JpegImageFile image mode=RGB size=119x47>"
            ],
            "image/png": "[encoded data removed]",
            "image/jpeg": "[encoded data removed]"
          },
          "metadata": {},
          "execution_count": 10
        }
      ]
    },
    {
      "cell_type": "code",
      "source": [
        "# Perform predictions on the image\n",
        "results = model.predict(\n",
        "    source='C:/Users/mtj02/Desktop/FinalProject_Group1/Datasets/LicensePlateDataset/images/val/0203.png',\n",
        "    save=True,\n",
        "    show_labels=True\n",
        ")\n",
        "\n",
        "# Extract predictions\n",
        "predicted_text = []\n",
        "for box in results[0].boxes.data:\n",
        "    xmin = box[0].item()  # x-coordinate of the top-left corner of the bounding box\n",
        "    class_id = int(box[-1])  # Class ID of the detected character\n",
        "    predicted_text.append((xmin, model.names[class_id]))  # Append x-coordinate and character\n",
        "\n",
        "# Sort the characters by their x-coordinate (left to right)\n",
        "sorted_text = sorted(predicted_text, key=lambda x: x[0])\n",
        "\n",
        "# Combine sorted characters into a single string\n",
        "predicted_string = ''.join([char for _, char in sorted_text])\n",
        "\n",
        "# Print the sorted predicted text\n",
        "print(\"Predicted Text:\", predicted_string)"
      ],
      "metadata": {
        "colab": {
          "base_uri": "https://localhost:8080/"
        },
        "id": "_qp2NWjnKTuI",
        "outputId": "cecb0ac1-e1de-422c-afdc-2572e031fe3a"
      },
      "execution_count": 11,
      "outputs": [
        {
          "output_type": "stream",
          "name": "stdout",
          "text": [
            "\n",
            "image 1/1 C:\\Users\\mtj02\\Desktop\\FinalProject_Group1\\Datasets\\LicensePlateDataset\\images\\val\\0203.png: 384x640 2 Hs, 2 Ms, 3 0s, 1 2, 1 3, 1 6, 48.1ms\n",
            "Speed: 0.0ms preprocess, 48.1ms inference, 0.0ms postprocess per image at shape (1, 3, 384, 640)\n",
            "Results saved to \u001b[1mC:\\Users\\mtj02\\runs\\detect\\predict3\u001b[0m\n",
            "Predicted Text: HMMH320006\n"
          ]
        }
      ]
    },
    {
      "cell_type": "code",
      "source": [
        "# Prediction 2\n",
        "%matplotlib inline\n",
        "from PIL import Image\n",
        "\n",
        "Image.open(\"C:/Users/mtj02/runs/detect/predict3/0203.jpg\")"
      ],
      "metadata": {
        "colab": {
          "base_uri": "https://localhost:8080/",
          "height": 91
        },
        "id": "PFCkMc_rKj-o",
        "outputId": "04acd5e7-d5d1-4d46-a950-5a25b77e02c3"
      },
      "execution_count": 13,
      "outputs": [
        {
          "output_type": "execute_result",
          "data": {
            "text/plain": [
              "<PIL.JpegImagePlugin.JpegImageFile image mode=RGB size=133x74>"
            ],
            "image/png": "[encoded data removed]",
            "image/jpeg": "[encoded data removed]"
          },
          "metadata": {},
          "execution_count": 13
        }
      ]
    },
    {
      "cell_type": "markdown",
      "source": [
        "**Finding best parameters for the model**"
      ],
      "metadata": {
        "id": "H0GPm08sFr4n"
      }
    },
    {
      "cell_type": "markdown",
      "source": [
        "Try different **learning rates**"
      ],
      "metadata": {
        "id": "dm5MGIAINk-g"
      }
    },
    {
      "cell_type": "code",
      "source": [
        "# Learning rates\n",
        "for lr in [0.01, 0.001, 0.0005, 0.0001]:\n",
        "    model.train(data=\"config.yaml\", epochs=5, patience=5, batch=8, lr0=lr, imgsz=640, name=f\"lr_{lr}\")"
      ],
      "metadata": {
        "collapsed": true,
        "colab": {
          "base_uri": "https://localhost:8080/"
        },
        "id": "-9Tkzq1uKzeb",
        "outputId": "427143bb-4ce3-4fe6-c1f0-0cfdcb355172"
      },
      "execution_count": 14,
      "outputs": [
        {
          "output_type": "stream",
          "name": "stdout",
          "text": [
            "New https://pypi.org/project/ultralytics/8.3.48 available  Update with 'pip install -U ultralytics'\n",
            "Ultralytics 8.3.47  Python-3.12.6 torch-2.5.1+cu118 CUDA:0 (NVIDIA GeForce RTX 4090, 24564MiB)\n",
            "\u001b[34m\u001b[1mengine\\trainer: \u001b[0mtask=detect, mode=train, model=C:/Users/mtj02/runs/detect/default_training_run2/weights/best.pt, data=config.yaml, epochs=5, time=None, patience=5, batch=8, imgsz=640, save=True, save_period=-1, cache=False, device=None, workers=8, project=None, name=lr_0.01, exist_ok=False, pretrained=True, optimizer=auto, verbose=True, seed=0, deterministic=True, single_cls=False, rect=False, cos_lr=False, close_mosaic=10, resume=False, amp=True, fraction=1.0, profile=False, freeze=None, multi_scale=False, overlap_mask=True, mask_ratio=4, dropout=0.0, val=True, split=val, save_json=False, save_hybrid=False, conf=None, iou=0.7, max_det=300, half=False, dnn=False, plots=True, source=None, vid_stride=1, stream_buffer=False, visualize=False, augment=False, agnostic_nms=False, classes=None, retina_masks=False, embed=None, show=False, save_frames=False, save_txt=False, save_conf=False, save_crop=False, show_labels=True, show_conf=True, show_boxes=True, line_width=None, format=torchscript, keras=False, optimize=False, int8=False, dynamic=False, simplify=True, opset=None, workspace=None, nms=False, lr0=0.01, lrf=0.01, momentum=0.937, weight_decay=0.0005, warmup_epochs=3.0, warmup_momentum=0.8, warmup_bias_lr=0.1, box=7.5, cls=0.5, dfl=1.5, pose=12.0, kobj=1.0, nbs=64, hsv_h=0.015, hsv_s=0.7, hsv_v=0.4, degrees=0.0, translate=0.1, scale=0.5, shear=0.0, perspective=0.0, flipud=0.0, fliplr=0.5, bgr=0.0, mosaic=1.0, mixup=0.0, copy_paste=0.0, copy_paste_mode=flip, auto_augment=randaugment, erasing=0.4, crop_fraction=1.0, cfg=None, tracker=botsort.yaml, save_dir=C:\\Users\\mtj02\\runs\\detect\\lr_0.01\n",
            "\n",
            "                   from  n    params  module                                       arguments                     \n",
            "  0                  -1  1       928  ultralytics.nn.modules.conv.Conv             [3, 32, 3, 2]                 \n",
            "  1                  -1  1     18560  ultralytics.nn.modules.conv.Conv             [32, 64, 3, 2]                \n",
            "  2                  -1  1     29056  ultralytics.nn.modules.block.C2f             [64, 64, 1, True]             \n",
            "  3                  -1  1     73984  ultralytics.nn.modules.conv.Conv             [64, 128, 3, 2]               \n",
            "  4                  -1  2    197632  ultralytics.nn.modules.block.C2f             [128, 128, 2, True]           \n",
            "  5                  -1  1    295424  ultralytics.nn.modules.conv.Conv             [128, 256, 3, 2]              \n",
            "  6                  -1  2    788480  ultralytics.nn.modules.block.C2f             [256, 256, 2, True]           \n",
            "  7                  -1  1   1180672  ultralytics.nn.modules.conv.Conv             [256, 512, 3, 2]              \n",
            "  8                  -1  1   1838080  ultralytics.nn.modules.block.C2f             [512, 512, 1, True]           \n",
            "  9                  -1  1    656896  ultralytics.nn.modules.block.SPPF            [512, 512, 5]                 \n",
            " 10                  -1  1         0  torch.nn.modules.upsampling.Upsample         [None, 2, 'nearest']          \n",
            " 11             [-1, 6]  1         0  ultralytics.nn.modules.conv.Concat           [1]                           \n",
            " 12                  -1  1    591360  ultralytics.nn.modules.block.C2f             [768, 256, 1]                 \n",
            " 13                  -1  1         0  torch.nn.modules.upsampling.Upsample         [None, 2, 'nearest']          \n",
            " 14             [-1, 4]  1         0  ultralytics.nn.modules.conv.Concat           [1]                           \n",
            " 15                  -1  1    148224  ultralytics.nn.modules.block.C2f             [384, 128, 1]                 \n",
            " 16                  -1  1    147712  ultralytics.nn.modules.conv.Conv             [128, 128, 3, 2]              \n",
            " 17            [-1, 12]  1         0  ultralytics.nn.modules.conv.Concat           [1]                           \n",
            " 18                  -1  1    493056  ultralytics.nn.modules.block.C2f             [384, 256, 1]                 \n",
            " 19                  -1  1    590336  ultralytics.nn.modules.conv.Conv             [256, 256, 3, 2]              \n",
            " 20             [-1, 9]  1         0  ultralytics.nn.modules.conv.Concat           [1]                           \n",
            " 21                  -1  1   1969152  ultralytics.nn.modules.block.C2f             [768, 512, 1]                 \n",
            " 22        [15, 18, 21]  1   2129980  ultralytics.nn.modules.head.Detect           [36, [128, 256, 512]]         \n",
            "Model summary: 225 layers, 11,149,532 parameters, 11,149,516 gradients, 28.7 GFLOPs\n",
            "\n",
            "Transferred 70/355 items from pretrained weights\n",
            "\u001b[34m\u001b[1mTensorBoard: \u001b[0mStart with 'tensorboard --logdir C:\\Users\\mtj02\\runs\\detect\\lr_0.01', view at http://localhost:6006/\n",
            "Freezing layer 'model.22.dfl.conv.weight'\n",
            "\u001b[34m\u001b[1mAMP: \u001b[0mrunning Automatic Mixed Precision (AMP) checks...\n",
            "\u001b[34m\u001b[1mAMP: \u001b[0mchecks passed \n"
          ]
        },
        {
          "output_type": "stream",
          "name": "stderr",
          "text": [
            "\u001b[34m\u001b[1mtrain: \u001b[0mScanning C:\\Users\\mtj02\\Desktop\\FinalProject_Group1\\Datasets\\LicensePlateDataset\\labels\\train.cache... 167 image\u001b[0m\n",
            "\u001b[34m\u001b[1mval: \u001b[0mScanning C:\\Users\\mtj02\\Desktop\\FinalProject_Group1\\Datasets\\LicensePlateDataset\\labels\\val.cache... 42 images, 0 \u001b[0m\n"
          ]
        },
        {
          "output_type": "stream",
          "name": "stdout",
          "text": [
            "Plotting labels to C:\\Users\\mtj02\\runs\\detect\\lr_0.01\\labels.jpg... \n",
            "\u001b[34m\u001b[1moptimizer:\u001b[0m 'optimizer=auto' found, ignoring 'lr0=0.01' and 'momentum=0.937' and determining best 'optimizer', 'lr0' and 'momentum' automatically... \n",
            "\u001b[34m\u001b[1moptimizer:\u001b[0m AdamW(lr=0.00025, momentum=0.9) with parameter groups 57 weight(decay=0.0), 64 weight(decay=0.0005), 63 bias(decay=0.0)\n",
            "\u001b[34m\u001b[1mTensorBoard: \u001b[0mmodel graph visualization added \n",
            "Image sizes 640 train, 640 val\n",
            "Using 8 dataloader workers\n",
            "Logging results to \u001b[1mC:\\Users\\mtj02\\runs\\detect\\lr_0.01\u001b[0m\n",
            "Starting training for 5 epochs...\n",
            "\n",
            "      Epoch    GPU_mem   box_loss   cls_loss   dfl_loss  Instances       Size\n"
          ]
        },
        {
          "output_type": "stream",
          "name": "stderr",
          "text": [
            "        1/5      2.35G      1.822      4.625      1.553        167        640: 100%|██████████| 21/21 [00:01<00:00, 17.\n",
            "                 Class     Images  Instances      Box(P          R      mAP50  mAP50-95): 100%|██████████| 3/3 [00:00<0"
          ]
        },
        {
          "output_type": "stream",
          "name": "stdout",
          "text": [
            "                   all         42        413     0.0412      0.223     0.0669     0.0439\n"
          ]
        },
        {
          "output_type": "stream",
          "name": "stderr",
          "text": [
            "\n"
          ]
        },
        {
          "output_type": "stream",
          "name": "stdout",
          "text": [
            "\n",
            "      Epoch    GPU_mem   box_loss   cls_loss   dfl_loss  Instances       Size\n"
          ]
        },
        {
          "output_type": "stream",
          "name": "stderr",
          "text": [
            "        2/5      2.19G      1.438      4.402      1.374        181        640: 100%|██████████| 21/21 [00:00<00:00, 22.\n",
            "                 Class     Images  Instances      Box(P          R      mAP50  mAP50-95): 100%|██████████| 3/3 [00:00<0"
          ]
        },
        {
          "output_type": "stream",
          "name": "stdout",
          "text": [
            "                   all         42        413     0.0447      0.288       0.11     0.0809\n"
          ]
        },
        {
          "output_type": "stream",
          "name": "stderr",
          "text": [
            "\n"
          ]
        },
        {
          "output_type": "stream",
          "name": "stdout",
          "text": [
            "\n",
            "      Epoch    GPU_mem   box_loss   cls_loss   dfl_loss  Instances       Size\n"
          ]
        },
        {
          "output_type": "stream",
          "name": "stderr",
          "text": [
            "        3/5      2.22G      1.311      4.191      1.311         87        640: 100%|██████████| 21/21 [00:00<00:00, 21.\n",
            "                 Class     Images  Instances      Box(P          R      mAP50  mAP50-95): 100%|██████████| 3/3 [00:00<0"
          ]
        },
        {
          "output_type": "stream",
          "name": "stdout",
          "text": [
            "                   all         42        413     0.0435      0.371      0.122     0.0902\n"
          ]
        },
        {
          "output_type": "stream",
          "name": "stderr",
          "text": [
            "\n"
          ]
        },
        {
          "output_type": "stream",
          "name": "stdout",
          "text": [
            "\n",
            "      Epoch    GPU_mem   box_loss   cls_loss   dfl_loss  Instances       Size\n"
          ]
        },
        {
          "output_type": "stream",
          "name": "stderr",
          "text": [
            "        4/5      2.16G      1.276      4.049      1.292        127        640: 100%|██████████| 21/21 [00:00<00:00, 22.\n",
            "                 Class     Images  Instances      Box(P          R      mAP50  mAP50-95): 100%|██████████| 3/3 [00:00<0\n"
          ]
        },
        {
          "output_type": "stream",
          "name": "stdout",
          "text": [
            "                   all         42        413     0.0432      0.442      0.148      0.111\n",
            "\n",
            "      Epoch    GPU_mem   box_loss   cls_loss   dfl_loss  Instances       Size\n"
          ]
        },
        {
          "output_type": "stream",
          "name": "stderr",
          "text": [
            "        5/5      2.21G      1.274      4.009      1.242        166        640: 100%|██████████| 21/21 [00:00<00:00, 22.\n",
            "                 Class     Images  Instances      Box(P          R      mAP50  mAP50-95): 100%|██████████| 3/3 [00:00<0"
          ]
        },
        {
          "output_type": "stream",
          "name": "stdout",
          "text": [
            "                   all         42        413     0.0432      0.455      0.155      0.116\n"
          ]
        },
        {
          "output_type": "stream",
          "name": "stderr",
          "text": [
            "\n"
          ]
        },
        {
          "output_type": "stream",
          "name": "stdout",
          "text": [
            "\n",
            "5 epochs completed in 0.014 hours.\n",
            "Optimizer stripped from C:\\Users\\mtj02\\runs\\detect\\lr_0.01\\weights\\last.pt, 22.5MB\n",
            "Optimizer stripped from C:\\Users\\mtj02\\runs\\detect\\lr_0.01\\weights\\best.pt, 22.5MB\n",
            "\n",
            "Validating C:\\Users\\mtj02\\runs\\detect\\lr_0.01\\weights\\best.pt...\n",
            "Ultralytics 8.3.47  Python-3.12.6 torch-2.5.1+cu118 CUDA:0 (NVIDIA GeForce RTX 4090, 24564MiB)\n",
            "Model summary (fused): 168 layers, 11,139,516 parameters, 0 gradients, 28.5 GFLOPs\n"
          ]
        },
        {
          "output_type": "stream",
          "name": "stderr",
          "text": [
            "                 Class     Images  Instances      Box(P          R      mAP50  mAP50-95): 100%|██████████| 3/3 [00:00<0\n"
          ]
        },
        {
          "output_type": "stream",
          "name": "stdout",
          "text": [
            "                   all         42        413     0.0433      0.455      0.155      0.116\n",
            "                     A         11         13          0          0          0          0\n",
            "                     B         10         10     0.0789        0.9      0.178      0.147\n",
            "                     C         12         12     0.0345      0.333     0.0508      0.037\n",
            "                     D          5          5     0.0175        0.8     0.0484     0.0283\n",
            "                     E          7          8          0          0          0          0\n",
            "                     F          2          2          0          0          0          0\n",
            "                     H         27         29     0.0986      0.966      0.632      0.458\n",
            "                     J          1          1          0          0          0          0\n",
            "                     K          6          6     0.0179          1      0.214      0.155\n",
            "                     L          6          6       0.05      0.167     0.0359     0.0287\n",
            "                     M         21         21     0.0701      0.905      0.363      0.281\n",
            "                     N         11         11     0.0143      0.455     0.0933     0.0482\n",
            "                     O          2          2          0          0          0          0\n",
            "                     P          5          5          0          0          0          0\n",
            "                     Q          1          1          0          0          0          0\n",
            "                     R          6          7     0.0417      0.286      0.119      0.115\n",
            "                     S          3          3     0.0455      0.333     0.0455     0.0319\n",
            "                     T         15         15     0.0237        0.4     0.0423     0.0225\n",
            "                     U          3          3          0          0          0          0\n",
            "                     V          1          1          0          0          0          0\n",
            "                     W          3          3      0.023      0.667      0.025     0.0143\n",
            "                     X          2          2          0          0          0          0\n",
            "                     Y          1          1          0          0          0          0\n",
            "                     Z          1          1          0          0          0          0\n",
            "                     0         26         36     0.0724      0.917      0.238      0.159\n",
            "                     1         24         35      0.107        0.6      0.425      0.276\n",
            "                     2         20         27       0.14      0.444      0.103     0.0816\n",
            "                     3         18         22     0.0913          1       0.37      0.299\n",
            "                     4         23         29     0.0861      0.897      0.258      0.193\n",
            "                     5         19         25      0.132       0.84      0.305      0.235\n",
            "                     6         16         22     0.0616      0.955       0.47      0.378\n",
            "                     7          8         13     0.0602      0.769      0.386      0.256\n",
            "                     8         15         19      0.141      0.947      0.657      0.539\n",
            "                     9         13         17     0.0652      0.882      0.217      0.172\n",
            "Speed: 0.1ms preprocess, 0.6ms inference, 0.0ms loss, 1.0ms postprocess per image\n",
            "Results saved to \u001b[1mC:\\Users\\mtj02\\runs\\detect\\lr_0.01\u001b[0m\n",
            "New https://pypi.org/project/ultralytics/8.3.48 available  Update with 'pip install -U ultralytics'\n",
            "Ultralytics 8.3.47  Python-3.12.6 torch-2.5.1+cu118 CUDA:0 (NVIDIA GeForce RTX 4090, 24564MiB)\n",
            "\u001b[34m\u001b[1mengine\\trainer: \u001b[0mtask=detect, mode=train, model=C:/Users/mtj02/runs/detect/default_training_run2/weights/best.pt, data=config.yaml, epochs=5, time=None, patience=5, batch=8, imgsz=640, save=True, save_period=-1, cache=False, device=None, workers=8, project=None, name=lr_0.001, exist_ok=False, pretrained=True, optimizer=auto, verbose=True, seed=0, deterministic=True, single_cls=False, rect=False, cos_lr=False, close_mosaic=10, resume=False, amp=True, fraction=1.0, profile=False, freeze=None, multi_scale=False, overlap_mask=True, mask_ratio=4, dropout=0.0, val=True, split=val, save_json=False, save_hybrid=False, conf=None, iou=0.7, max_det=300, half=False, dnn=False, plots=True, source=None, vid_stride=1, stream_buffer=False, visualize=False, augment=False, agnostic_nms=False, classes=None, retina_masks=False, embed=None, show=False, save_frames=False, save_txt=False, save_conf=False, save_crop=False, show_labels=True, show_conf=True, show_boxes=True, line_width=None, format=torchscript, keras=False, optimize=False, int8=False, dynamic=False, simplify=True, opset=None, workspace=None, nms=False, lr0=0.001, lrf=0.01, momentum=0.937, weight_decay=0.0005, warmup_epochs=3.0, warmup_momentum=0.8, warmup_bias_lr=0.0, box=7.5, cls=0.5, dfl=1.5, pose=12.0, kobj=1.0, nbs=64, hsv_h=0.015, hsv_s=0.7, hsv_v=0.4, degrees=0.0, translate=0.1, scale=0.5, shear=0.0, perspective=0.0, flipud=0.0, fliplr=0.5, bgr=0.0, mosaic=1.0, mixup=0.0, copy_paste=0.0, copy_paste_mode=flip, auto_augment=randaugment, erasing=0.4, crop_fraction=1.0, cfg=None, tracker=botsort.yaml, save_dir=C:\\Users\\mtj02\\runs\\detect\\lr_0.001\n",
            "\n",
            "                   from  n    params  module                                       arguments                     \n",
            "  0                  -1  1       928  ultralytics.nn.modules.conv.Conv             [3, 32, 3, 2]                 \n",
            "  1                  -1  1     18560  ultralytics.nn.modules.conv.Conv             [32, 64, 3, 2]                \n",
            "  2                  -1  1     29056  ultralytics.nn.modules.block.C2f             [64, 64, 1, True]             \n",
            "  3                  -1  1     73984  ultralytics.nn.modules.conv.Conv             [64, 128, 3, 2]               \n",
            "  4                  -1  2    197632  ultralytics.nn.modules.block.C2f             [128, 128, 2, True]           \n",
            "  5                  -1  1    295424  ultralytics.nn.modules.conv.Conv             [128, 256, 3, 2]              \n",
            "  6                  -1  2    788480  ultralytics.nn.modules.block.C2f             [256, 256, 2, True]           \n",
            "  7                  -1  1   1180672  ultralytics.nn.modules.conv.Conv             [256, 512, 3, 2]              \n",
            "  8                  -1  1   1838080  ultralytics.nn.modules.block.C2f             [512, 512, 1, True]           \n",
            "  9                  -1  1    656896  ultralytics.nn.modules.block.SPPF            [512, 512, 5]                 \n",
            " 10                  -1  1         0  torch.nn.modules.upsampling.Upsample         [None, 2, 'nearest']          \n",
            " 11             [-1, 6]  1         0  ultralytics.nn.modules.conv.Concat           [1]                           \n",
            " 12                  -1  1    591360  ultralytics.nn.modules.block.C2f             [768, 256, 1]                 \n",
            " 13                  -1  1         0  torch.nn.modules.upsampling.Upsample         [None, 2, 'nearest']          \n",
            " 14             [-1, 4]  1         0  ultralytics.nn.modules.conv.Concat           [1]                           \n",
            " 15                  -1  1    148224  ultralytics.nn.modules.block.C2f             [384, 128, 1]                 \n",
            " 16                  -1  1    147712  ultralytics.nn.modules.conv.Conv             [128, 128, 3, 2]              \n",
            " 17            [-1, 12]  1         0  ultralytics.nn.modules.conv.Concat           [1]                           \n",
            " 18                  -1  1    493056  ultralytics.nn.modules.block.C2f             [384, 256, 1]                 \n",
            " 19                  -1  1    590336  ultralytics.nn.modules.conv.Conv             [256, 256, 3, 2]              \n",
            " 20             [-1, 9]  1         0  ultralytics.nn.modules.conv.Concat           [1]                           \n",
            " 21                  -1  1   1969152  ultralytics.nn.modules.block.C2f             [768, 512, 1]                 \n",
            " 22        [15, 18, 21]  1   2129980  ultralytics.nn.modules.head.Detect           [36, [128, 256, 512]]         \n",
            "Model summary: 225 layers, 11,149,532 parameters, 11,149,516 gradients, 28.7 GFLOPs\n",
            "\n",
            "Transferred 355/355 items from pretrained weights\n",
            "\u001b[34m\u001b[1mTensorBoard: \u001b[0mStart with 'tensorboard --logdir C:\\Users\\mtj02\\runs\\detect\\lr_0.001', view at http://localhost:6006/\n",
            "Freezing layer 'model.22.dfl.conv.weight'\n",
            "\u001b[34m\u001b[1mAMP: \u001b[0mrunning Automatic Mixed Precision (AMP) checks...\n",
            "\u001b[34m\u001b[1mAMP: \u001b[0mchecks passed \n"
          ]
        },
        {
          "output_type": "stream",
          "name": "stderr",
          "text": [
            "\u001b[34m\u001b[1mtrain: \u001b[0mScanning C:\\Users\\mtj02\\Desktop\\FinalProject_Group1\\Datasets\\LicensePlateDataset\\labels\\train.cache... 167 image\u001b[0m\n",
            "\u001b[34m\u001b[1mval: \u001b[0mScanning C:\\Users\\mtj02\\Desktop\\FinalProject_Group1\\Datasets\\LicensePlateDataset\\labels\\val.cache... 42 images, 0 \u001b[0m\n"
          ]
        },
        {
          "output_type": "stream",
          "name": "stdout",
          "text": [
            "Plotting labels to C:\\Users\\mtj02\\runs\\detect\\lr_0.001\\labels.jpg... \n",
            "\u001b[34m\u001b[1moptimizer:\u001b[0m 'optimizer=auto' found, ignoring 'lr0=0.001' and 'momentum=0.937' and determining best 'optimizer', 'lr0' and 'momentum' automatically... \n",
            "\u001b[34m\u001b[1moptimizer:\u001b[0m AdamW(lr=0.00025, momentum=0.9) with parameter groups 57 weight(decay=0.0), 64 weight(decay=0.0005), 63 bias(decay=0.0)\n",
            "\u001b[34m\u001b[1mTensorBoard: \u001b[0mmodel graph visualization added \n",
            "Image sizes 640 train, 640 val\n",
            "Using 8 dataloader workers\n",
            "Logging results to \u001b[1mC:\\Users\\mtj02\\runs\\detect\\lr_0.001\u001b[0m\n",
            "Starting training for 5 epochs...\n",
            "\n",
            "      Epoch    GPU_mem   box_loss   cls_loss   dfl_loss  Instances       Size\n"
          ]
        },
        {
          "output_type": "stream",
          "name": "stderr",
          "text": [
            "        1/5      2.56G      1.232      3.932      1.256        167        640: 100%|██████████| 21/21 [00:01<00:00, 20.\n",
            "                 Class     Images  Instances      Box(P          R      mAP50  mAP50-95): 100%|██████████| 3/3 [00:00<0"
          ]
        },
        {
          "output_type": "stream",
          "name": "stdout",
          "text": [
            "                   all         42        413     0.0557      0.479       0.18      0.137\n"
          ]
        },
        {
          "output_type": "stream",
          "name": "stderr",
          "text": [
            "\n"
          ]
        },
        {
          "output_type": "stream",
          "name": "stdout",
          "text": [
            "\n",
            "      Epoch    GPU_mem   box_loss   cls_loss   dfl_loss  Instances       Size\n"
          ]
        },
        {
          "output_type": "stream",
          "name": "stderr",
          "text": [
            "        2/5       2.2G       1.15      3.715      1.183        181        640: 100%|██████████| 21/21 [00:00<00:00, 21.\n",
            "                 Class     Images  Instances      Box(P          R      mAP50  mAP50-95): 100%|██████████| 3/3 [00:00<0"
          ]
        },
        {
          "output_type": "stream",
          "name": "stdout",
          "text": [
            "                   all         42        413     0.0474      0.513      0.199      0.152\n"
          ]
        },
        {
          "output_type": "stream",
          "name": "stderr",
          "text": [
            "\n"
          ]
        },
        {
          "output_type": "stream",
          "name": "stdout",
          "text": [
            "\n",
            "      Epoch    GPU_mem   box_loss   cls_loss   dfl_loss  Instances       Size\n"
          ]
        },
        {
          "output_type": "stream",
          "name": "stderr",
          "text": [
            "        3/5      2.15G      1.142      3.528      1.175         87        640: 100%|██████████| 21/21 [00:00<00:00, 22.\n",
            "                 Class     Images  Instances      Box(P          R      mAP50  mAP50-95): 100%|██████████| 3/3 [00:00<0\n"
          ]
        },
        {
          "output_type": "stream",
          "name": "stdout",
          "text": [
            "                   all         42        413     0.0439      0.564      0.219      0.165\n",
            "\n",
            "      Epoch    GPU_mem   box_loss   cls_loss   dfl_loss  Instances       Size\n"
          ]
        },
        {
          "output_type": "stream",
          "name": "stderr",
          "text": [
            "        4/5      2.18G      1.167       3.43      1.188        127        640: 100%|██████████| 21/21 [00:00<00:00, 22.\n",
            "                 Class     Images  Instances      Box(P          R      mAP50  mAP50-95): 100%|██████████| 3/3 [00:00<0"
          ]
        },
        {
          "output_type": "stream",
          "name": "stdout",
          "text": [
            "                   all         42        413       0.71      0.175      0.235       0.18\n"
          ]
        },
        {
          "output_type": "stream",
          "name": "stderr",
          "text": [
            "\n"
          ]
        },
        {
          "output_type": "stream",
          "name": "stdout",
          "text": [
            "\n",
            "      Epoch    GPU_mem   box_loss   cls_loss   dfl_loss  Instances       Size\n"
          ]
        },
        {
          "output_type": "stream",
          "name": "stderr",
          "text": [
            "        5/5      2.15G      1.183      3.409      1.154        166        640: 100%|██████████| 21/21 [00:00<00:00, 22.\n",
            "                 Class     Images  Instances      Box(P          R      mAP50  mAP50-95): 100%|██████████| 3/3 [00:00<0"
          ]
        },
        {
          "output_type": "stream",
          "name": "stdout",
          "text": [
            "                   all         42        413      0.752      0.124      0.247      0.189\n"
          ]
        },
        {
          "output_type": "stream",
          "name": "stderr",
          "text": [
            "\n"
          ]
        },
        {
          "output_type": "stream",
          "name": "stdout",
          "text": [
            "\n",
            "5 epochs completed in 0.014 hours.\n",
            "Optimizer stripped from C:\\Users\\mtj02\\runs\\detect\\lr_0.001\\weights\\last.pt, 22.5MB\n",
            "Optimizer stripped from C:\\Users\\mtj02\\runs\\detect\\lr_0.001\\weights\\best.pt, 22.5MB\n",
            "\n",
            "Validating C:\\Users\\mtj02\\runs\\detect\\lr_0.001\\weights\\best.pt...\n",
            "Ultralytics 8.3.47  Python-3.12.6 torch-2.5.1+cu118 CUDA:0 (NVIDIA GeForce RTX 4090, 24564MiB)\n",
            "Model summary (fused): 168 layers, 11,139,516 parameters, 0 gradients, 28.5 GFLOPs\n"
          ]
        },
        {
          "output_type": "stream",
          "name": "stderr",
          "text": [
            "                 Class     Images  Instances      Box(P          R      mAP50  mAP50-95): 100%|██████████| 3/3 [00:00<0\n"
          ]
        },
        {
          "output_type": "stream",
          "name": "stdout",
          "text": [
            "                   all         42        413      0.753      0.125      0.247      0.189\n",
            "                     A         11         13          1          0      0.555      0.396\n",
            "                     B         10         10          1          0      0.291      0.231\n",
            "                     C         12         12          1          0      0.104     0.0776\n",
            "                     D          5          5          1          0     0.0801     0.0639\n",
            "                     E          7          8          1          0          0          0\n",
            "                     F          2          2          1          0     0.0143     0.0115\n",
            "                     H         27         29      0.543      0.778       0.68      0.521\n",
            "                     J          1          1          1          0          0          0\n",
            "                     K          6          6      0.506      0.172       0.41      0.297\n",
            "                     L          6          6          1          0       0.24      0.181\n",
            "                     M         21         21      0.458      0.619      0.441      0.334\n",
            "                     N         11         11      0.455     0.0909      0.185      0.141\n",
            "                     O          2          2          0          0          0          0\n",
            "                     P          5          5          1          0          0          0\n",
            "                     Q          1          1          1          0          0          0\n",
            "                     R          6          7          1          0      0.336      0.285\n",
            "                     S          3          3          1          0     0.0478     0.0372\n",
            "                     T         15         15          1          0      0.181      0.137\n",
            "                     U          3          3          1          0          0          0\n",
            "                     V          1          1          1          0          0          0\n",
            "                     W          3          3          1          0    0.00969    0.00873\n",
            "                     X          2          2          0          0          0          0\n",
            "                     Y          1          1          1          0          0          0\n",
            "                     Z          1          1          0          0          0          0\n",
            "                     0         26         36      0.544      0.861      0.762      0.549\n",
            "                     1         24         35          1     0.0398       0.56      0.388\n",
            "                     2         20         27          1          0      0.219      0.166\n",
            "                     3         18         22      0.373      0.488      0.444      0.352\n",
            "                     4         23         29          1     0.0455      0.594      0.462\n",
            "                     5         19         25      0.473      0.324      0.497      0.393\n",
            "                     6         16         22      0.246      0.818      0.551      0.457\n",
            "                     7          8         13          1          0       0.28      0.207\n",
            "                     8         15         19          1          0      0.589      0.473\n",
            "                     9         13         17          0          0      0.339      0.261\n",
            "Speed: 0.2ms preprocess, 0.6ms inference, 0.0ms loss, 0.9ms postprocess per image\n",
            "Results saved to \u001b[1mC:\\Users\\mtj02\\runs\\detect\\lr_0.001\u001b[0m\n",
            "New https://pypi.org/project/ultralytics/8.3.48 available  Update with 'pip install -U ultralytics'\n",
            "Ultralytics 8.3.47  Python-3.12.6 torch-2.5.1+cu118 CUDA:0 (NVIDIA GeForce RTX 4090, 24564MiB)\n",
            "\u001b[34m\u001b[1mengine\\trainer: \u001b[0mtask=detect, mode=train, model=C:/Users/mtj02/runs/detect/default_training_run2/weights/best.pt, data=config.yaml, epochs=5, time=None, patience=5, batch=8, imgsz=640, save=True, save_period=-1, cache=False, device=None, workers=8, project=None, name=lr_0.0005, exist_ok=False, pretrained=True, optimizer=auto, verbose=True, seed=0, deterministic=True, single_cls=False, rect=False, cos_lr=False, close_mosaic=10, resume=False, amp=True, fraction=1.0, profile=False, freeze=None, multi_scale=False, overlap_mask=True, mask_ratio=4, dropout=0.0, val=True, split=val, save_json=False, save_hybrid=False, conf=None, iou=0.7, max_det=300, half=False, dnn=False, plots=True, source=None, vid_stride=1, stream_buffer=False, visualize=False, augment=False, agnostic_nms=False, classes=None, retina_masks=False, embed=None, show=False, save_frames=False, save_txt=False, save_conf=False, save_crop=False, show_labels=True, show_conf=True, show_boxes=True, line_width=None, format=torchscript, keras=False, optimize=False, int8=False, dynamic=False, simplify=True, opset=None, workspace=None, nms=False, lr0=0.0005, lrf=0.01, momentum=0.937, weight_decay=0.0005, warmup_epochs=3.0, warmup_momentum=0.8, warmup_bias_lr=0.0, box=7.5, cls=0.5, dfl=1.5, pose=12.0, kobj=1.0, nbs=64, hsv_h=0.015, hsv_s=0.7, hsv_v=0.4, degrees=0.0, translate=0.1, scale=0.5, shear=0.0, perspective=0.0, flipud=0.0, fliplr=0.5, bgr=0.0, mosaic=1.0, mixup=0.0, copy_paste=0.0, copy_paste_mode=flip, auto_augment=randaugment, erasing=0.4, crop_fraction=1.0, cfg=None, tracker=botsort.yaml, save_dir=C:\\Users\\mtj02\\runs\\detect\\lr_0.0005\n",
            "\n",
            "                   from  n    params  module                                       arguments                     \n",
            "  0                  -1  1       928  ultralytics.nn.modules.conv.Conv             [3, 32, 3, 2]                 \n",
            "  1                  -1  1     18560  ultralytics.nn.modules.conv.Conv             [32, 64, 3, 2]                \n",
            "  2                  -1  1     29056  ultralytics.nn.modules.block.C2f             [64, 64, 1, True]             \n",
            "  3                  -1  1     73984  ultralytics.nn.modules.conv.Conv             [64, 128, 3, 2]               \n",
            "  4                  -1  2    197632  ultralytics.nn.modules.block.C2f             [128, 128, 2, True]           \n",
            "  5                  -1  1    295424  ultralytics.nn.modules.conv.Conv             [128, 256, 3, 2]              \n",
            "  6                  -1  2    788480  ultralytics.nn.modules.block.C2f             [256, 256, 2, True]           \n",
            "  7                  -1  1   1180672  ultralytics.nn.modules.conv.Conv             [256, 512, 3, 2]              \n",
            "  8                  -1  1   1838080  ultralytics.nn.modules.block.C2f             [512, 512, 1, True]           \n",
            "  9                  -1  1    656896  ultralytics.nn.modules.block.SPPF            [512, 512, 5]                 \n",
            " 10                  -1  1         0  torch.nn.modules.upsampling.Upsample         [None, 2, 'nearest']          \n",
            " 11             [-1, 6]  1         0  ultralytics.nn.modules.conv.Concat           [1]                           \n",
            " 12                  -1  1    591360  ultralytics.nn.modules.block.C2f             [768, 256, 1]                 \n",
            " 13                  -1  1         0  torch.nn.modules.upsampling.Upsample         [None, 2, 'nearest']          \n",
            " 14             [-1, 4]  1         0  ultralytics.nn.modules.conv.Concat           [1]                           \n",
            " 15                  -1  1    148224  ultralytics.nn.modules.block.C2f             [384, 128, 1]                 \n",
            " 16                  -1  1    147712  ultralytics.nn.modules.conv.Conv             [128, 128, 3, 2]              \n",
            " 17            [-1, 12]  1         0  ultralytics.nn.modules.conv.Concat           [1]                           \n",
            " 18                  -1  1    493056  ultralytics.nn.modules.block.C2f             [384, 256, 1]                 \n",
            " 19                  -1  1    590336  ultralytics.nn.modules.conv.Conv             [256, 256, 3, 2]              \n",
            " 20             [-1, 9]  1         0  ultralytics.nn.modules.conv.Concat           [1]                           \n",
            " 21                  -1  1   1969152  ultralytics.nn.modules.block.C2f             [768, 512, 1]                 \n",
            " 22        [15, 18, 21]  1   2129980  ultralytics.nn.modules.head.Detect           [36, [128, 256, 512]]         \n",
            "Model summary: 225 layers, 11,149,532 parameters, 11,149,516 gradients, 28.7 GFLOPs\n",
            "\n",
            "Transferred 355/355 items from pretrained weights\n",
            "\u001b[34m\u001b[1mTensorBoard: \u001b[0mStart with 'tensorboard --logdir C:\\Users\\mtj02\\runs\\detect\\lr_0.0005', view at http://localhost:6006/\n",
            "Freezing layer 'model.22.dfl.conv.weight'\n",
            "\u001b[34m\u001b[1mAMP: \u001b[0mrunning Automatic Mixed Precision (AMP) checks...\n",
            "\u001b[34m\u001b[1mAMP: \u001b[0mchecks passed \n"
          ]
        },
        {
          "output_type": "stream",
          "name": "stderr",
          "text": [
            "\u001b[34m\u001b[1mtrain: \u001b[0mScanning C:\\Users\\mtj02\\Desktop\\FinalProject_Group1\\Datasets\\LicensePlateDataset\\labels\\train.cache... 167 image\u001b[0m\n",
            "\u001b[34m\u001b[1mval: \u001b[0mScanning C:\\Users\\mtj02\\Desktop\\FinalProject_Group1\\Datasets\\LicensePlateDataset\\labels\\val.cache... 42 images, 0 \u001b[0m\n"
          ]
        },
        {
          "output_type": "stream",
          "name": "stdout",
          "text": [
            "Plotting labels to C:\\Users\\mtj02\\runs\\detect\\lr_0.0005\\labels.jpg... \n",
            "\u001b[34m\u001b[1moptimizer:\u001b[0m 'optimizer=auto' found, ignoring 'lr0=0.0005' and 'momentum=0.937' and determining best 'optimizer', 'lr0' and 'momentum' automatically... \n",
            "\u001b[34m\u001b[1moptimizer:\u001b[0m AdamW(lr=0.00025, momentum=0.9) with parameter groups 57 weight(decay=0.0), 64 weight(decay=0.0005), 63 bias(decay=0.0)\n",
            "\u001b[34m\u001b[1mTensorBoard: \u001b[0mmodel graph visualization added \n",
            "Image sizes 640 train, 640 val\n",
            "Using 8 dataloader workers\n",
            "Logging results to \u001b[1mC:\\Users\\mtj02\\runs\\detect\\lr_0.0005\u001b[0m\n",
            "Starting training for 5 epochs...\n",
            "\n",
            "      Epoch    GPU_mem   box_loss   cls_loss   dfl_loss  Instances       Size\n"
          ]
        },
        {
          "output_type": "stream",
          "name": "stderr",
          "text": [
            "        1/5      2.56G      1.129      3.325      1.165        167        640: 100%|██████████| 21/21 [00:01<00:00, 14.\n",
            "                 Class     Images  Instances      Box(P          R      mAP50  mAP50-95): 100%|██████████| 3/3 [00:00<0\n"
          ]
        },
        {
          "output_type": "stream",
          "name": "stdout",
          "text": [
            "                   all         42        413      0.799      0.143      0.259      0.198\n",
            "\n",
            "      Epoch    GPU_mem   box_loss   cls_loss   dfl_loss  Instances       Size\n"
          ]
        },
        {
          "output_type": "stream",
          "name": "stderr",
          "text": [
            "        2/5      2.33G      1.074      3.115      1.114        181        640: 100%|██████████| 21/21 [00:01<00:00, 18.\n",
            "                 Class     Images  Instances      Box(P          R      mAP50  mAP50-95): 100%|██████████| 3/3 [00:00<0\n"
          ]
        },
        {
          "output_type": "stream",
          "name": "stdout",
          "text": [
            "                   all         42        413      0.711      0.194      0.284      0.218\n",
            "\n",
            "      Epoch    GPU_mem   box_loss   cls_loss   dfl_loss  Instances       Size\n"
          ]
        },
        {
          "output_type": "stream",
          "name": "stderr",
          "text": [
            "        3/5      2.27G      1.078       2.95      1.122         87        640: 100%|██████████| 21/21 [00:00<00:00, 22.\n",
            "                 Class     Images  Instances      Box(P          R      mAP50  mAP50-95): 100%|██████████| 3/3 [00:00<0"
          ]
        },
        {
          "output_type": "stream",
          "name": "stdout",
          "text": [
            "                   all         42        413      0.708      0.228      0.308      0.236\n"
          ]
        },
        {
          "output_type": "stream",
          "name": "stderr",
          "text": [
            "\n"
          ]
        },
        {
          "output_type": "stream",
          "name": "stdout",
          "text": [
            "\n",
            "      Epoch    GPU_mem   box_loss   cls_loss   dfl_loss  Instances       Size\n"
          ]
        },
        {
          "output_type": "stream",
          "name": "stderr",
          "text": [
            "        4/5      2.21G      1.122      2.928      1.145        127        640: 100%|██████████| 21/21 [00:00<00:00, 22.\n",
            "                 Class     Images  Instances      Box(P          R      mAP50  mAP50-95): 100%|██████████| 3/3 [00:00<0"
          ]
        },
        {
          "output_type": "stream",
          "name": "stdout",
          "text": [
            "                   all         42        413      0.694      0.256      0.325      0.252\n"
          ]
        },
        {
          "output_type": "stream",
          "name": "stderr",
          "text": [
            "\n"
          ]
        },
        {
          "output_type": "stream",
          "name": "stdout",
          "text": [
            "\n",
            "      Epoch    GPU_mem   box_loss   cls_loss   dfl_loss  Instances       Size\n"
          ]
        },
        {
          "output_type": "stream",
          "name": "stderr",
          "text": [
            "        5/5      2.28G      1.142      2.919      1.117        166        640: 100%|██████████| 21/21 [00:00<00:00, 22.\n",
            "                 Class     Images  Instances      Box(P          R      mAP50  mAP50-95): 100%|██████████| 3/3 [00:00<0"
          ]
        },
        {
          "output_type": "stream",
          "name": "stdout",
          "text": [
            "                   all         42        413      0.682      0.269      0.332      0.257\n"
          ]
        },
        {
          "output_type": "stream",
          "name": "stderr",
          "text": [
            "\n"
          ]
        },
        {
          "output_type": "stream",
          "name": "stdout",
          "text": [
            "\n",
            "5 epochs completed in 0.037 hours.\n",
            "Optimizer stripped from C:\\Users\\mtj02\\runs\\detect\\lr_0.0005\\weights\\last.pt, 22.5MB\n",
            "Optimizer stripped from C:\\Users\\mtj02\\runs\\detect\\lr_0.0005\\weights\\best.pt, 22.5MB\n",
            "\n",
            "Validating C:\\Users\\mtj02\\runs\\detect\\lr_0.0005\\weights\\best.pt...\n",
            "Ultralytics 8.3.47  Python-3.12.6 torch-2.5.1+cu118 CUDA:0 (NVIDIA GeForce RTX 4090, 24564MiB)\n",
            "Model summary (fused): 168 layers, 11,139,516 parameters, 0 gradients, 28.5 GFLOPs\n"
          ]
        },
        {
          "output_type": "stream",
          "name": "stderr",
          "text": [
            "                 Class     Images  Instances      Box(P          R      mAP50  mAP50-95): 100%|██████████| 3/3 [00:00<0\n"
          ]
        },
        {
          "output_type": "stream",
          "name": "stdout",
          "text": [
            "                   all         42        413      0.682      0.269      0.333      0.257\n",
            "                     A         11         13          1     0.0956      0.602      0.443\n",
            "                     B         10         10          1      0.185      0.752      0.621\n",
            "                     C         12         12          0          0      0.108     0.0808\n",
            "                     D          5          5          1          0     0.0578      0.046\n",
            "                     E          7          8          1          0     0.0317     0.0242\n",
            "                     F          2          2          1          0     0.0158     0.0133\n",
            "                     H         27         29        0.3      0.931       0.75       0.57\n",
            "                     J          1          1          1          0    0.00822    0.00576\n",
            "                     K          6          6      0.128      0.833      0.758      0.581\n",
            "                     L          6          6          1          0      0.299       0.24\n",
            "                     M         21         21      0.255      0.762      0.535      0.416\n",
            "                     N         11         11      0.196     0.0909      0.162      0.127\n",
            "                     O          2          2          0          0          0          0\n",
            "                     P          5          5          1          0    0.00209    0.00188\n",
            "                     Q          1          1          1          0          0          0\n",
            "                     R          6          7          1          0      0.341      0.293\n",
            "                     S          3          3          1          0      0.201      0.171\n",
            "                     T         15         15          1          0      0.342      0.256\n",
            "                     U          3          3          1          0          0          0\n",
            "                     V          1          1          1          0          0          0\n",
            "                     W          3          3          1          0     0.0235     0.0192\n",
            "                     X          2          2          0          0          0          0\n",
            "                     Y          1          1          1          0          0          0\n",
            "                     Z          1          1          1          0          0          0\n",
            "                     0         26         36       0.47      0.972      0.869      0.635\n",
            "                     1         24         35      0.594        0.6      0.629      0.429\n",
            "                     2         20         27      0.884      0.407      0.652      0.487\n",
            "                     3         18         22      0.318      0.955      0.476      0.375\n",
            "                     4         23         29      0.954      0.379      0.792      0.611\n",
            "                     5         19         25      0.451       0.64      0.584       0.46\n",
            "                     6         16         22       0.19      0.909      0.637      0.507\n",
            "                     7          8         13      0.265      0.231      0.492      0.399\n",
            "                     8         15         19      0.862      0.329      0.671      0.534\n",
            "                     9         13         17      0.308      0.824      0.519        0.4\n",
            "Speed: 0.1ms preprocess, 0.6ms inference, 0.0ms loss, 0.7ms postprocess per image\n",
            "Results saved to \u001b[1mC:\\Users\\mtj02\\runs\\detect\\lr_0.0005\u001b[0m\n",
            "New https://pypi.org/project/ultralytics/8.3.48 available  Update with 'pip install -U ultralytics'\n",
            "Ultralytics 8.3.47  Python-3.12.6 torch-2.5.1+cu118 CUDA:0 (NVIDIA GeForce RTX 4090, 24564MiB)\n",
            "\u001b[34m\u001b[1mengine\\trainer: \u001b[0mtask=detect, mode=train, model=C:/Users/mtj02/runs/detect/default_training_run2/weights/best.pt, data=config.yaml, epochs=5, time=None, patience=5, batch=8, imgsz=640, save=True, save_period=-1, cache=False, device=None, workers=8, project=None, name=lr_0.0001, exist_ok=False, pretrained=True, optimizer=auto, verbose=True, seed=0, deterministic=True, single_cls=False, rect=False, cos_lr=False, close_mosaic=10, resume=False, amp=True, fraction=1.0, profile=False, freeze=None, multi_scale=False, overlap_mask=True, mask_ratio=4, dropout=0.0, val=True, split=val, save_json=False, save_hybrid=False, conf=None, iou=0.7, max_det=300, half=False, dnn=False, plots=True, source=None, vid_stride=1, stream_buffer=False, visualize=False, augment=False, agnostic_nms=False, classes=None, retina_masks=False, embed=None, show=False, save_frames=False, save_txt=False, save_conf=False, save_crop=False, show_labels=True, show_conf=True, show_boxes=True, line_width=None, format=torchscript, keras=False, optimize=False, int8=False, dynamic=False, simplify=True, opset=None, workspace=None, nms=False, lr0=0.0001, lrf=0.01, momentum=0.937, weight_decay=0.0005, warmup_epochs=3.0, warmup_momentum=0.8, warmup_bias_lr=0.0, box=7.5, cls=0.5, dfl=1.5, pose=12.0, kobj=1.0, nbs=64, hsv_h=0.015, hsv_s=0.7, hsv_v=0.4, degrees=0.0, translate=0.1, scale=0.5, shear=0.0, perspective=0.0, flipud=0.0, fliplr=0.5, bgr=0.0, mosaic=1.0, mixup=0.0, copy_paste=0.0, copy_paste_mode=flip, auto_augment=randaugment, erasing=0.4, crop_fraction=1.0, cfg=None, tracker=botsort.yaml, save_dir=C:\\Users\\mtj02\\runs\\detect\\lr_0.0001\n",
            "\n",
            "                   from  n    params  module                                       arguments                     \n",
            "  0                  -1  1       928  ultralytics.nn.modules.conv.Conv             [3, 32, 3, 2]                 \n",
            "  1                  -1  1     18560  ultralytics.nn.modules.conv.Conv             [32, 64, 3, 2]                \n",
            "  2                  -1  1     29056  ultralytics.nn.modules.block.C2f             [64, 64, 1, True]             \n",
            "  3                  -1  1     73984  ultralytics.nn.modules.conv.Conv             [64, 128, 3, 2]               \n",
            "  4                  -1  2    197632  ultralytics.nn.modules.block.C2f             [128, 128, 2, True]           \n",
            "  5                  -1  1    295424  ultralytics.nn.modules.conv.Conv             [128, 256, 3, 2]              \n",
            "  6                  -1  2    788480  ultralytics.nn.modules.block.C2f             [256, 256, 2, True]           \n",
            "  7                  -1  1   1180672  ultralytics.nn.modules.conv.Conv             [256, 512, 3, 2]              \n",
            "  8                  -1  1   1838080  ultralytics.nn.modules.block.C2f             [512, 512, 1, True]           \n",
            "  9                  -1  1    656896  ultralytics.nn.modules.block.SPPF            [512, 512, 5]                 \n",
            " 10                  -1  1         0  torch.nn.modules.upsampling.Upsample         [None, 2, 'nearest']          \n",
            " 11             [-1, 6]  1         0  ultralytics.nn.modules.conv.Concat           [1]                           \n",
            " 12                  -1  1    591360  ultralytics.nn.modules.block.C2f             [768, 256, 1]                 \n",
            " 13                  -1  1         0  torch.nn.modules.upsampling.Upsample         [None, 2, 'nearest']          \n",
            " 14             [-1, 4]  1         0  ultralytics.nn.modules.conv.Concat           [1]                           \n",
            " 15                  -1  1    148224  ultralytics.nn.modules.block.C2f             [384, 128, 1]                 \n",
            " 16                  -1  1    147712  ultralytics.nn.modules.conv.Conv             [128, 128, 3, 2]              \n",
            " 17            [-1, 12]  1         0  ultralytics.nn.modules.conv.Concat           [1]                           \n",
            " 18                  -1  1    493056  ultralytics.nn.modules.block.C2f             [384, 256, 1]                 \n",
            " 19                  -1  1    590336  ultralytics.nn.modules.conv.Conv             [256, 256, 3, 2]              \n",
            " 20             [-1, 9]  1         0  ultralytics.nn.modules.conv.Concat           [1]                           \n",
            " 21                  -1  1   1969152  ultralytics.nn.modules.block.C2f             [768, 512, 1]                 \n",
            " 22        [15, 18, 21]  1   2129980  ultralytics.nn.modules.head.Detect           [36, [128, 256, 512]]         \n",
            "Model summary: 225 layers, 11,149,532 parameters, 11,149,516 gradients, 28.7 GFLOPs\n",
            "\n",
            "Transferred 355/355 items from pretrained weights\n",
            "\u001b[34m\u001b[1mTensorBoard: \u001b[0mStart with 'tensorboard --logdir C:\\Users\\mtj02\\runs\\detect\\lr_0.0001', view at http://localhost:6006/\n",
            "Freezing layer 'model.22.dfl.conv.weight'\n",
            "\u001b[34m\u001b[1mAMP: \u001b[0mrunning Automatic Mixed Precision (AMP) checks...\n",
            "\u001b[34m\u001b[1mAMP: \u001b[0mchecks passed \n"
          ]
        },
        {
          "output_type": "stream",
          "name": "stderr",
          "text": [
            "\u001b[34m\u001b[1mtrain: \u001b[0mScanning C:\\Users\\mtj02\\Desktop\\FinalProject_Group1\\Datasets\\LicensePlateDataset\\labels\\train.cache... 167 image\u001b[0m\n",
            "\u001b[34m\u001b[1mval: \u001b[0mScanning C:\\Users\\mtj02\\Desktop\\FinalProject_Group1\\Datasets\\LicensePlateDataset\\labels\\val.cache... 42 images, 0 \u001b[0m\n"
          ]
        },
        {
          "output_type": "stream",
          "name": "stdout",
          "text": [
            "Plotting labels to C:\\Users\\mtj02\\runs\\detect\\lr_0.0001\\labels.jpg... \n",
            "\u001b[34m\u001b[1moptimizer:\u001b[0m 'optimizer=auto' found, ignoring 'lr0=0.0001' and 'momentum=0.937' and determining best 'optimizer', 'lr0' and 'momentum' automatically... \n",
            "\u001b[34m\u001b[1moptimizer:\u001b[0m AdamW(lr=0.00025, momentum=0.9) with parameter groups 57 weight(decay=0.0), 64 weight(decay=0.0005), 63 bias(decay=0.0)\n",
            "\u001b[34m\u001b[1mTensorBoard: \u001b[0mmodel graph visualization added \n",
            "Image sizes 640 train, 640 val\n",
            "Using 8 dataloader workers\n",
            "Logging results to \u001b[1mC:\\Users\\mtj02\\runs\\detect\\lr_0.0001\u001b[0m\n",
            "Starting training for 5 epochs...\n",
            "\n",
            "      Epoch    GPU_mem   box_loss   cls_loss   dfl_loss  Instances       Size\n"
          ]
        },
        {
          "output_type": "stream",
          "name": "stderr",
          "text": [
            "        1/5      2.52G      1.065      2.811      1.117        167        640: 100%|██████████| 21/21 [00:01<00:00, 17.\n",
            "                 Class     Images  Instances      Box(P          R      mAP50  mAP50-95): 100%|██████████| 3/3 [00:00<0"
          ]
        },
        {
          "output_type": "stream",
          "name": "stdout",
          "text": [
            "                   all         42        413      0.694       0.27      0.342      0.266\n"
          ]
        },
        {
          "output_type": "stream",
          "name": "stderr",
          "text": [
            "\n"
          ]
        },
        {
          "output_type": "stream",
          "name": "stdout",
          "text": [
            "\n",
            "      Epoch    GPU_mem   box_loss   cls_loss   dfl_loss  Instances       Size\n"
          ]
        },
        {
          "output_type": "stream",
          "name": "stderr",
          "text": [
            "        2/5      2.26G      1.023       2.62      1.076        181        640: 100%|██████████| 21/21 [00:01<00:00, 17.\n",
            "                 Class     Images  Instances      Box(P          R      mAP50  mAP50-95): 100%|██████████| 3/3 [00:00<0"
          ]
        },
        {
          "output_type": "stream",
          "name": "stdout",
          "text": [
            "                   all         42        413      0.637      0.299      0.363      0.282\n"
          ]
        },
        {
          "output_type": "stream",
          "name": "stderr",
          "text": [
            "\n"
          ]
        },
        {
          "output_type": "stream",
          "name": "stdout",
          "text": [
            "\n",
            "      Epoch    GPU_mem   box_loss   cls_loss   dfl_loss  Instances       Size\n"
          ]
        },
        {
          "output_type": "stream",
          "name": "stderr",
          "text": [
            "        3/5      2.28G       1.04      2.506      1.092         87        640: 100%|██████████| 21/21 [00:00<00:00, 24.\n",
            "                 Class     Images  Instances      Box(P          R      mAP50  mAP50-95): 100%|██████████| 3/3 [00:00<0\n"
          ]
        },
        {
          "output_type": "stream",
          "name": "stdout",
          "text": [
            "                   all         42        413      0.675      0.336      0.374       0.29\n",
            "\n",
            "      Epoch    GPU_mem   box_loss   cls_loss   dfl_loss  Instances       Size\n"
          ]
        },
        {
          "output_type": "stream",
          "name": "stderr",
          "text": [
            "        4/5      2.21G      1.082      2.512      1.115        127        640: 100%|██████████| 21/21 [00:00<00:00, 23.\n",
            "                 Class     Images  Instances      Box(P          R      mAP50  mAP50-95): 100%|██████████| 3/3 [00:00<0"
          ]
        },
        {
          "output_type": "stream",
          "name": "stdout",
          "text": [
            "                   all         42        413        0.7       0.35      0.393      0.303\n"
          ]
        },
        {
          "output_type": "stream",
          "name": "stderr",
          "text": [
            "\n"
          ]
        },
        {
          "output_type": "stream",
          "name": "stdout",
          "text": [
            "\n",
            "      Epoch    GPU_mem   box_loss   cls_loss   dfl_loss  Instances       Size\n"
          ]
        },
        {
          "output_type": "stream",
          "name": "stderr",
          "text": [
            "        5/5      2.26G      1.104      2.535      1.093        166        640: 100%|██████████| 21/21 [00:00<00:00, 23.\n",
            "                 Class     Images  Instances      Box(P          R      mAP50  mAP50-95): 100%|██████████| 3/3 [00:00<0"
          ]
        },
        {
          "output_type": "stream",
          "name": "stdout",
          "text": [
            "                   all         42        413      0.701      0.355      0.397      0.306\n"
          ]
        },
        {
          "output_type": "stream",
          "name": "stderr",
          "text": [
            "\n"
          ]
        },
        {
          "output_type": "stream",
          "name": "stdout",
          "text": [
            "\n",
            "5 epochs completed in 0.036 hours.\n",
            "Optimizer stripped from C:\\Users\\mtj02\\runs\\detect\\lr_0.0001\\weights\\last.pt, 22.5MB\n",
            "Optimizer stripped from C:\\Users\\mtj02\\runs\\detect\\lr_0.0001\\weights\\best.pt, 22.5MB\n",
            "\n",
            "Validating C:\\Users\\mtj02\\runs\\detect\\lr_0.0001\\weights\\best.pt...\n",
            "Ultralytics 8.3.47  Python-3.12.6 torch-2.5.1+cu118 CUDA:0 (NVIDIA GeForce RTX 4090, 24564MiB)\n",
            "Model summary (fused): 168 layers, 11,139,516 parameters, 0 gradients, 28.5 GFLOPs\n"
          ]
        },
        {
          "output_type": "stream",
          "name": "stderr",
          "text": [
            "                 Class     Images  Instances      Box(P          R      mAP50  mAP50-95): 100%|██████████| 3/3 [00:00<0\n"
          ]
        },
        {
          "output_type": "stream",
          "name": "stdout",
          "text": [
            "                   all         42        413      0.704      0.354      0.397      0.306\n",
            "                     A         11         13      0.743      0.231      0.616      0.432\n",
            "                     B         10         10          1      0.449      0.807       0.65\n",
            "                     C         12         12      0.142      0.235      0.134      0.104\n",
            "                     D          5          5          1          0      0.134      0.119\n",
            "                     E          7          8          1          0     0.0825     0.0659\n",
            "                     F          2          2          1          0      0.018     0.0162\n",
            "                     H         27         29      0.361      0.931      0.798      0.622\n",
            "                     J          1          1          1          0     0.0107    0.00749\n",
            "                     K          6          6      0.168      0.833      0.843      0.634\n",
            "                     L          6          6      0.586      0.333       0.39      0.319\n",
            "                     M         21         21      0.273      0.823      0.668      0.516\n",
            "                     N         11         11      0.224      0.061      0.118     0.0909\n",
            "                     O          2          2          0          0          0          0\n",
            "                     P          5          5          1          0     0.0113    0.00994\n",
            "                     Q          1          1          1          0          0          0\n",
            "                     R          6          7          1          0      0.169      0.135\n",
            "                     S          3          3          1          0      0.406      0.346\n",
            "                     T         15         15          1          0      0.668      0.501\n",
            "                     U          3          3          1          0     0.0404     0.0322\n",
            "                     V          1          1          1          0          0          0\n",
            "                     W          3          3          1          0     0.0737     0.0643\n",
            "                     X          2          2          1          0          0          0\n",
            "                     Y          1          1          1          0          0          0\n",
            "                     Z          1          1          1          0      0.166      0.149\n",
            "                     0         26         36      0.518      0.944       0.89      0.649\n",
            "                     1         24         35      0.529      0.714      0.719      0.484\n",
            "                     2         20         27      0.713      0.741      0.802      0.595\n",
            "                     3         18         22      0.398          1      0.497      0.394\n",
            "                     4         23         29      0.911      0.706      0.873      0.676\n",
            "                     5         19         25      0.498       0.76        0.7      0.551\n",
            "                     6         16         22      0.285      0.909      0.694      0.544\n",
            "                     7          8         13      0.507      0.923      0.806      0.673\n",
            "                     8         15         19      0.725      0.632      0.733      0.584\n",
            "                     9         13         17      0.353      0.824      0.624      0.447\n",
            "Speed: 0.1ms preprocess, 0.6ms inference, 0.0ms loss, 1.3ms postprocess per image\n",
            "Results saved to \u001b[1mC:\\Users\\mtj02\\runs\\detect\\lr_0.0001\u001b[0m\n"
          ]
        }
      ]
    },
    {
      "cell_type": "markdown",
      "source": [
        "We found that **lr = 0.0001** performs best. Now try different **batch sizes**."
      ],
      "metadata": {
        "id": "LqGoa2SiF4oC"
      }
    },
    {
      "cell_type": "code",
      "source": [
        "# Try different batch sizes\n",
        "for batch_size in [4, 8, 16, 32]:\n",
        "    model.train(data=\"config.yaml\", epochs=5, patience=5, batch=batch_size, lr0=0.0001, imgsz=640, name=f\"batch_{batch_size}\")"
      ],
      "metadata": {
        "collapsed": true,
        "id": "CCfkjSrBPgbs",
        "outputId": "4efc77e8-45e7-4e15-84a2-ea7b8bb5c0a4",
        "colab": {
          "base_uri": "https://localhost:8080/"
        }
      },
      "execution_count": 16,
      "outputs": [
        {
          "output_type": "stream",
          "name": "stdout",
          "text": [
            "New https://pypi.org/project/ultralytics/8.3.48 available  Update with 'pip install -U ultralytics'\n",
            "Ultralytics 8.3.47  Python-3.12.6 torch-2.5.1+cu118 CUDA:0 (NVIDIA GeForce RTX 4090, 24564MiB)\n",
            "\u001b[34m\u001b[1mengine\\trainer: \u001b[0mtask=detect, mode=train, model=C:/Users/mtj02/runs/detect/default_training_run2/weights/best.pt, data=config.yaml, epochs=5, time=None, patience=5, batch=4, imgsz=640, save=True, save_period=-1, cache=False, device=None, workers=8, project=None, name=batch_4, exist_ok=False, pretrained=True, optimizer=auto, verbose=True, seed=0, deterministic=True, single_cls=False, rect=False, cos_lr=False, close_mosaic=10, resume=False, amp=True, fraction=1.0, profile=False, freeze=None, multi_scale=False, overlap_mask=True, mask_ratio=4, dropout=0.0, val=True, split=val, save_json=False, save_hybrid=False, conf=None, iou=0.7, max_det=300, half=False, dnn=False, plots=True, source=None, vid_stride=1, stream_buffer=False, visualize=False, augment=False, agnostic_nms=False, classes=None, retina_masks=False, embed=None, show=False, save_frames=False, save_txt=False, save_conf=False, save_crop=False, show_labels=True, show_conf=True, show_boxes=True, line_width=None, format=torchscript, keras=False, optimize=False, int8=False, dynamic=False, simplify=True, opset=None, workspace=None, nms=False, lr0=0.0001, lrf=0.01, momentum=0.937, weight_decay=0.0005, warmup_epochs=3.0, warmup_momentum=0.8, warmup_bias_lr=0.0, box=7.5, cls=0.5, dfl=1.5, pose=12.0, kobj=1.0, nbs=64, hsv_h=0.015, hsv_s=0.7, hsv_v=0.4, degrees=0.0, translate=0.1, scale=0.5, shear=0.0, perspective=0.0, flipud=0.0, fliplr=0.5, bgr=0.0, mosaic=1.0, mixup=0.0, copy_paste=0.0, copy_paste_mode=flip, auto_augment=randaugment, erasing=0.4, crop_fraction=1.0, cfg=None, tracker=botsort.yaml, save_dir=C:\\Users\\mtj02\\runs\\detect\\batch_4\n",
            "\n",
            "                   from  n    params  module                                       arguments                     \n",
            "  0                  -1  1       928  ultralytics.nn.modules.conv.Conv             [3, 32, 3, 2]                 \n",
            "  1                  -1  1     18560  ultralytics.nn.modules.conv.Conv             [32, 64, 3, 2]                \n",
            "  2                  -1  1     29056  ultralytics.nn.modules.block.C2f             [64, 64, 1, True]             \n",
            "  3                  -1  1     73984  ultralytics.nn.modules.conv.Conv             [64, 128, 3, 2]               \n",
            "  4                  -1  2    197632  ultralytics.nn.modules.block.C2f             [128, 128, 2, True]           \n",
            "  5                  -1  1    295424  ultralytics.nn.modules.conv.Conv             [128, 256, 3, 2]              \n",
            "  6                  -1  2    788480  ultralytics.nn.modules.block.C2f             [256, 256, 2, True]           \n",
            "  7                  -1  1   1180672  ultralytics.nn.modules.conv.Conv             [256, 512, 3, 2]              \n",
            "  8                  -1  1   1838080  ultralytics.nn.modules.block.C2f             [512, 512, 1, True]           \n",
            "  9                  -1  1    656896  ultralytics.nn.modules.block.SPPF            [512, 512, 5]                 \n",
            " 10                  -1  1         0  torch.nn.modules.upsampling.Upsample         [None, 2, 'nearest']          \n",
            " 11             [-1, 6]  1         0  ultralytics.nn.modules.conv.Concat           [1]                           \n",
            " 12                  -1  1    591360  ultralytics.nn.modules.block.C2f             [768, 256, 1]                 \n",
            " 13                  -1  1         0  torch.nn.modules.upsampling.Upsample         [None, 2, 'nearest']          \n",
            " 14             [-1, 4]  1         0  ultralytics.nn.modules.conv.Concat           [1]                           \n",
            " 15                  -1  1    148224  ultralytics.nn.modules.block.C2f             [384, 128, 1]                 \n",
            " 16                  -1  1    147712  ultralytics.nn.modules.conv.Conv             [128, 128, 3, 2]              \n",
            " 17            [-1, 12]  1         0  ultralytics.nn.modules.conv.Concat           [1]                           \n",
            " 18                  -1  1    493056  ultralytics.nn.modules.block.C2f             [384, 256, 1]                 \n",
            " 19                  -1  1    590336  ultralytics.nn.modules.conv.Conv             [256, 256, 3, 2]              \n",
            " 20             [-1, 9]  1         0  ultralytics.nn.modules.conv.Concat           [1]                           \n",
            " 21                  -1  1   1969152  ultralytics.nn.modules.block.C2f             [768, 512, 1]                 \n",
            " 22        [15, 18, 21]  1   2129980  ultralytics.nn.modules.head.Detect           [36, [128, 256, 512]]         \n",
            "Model summary: 225 layers, 11,149,532 parameters, 11,149,516 gradients, 28.7 GFLOPs\n",
            "\n",
            "Transferred 355/355 items from pretrained weights\n",
            "\u001b[34m\u001b[1mTensorBoard: \u001b[0mStart with 'tensorboard --logdir C:\\Users\\mtj02\\runs\\detect\\batch_4', view at http://localhost:6006/\n",
            "Freezing layer 'model.22.dfl.conv.weight'\n",
            "\u001b[34m\u001b[1mAMP: \u001b[0mrunning Automatic Mixed Precision (AMP) checks...\n",
            "\u001b[34m\u001b[1mAMP: \u001b[0mchecks passed \n"
          ]
        },
        {
          "output_type": "stream",
          "name": "stderr",
          "text": [
            "\u001b[34m\u001b[1mtrain: \u001b[0mScanning C:\\Users\\mtj02\\Desktop\\FinalProject_Group1\\Datasets\\LicensePlateDataset\\labels\\train.cache... 167 image\u001b[0m\n",
            "\u001b[34m\u001b[1mval: \u001b[0mScanning C:\\Users\\mtj02\\Desktop\\FinalProject_Group1\\Datasets\\LicensePlateDataset\\labels\\val.cache... 42 images, 0 \u001b[0m\n"
          ]
        },
        {
          "output_type": "stream",
          "name": "stdout",
          "text": [
            "Plotting labels to C:\\Users\\mtj02\\runs\\detect\\batch_4\\labels.jpg... \n",
            "\u001b[34m\u001b[1moptimizer:\u001b[0m 'optimizer=auto' found, ignoring 'lr0=0.0001' and 'momentum=0.937' and determining best 'optimizer', 'lr0' and 'momentum' automatically... \n",
            "\u001b[34m\u001b[1moptimizer:\u001b[0m AdamW(lr=0.00025, momentum=0.9) with parameter groups 57 weight(decay=0.0), 64 weight(decay=0.0005), 63 bias(decay=0.0)\n",
            "\u001b[34m\u001b[1mTensorBoard: \u001b[0mmodel graph visualization added \n",
            "Image sizes 640 train, 640 val\n",
            "Using 8 dataloader workers\n",
            "Logging results to \u001b[1mC:\\Users\\mtj02\\runs\\detect\\batch_4\u001b[0m\n",
            "Starting training for 5 epochs...\n",
            "\n",
            "      Epoch    GPU_mem   box_loss   cls_loss   dfl_loss  Instances       Size\n"
          ]
        },
        {
          "output_type": "stream",
          "name": "stderr",
          "text": [
            "        1/5      1.35G       1.09       2.56      1.111         72        640: 100%|██████████| 42/42 [00:01<00:00, 24.\n",
            "                 Class     Images  Instances      Box(P          R      mAP50  mAP50-95): 100%|██████████| 6/6 [00:00<0"
          ]
        },
        {
          "output_type": "stream",
          "name": "stdout",
          "text": [
            "                   all         42        413      0.763      0.329      0.399      0.309\n"
          ]
        },
        {
          "output_type": "stream",
          "name": "stderr",
          "text": [
            "\n"
          ]
        },
        {
          "output_type": "stream",
          "name": "stdout",
          "text": [
            "\n",
            "      Epoch    GPU_mem   box_loss   cls_loss   dfl_loss  Instances       Size\n"
          ]
        },
        {
          "output_type": "stream",
          "name": "stderr",
          "text": [
            "        2/5      1.27G      1.094      2.385      1.117         48        640: 100%|██████████| 42/42 [00:01<00:00, 30.\n",
            "                 Class     Images  Instances      Box(P          R      mAP50  mAP50-95): 100%|██████████| 6/6 [00:00<0"
          ]
        },
        {
          "output_type": "stream",
          "name": "stdout",
          "text": [
            "                   all         42        413      0.702      0.366      0.414      0.321\n"
          ]
        },
        {
          "output_type": "stream",
          "name": "stderr",
          "text": [
            "\n"
          ]
        },
        {
          "output_type": "stream",
          "name": "stdout",
          "text": [
            "\n",
            "      Epoch    GPU_mem   box_loss   cls_loss   dfl_loss  Instances       Size\n"
          ]
        },
        {
          "output_type": "stream",
          "name": "stderr",
          "text": [
            "        3/5      1.26G      1.075      2.352       1.09         75        640: 100%|██████████| 42/42 [00:01<00:00, 30.\n",
            "                 Class     Images  Instances      Box(P          R      mAP50  mAP50-95): 100%|██████████| 6/6 [00:00<0\n"
          ]
        },
        {
          "output_type": "stream",
          "name": "stdout",
          "text": [
            "                   all         42        413      0.705      0.396      0.433      0.334\n",
            "\n",
            "      Epoch    GPU_mem   box_loss   cls_loss   dfl_loss  Instances       Size\n"
          ]
        },
        {
          "output_type": "stream",
          "name": "stderr",
          "text": [
            "        4/5      1.27G      1.075        2.3      1.112         63        640: 100%|██████████| 42/42 [00:01<00:00, 31.\n",
            "                 Class     Images  Instances      Box(P          R      mAP50  mAP50-95): 100%|██████████| 6/6 [00:00<0\n"
          ]
        },
        {
          "output_type": "stream",
          "name": "stdout",
          "text": [
            "                   all         42        413      0.745      0.373      0.452      0.348\n",
            "\n",
            "      Epoch    GPU_mem   box_loss   cls_loss   dfl_loss  Instances       Size\n"
          ]
        },
        {
          "output_type": "stream",
          "name": "stderr",
          "text": [
            "        5/5      1.28G      1.064      2.272      1.095         38        640: 100%|██████████| 42/42 [00:01<00:00, 31.\n",
            "                 Class     Images  Instances      Box(P          R      mAP50  mAP50-95): 100%|██████████| 6/6 [00:00<0\n"
          ]
        },
        {
          "output_type": "stream",
          "name": "stdout",
          "text": [
            "                   all         42        413      0.759      0.374      0.457      0.353\n",
            "\n",
            "5 epochs completed in 0.037 hours.\n",
            "Optimizer stripped from C:\\Users\\mtj02\\runs\\detect\\batch_4\\weights\\last.pt, 22.5MB\n",
            "Optimizer stripped from C:\\Users\\mtj02\\runs\\detect\\batch_4\\weights\\best.pt, 22.5MB\n",
            "\n",
            "Validating C:\\Users\\mtj02\\runs\\detect\\batch_4\\weights\\best.pt...\n",
            "Ultralytics 8.3.47  Python-3.12.6 torch-2.5.1+cu118 CUDA:0 (NVIDIA GeForce RTX 4090, 24564MiB)\n",
            "Model summary (fused): 168 layers, 11,139,516 parameters, 0 gradients, 28.5 GFLOPs\n"
          ]
        },
        {
          "output_type": "stream",
          "name": "stderr",
          "text": [
            "                 Class     Images  Instances      Box(P          R      mAP50  mAP50-95): 100%|██████████| 6/6 [00:00<0\n"
          ]
        },
        {
          "output_type": "stream",
          "name": "stdout",
          "text": [
            "                   all         42        413      0.759      0.374      0.456      0.353\n",
            "                     A         11         13      0.685       0.67       0.66      0.465\n",
            "                     B         10         10          1      0.335      0.738      0.591\n",
            "                     C         12         12      0.228      0.223      0.212      0.164\n",
            "                     D          5          5          1          0      0.186       0.15\n",
            "                     E          7          8          1          0      0.214      0.172\n",
            "                     F          2          2          1          0     0.0249     0.0224\n",
            "                     H         27         29      0.454      0.918      0.826      0.649\n",
            "                     J          1          1          1          0     0.0079    0.00553\n",
            "                     K          6          6      0.332      0.833      0.843      0.651\n",
            "                     L          6          6       0.93        0.5      0.701       0.57\n",
            "                     M         21         21      0.431      0.952      0.807      0.637\n",
            "                     N         11         11          0          0      0.145       0.12\n",
            "                     O          2          2          0          0          0          0\n",
            "                     P          5          5          1          0      0.015     0.0128\n",
            "                     Q          1          1          1          0          0          0\n",
            "                     R          6          7          1          0      0.175      0.137\n",
            "                     S          3          3          1          0      0.411      0.349\n",
            "                     T         15         15          1      0.465      0.886      0.666\n",
            "                     U          3          3          1          0     0.0669      0.043\n",
            "                     V          1          1          1          0     0.0433     0.0389\n",
            "                     W          3          3          1          0     0.0617     0.0501\n",
            "                     X          2          2          1          0          0          0\n",
            "                     Y          1          1          1          0          0          0\n",
            "                     Z          1          1          1          0      0.332      0.298\n",
            "                     0         26         36      0.664      0.944      0.897      0.663\n",
            "                     1         24         35      0.665      0.743      0.767      0.516\n",
            "                     2         20         27      0.841      0.815      0.903      0.667\n",
            "                     3         18         22      0.501      0.727      0.606      0.482\n",
            "                     4         23         29      0.954      0.586      0.917      0.683\n",
            "                     5         19         25       0.74      0.797      0.848      0.661\n",
            "                     6         16         22       0.54      0.909      0.868      0.678\n",
            "                     7          8         13      0.597      0.923      0.887      0.729\n",
            "                     8         15         19      0.695      0.719      0.787      0.636\n",
            "                     9         13         17      0.556      0.647      0.686      0.493\n",
            "Speed: 0.2ms preprocess, 1.0ms inference, 0.0ms loss, 1.7ms postprocess per image\n",
            "Results saved to \u001b[1mC:\\Users\\mtj02\\runs\\detect\\batch_4\u001b[0m\n",
            "New https://pypi.org/project/ultralytics/8.3.48 available  Update with 'pip install -U ultralytics'\n",
            "Ultralytics 8.3.47  Python-3.12.6 torch-2.5.1+cu118 CUDA:0 (NVIDIA GeForce RTX 4090, 24564MiB)\n",
            "\u001b[34m\u001b[1mengine\\trainer: \u001b[0mtask=detect, mode=train, model=C:/Users/mtj02/runs/detect/default_training_run2/weights/best.pt, data=config.yaml, epochs=5, time=None, patience=5, batch=8, imgsz=640, save=True, save_period=-1, cache=False, device=None, workers=8, project=None, name=batch_8, exist_ok=False, pretrained=True, optimizer=auto, verbose=True, seed=0, deterministic=True, single_cls=False, rect=False, cos_lr=False, close_mosaic=10, resume=False, amp=True, fraction=1.0, profile=False, freeze=None, multi_scale=False, overlap_mask=True, mask_ratio=4, dropout=0.0, val=True, split=val, save_json=False, save_hybrid=False, conf=None, iou=0.7, max_det=300, half=False, dnn=False, plots=True, source=None, vid_stride=1, stream_buffer=False, visualize=False, augment=False, agnostic_nms=False, classes=None, retina_masks=False, embed=None, show=False, save_frames=False, save_txt=False, save_conf=False, save_crop=False, show_labels=True, show_conf=True, show_boxes=True, line_width=None, format=torchscript, keras=False, optimize=False, int8=False, dynamic=False, simplify=True, opset=None, workspace=None, nms=False, lr0=0.0001, lrf=0.01, momentum=0.937, weight_decay=0.0005, warmup_epochs=3.0, warmup_momentum=0.8, warmup_bias_lr=0.0, box=7.5, cls=0.5, dfl=1.5, pose=12.0, kobj=1.0, nbs=64, hsv_h=0.015, hsv_s=0.7, hsv_v=0.4, degrees=0.0, translate=0.1, scale=0.5, shear=0.0, perspective=0.0, flipud=0.0, fliplr=0.5, bgr=0.0, mosaic=1.0, mixup=0.0, copy_paste=0.0, copy_paste_mode=flip, auto_augment=randaugment, erasing=0.4, crop_fraction=1.0, cfg=None, tracker=botsort.yaml, save_dir=C:\\Users\\mtj02\\runs\\detect\\batch_8\n",
            "\n",
            "                   from  n    params  module                                       arguments                     \n",
            "  0                  -1  1       928  ultralytics.nn.modules.conv.Conv             [3, 32, 3, 2]                 \n",
            "  1                  -1  1     18560  ultralytics.nn.modules.conv.Conv             [32, 64, 3, 2]                \n",
            "  2                  -1  1     29056  ultralytics.nn.modules.block.C2f             [64, 64, 1, True]             \n",
            "  3                  -1  1     73984  ultralytics.nn.modules.conv.Conv             [64, 128, 3, 2]               \n",
            "  4                  -1  2    197632  ultralytics.nn.modules.block.C2f             [128, 128, 2, True]           \n",
            "  5                  -1  1    295424  ultralytics.nn.modules.conv.Conv             [128, 256, 3, 2]              \n",
            "  6                  -1  2    788480  ultralytics.nn.modules.block.C2f             [256, 256, 2, True]           \n",
            "  7                  -1  1   1180672  ultralytics.nn.modules.conv.Conv             [256, 512, 3, 2]              \n",
            "  8                  -1  1   1838080  ultralytics.nn.modules.block.C2f             [512, 512, 1, True]           \n",
            "  9                  -1  1    656896  ultralytics.nn.modules.block.SPPF            [512, 512, 5]                 \n",
            " 10                  -1  1         0  torch.nn.modules.upsampling.Upsample         [None, 2, 'nearest']          \n",
            " 11             [-1, 6]  1         0  ultralytics.nn.modules.conv.Concat           [1]                           \n",
            " 12                  -1  1    591360  ultralytics.nn.modules.block.C2f             [768, 256, 1]                 \n",
            " 13                  -1  1         0  torch.nn.modules.upsampling.Upsample         [None, 2, 'nearest']          \n",
            " 14             [-1, 4]  1         0  ultralytics.nn.modules.conv.Concat           [1]                           \n",
            " 15                  -1  1    148224  ultralytics.nn.modules.block.C2f             [384, 128, 1]                 \n",
            " 16                  -1  1    147712  ultralytics.nn.modules.conv.Conv             [128, 128, 3, 2]              \n",
            " 17            [-1, 12]  1         0  ultralytics.nn.modules.conv.Concat           [1]                           \n",
            " 18                  -1  1    493056  ultralytics.nn.modules.block.C2f             [384, 256, 1]                 \n",
            " 19                  -1  1    590336  ultralytics.nn.modules.conv.Conv             [256, 256, 3, 2]              \n",
            " 20             [-1, 9]  1         0  ultralytics.nn.modules.conv.Concat           [1]                           \n",
            " 21                  -1  1   1969152  ultralytics.nn.modules.block.C2f             [768, 512, 1]                 \n",
            " 22        [15, 18, 21]  1   2129980  ultralytics.nn.modules.head.Detect           [36, [128, 256, 512]]         \n",
            "Model summary: 225 layers, 11,149,532 parameters, 11,149,516 gradients, 28.7 GFLOPs\n",
            "\n",
            "Transferred 355/355 items from pretrained weights\n",
            "\u001b[34m\u001b[1mTensorBoard: \u001b[0mStart with 'tensorboard --logdir C:\\Users\\mtj02\\runs\\detect\\batch_8', view at http://localhost:6006/\n",
            "Freezing layer 'model.22.dfl.conv.weight'\n",
            "\u001b[34m\u001b[1mAMP: \u001b[0mrunning Automatic Mixed Precision (AMP) checks...\n",
            "\u001b[34m\u001b[1mAMP: \u001b[0mchecks passed \n"
          ]
        },
        {
          "output_type": "stream",
          "name": "stderr",
          "text": [
            "\u001b[34m\u001b[1mtrain: \u001b[0mScanning C:\\Users\\mtj02\\Desktop\\FinalProject_Group1\\Datasets\\LicensePlateDataset\\labels\\train.cache... 167 image\u001b[0m\n",
            "\u001b[34m\u001b[1mval: \u001b[0mScanning C:\\Users\\mtj02\\Desktop\\FinalProject_Group1\\Datasets\\LicensePlateDataset\\labels\\val.cache... 42 images, 0 \u001b[0m\n"
          ]
        },
        {
          "output_type": "stream",
          "name": "stdout",
          "text": [
            "Plotting labels to C:\\Users\\mtj02\\runs\\detect\\batch_8\\labels.jpg... \n",
            "\u001b[34m\u001b[1moptimizer:\u001b[0m 'optimizer=auto' found, ignoring 'lr0=0.0001' and 'momentum=0.937' and determining best 'optimizer', 'lr0' and 'momentum' automatically... \n",
            "\u001b[34m\u001b[1moptimizer:\u001b[0m AdamW(lr=0.00025, momentum=0.9) with parameter groups 57 weight(decay=0.0), 64 weight(decay=0.0005), 63 bias(decay=0.0)\n",
            "\u001b[34m\u001b[1mTensorBoard: \u001b[0mmodel graph visualization added \n",
            "Image sizes 640 train, 640 val\n",
            "Using 8 dataloader workers\n",
            "Logging results to \u001b[1mC:\\Users\\mtj02\\runs\\detect\\batch_8\u001b[0m\n",
            "Starting training for 5 epochs...\n",
            "\n",
            "      Epoch    GPU_mem   box_loss   cls_loss   dfl_loss  Instances       Size\n"
          ]
        },
        {
          "output_type": "stream",
          "name": "stderr",
          "text": [
            "        1/5      2.56G     0.9841      2.135      1.072        167        640: 100%|██████████| 21/21 [00:01<00:00, 17.\n",
            "                 Class     Images  Instances      Box(P          R      mAP50  mAP50-95): 100%|██████████| 3/3 [00:00<0"
          ]
        },
        {
          "output_type": "stream",
          "name": "stdout",
          "text": [
            "                   all         42        413      0.759      0.385      0.468      0.363\n"
          ]
        },
        {
          "output_type": "stream",
          "name": "stderr",
          "text": [
            "\n"
          ]
        },
        {
          "output_type": "stream",
          "name": "stdout",
          "text": [
            "\n",
            "      Epoch    GPU_mem   box_loss   cls_loss   dfl_loss  Instances       Size\n"
          ]
        },
        {
          "output_type": "stream",
          "name": "stderr",
          "text": [
            "        2/5      2.35G     0.9566      1.997       1.04        181        640: 100%|██████████| 21/21 [00:01<00:00, 13.\n",
            "                 Class     Images  Instances      Box(P          R      mAP50  mAP50-95): 100%|██████████| 3/3 [00:00<0\n"
          ]
        },
        {
          "output_type": "stream",
          "name": "stdout",
          "text": [
            "                   all         42        413      0.782      0.361      0.478       0.37\n",
            "\n",
            "      Epoch    GPU_mem   box_loss   cls_loss   dfl_loss  Instances       Size\n"
          ]
        },
        {
          "output_type": "stream",
          "name": "stderr",
          "text": [
            "        3/5      2.29G     0.9671      1.944      1.053         87        640: 100%|██████████| 21/21 [00:01<00:00, 19.\n",
            "                 Class     Images  Instances      Box(P          R      mAP50  mAP50-95): 100%|██████████| 3/3 [00:00<0"
          ]
        },
        {
          "output_type": "stream",
          "name": "stdout",
          "text": [
            "                   all         42        413      0.753      0.404      0.492      0.381\n"
          ]
        },
        {
          "output_type": "stream",
          "name": "stderr",
          "text": [
            "\n"
          ]
        },
        {
          "output_type": "stream",
          "name": "stdout",
          "text": [
            "\n",
            "      Epoch    GPU_mem   box_loss   cls_loss   dfl_loss  Instances       Size\n"
          ]
        },
        {
          "output_type": "stream",
          "name": "stderr",
          "text": [
            "        4/5      2.21G      1.013      2.014       1.08        127        640: 100%|██████████| 21/21 [00:00<00:00, 21.\n",
            "                 Class     Images  Instances      Box(P          R      mAP50  mAP50-95): 100%|██████████| 3/3 [00:00<0"
          ]
        },
        {
          "output_type": "stream",
          "name": "stdout",
          "text": [
            "                   all         42        413      0.747      0.417      0.501      0.386\n"
          ]
        },
        {
          "output_type": "stream",
          "name": "stderr",
          "text": [
            "\n"
          ]
        },
        {
          "output_type": "stream",
          "name": "stdout",
          "text": [
            "\n",
            "      Epoch    GPU_mem   box_loss   cls_loss   dfl_loss  Instances       Size\n"
          ]
        },
        {
          "output_type": "stream",
          "name": "stderr",
          "text": [
            "        5/5      2.29G      1.037      2.045      1.063        166        640: 100%|██████████| 21/21 [00:00<00:00, 23.\n",
            "                 Class     Images  Instances      Box(P          R      mAP50  mAP50-95): 100%|██████████| 3/3 [00:00<0\n"
          ]
        },
        {
          "output_type": "stream",
          "name": "stdout",
          "text": [
            "                   all         42        413      0.752      0.429      0.504      0.388\n",
            "\n",
            "5 epochs completed in 0.036 hours.\n",
            "Optimizer stripped from C:\\Users\\mtj02\\runs\\detect\\batch_8\\weights\\last.pt, 22.5MB\n",
            "Optimizer stripped from C:\\Users\\mtj02\\runs\\detect\\batch_8\\weights\\best.pt, 22.5MB\n",
            "\n",
            "Validating C:\\Users\\mtj02\\runs\\detect\\batch_8\\weights\\best.pt...\n",
            "Ultralytics 8.3.47  Python-3.12.6 torch-2.5.1+cu118 CUDA:0 (NVIDIA GeForce RTX 4090, 24564MiB)\n",
            "Model summary (fused): 168 layers, 11,139,516 parameters, 0 gradients, 28.5 GFLOPs\n"
          ]
        },
        {
          "output_type": "stream",
          "name": "stderr",
          "text": [
            "                 Class     Images  Instances      Box(P          R      mAP50  mAP50-95): 100%|██████████| 3/3 [00:00<0\n"
          ]
        },
        {
          "output_type": "stream",
          "name": "stdout",
          "text": [
            "                   all         42        413       0.75      0.428      0.504      0.388\n",
            "                     A         11         13      0.589      0.846      0.722       0.49\n",
            "                     B         10         10      0.967        0.6      0.799      0.649\n",
            "                     C         12         12      0.227       0.25      0.262      0.203\n",
            "                     D          5          5          1          0      0.391      0.353\n",
            "                     E          7          8          1          0      0.323      0.265\n",
            "                     F          2          2          1          0     0.0553     0.0497\n",
            "                     H         27         29      0.478      0.966      0.877       0.69\n",
            "                     J          1          1          1          0     0.0191     0.0153\n",
            "                     K          6          6      0.258      0.833       0.85      0.647\n",
            "                     L          6          6      0.797      0.655      0.755      0.613\n",
            "                     M         21         21      0.456      0.952      0.845      0.655\n",
            "                     N         11         11          0          0      0.183       0.14\n",
            "                     O          2          2          0          0          0          0\n",
            "                     P          5          5          1          0     0.0166     0.0147\n",
            "                     Q          1          1          1          0          0          0\n",
            "                     R          6          7          1          0      0.343      0.266\n",
            "                     S          3          3          1          0       0.42      0.321\n",
            "                     T         15         15          1      0.844      0.991      0.755\n",
            "                     U          3          3          1          0      0.152      0.121\n",
            "                     V          1          1          1          0     0.0524     0.0419\n",
            "                     W          3          3          1          0      0.126      0.109\n",
            "                     X          2          2          1          0       0.04      0.032\n",
            "                     Y          1          1          1          0          0          0\n",
            "                     Z          1          1          1          0      0.332      0.265\n",
            "                     0         26         36      0.632      0.944      0.906      0.671\n",
            "                     1         24         35      0.725      0.755      0.805      0.538\n",
            "                     2         20         27      0.772      0.876      0.939      0.694\n",
            "                     3         18         22      0.514      0.773      0.664      0.528\n",
            "                     4         23         29      0.926      0.859      0.929      0.706\n",
            "                     5         19         25      0.647       0.84      0.883      0.678\n",
            "                     6         16         22      0.598      0.947      0.914        0.7\n",
            "                     7          8         13      0.611      0.966      0.926      0.759\n",
            "                     8         15         19      0.724       0.83      0.864      0.692\n",
            "                     9         13         17      0.583      0.824      0.742      0.522\n",
            "Speed: 0.2ms preprocess, 0.6ms inference, 0.0ms loss, 1.5ms postprocess per image\n",
            "Results saved to \u001b[1mC:\\Users\\mtj02\\runs\\detect\\batch_8\u001b[0m\n",
            "New https://pypi.org/project/ultralytics/8.3.48 available  Update with 'pip install -U ultralytics'\n",
            "Ultralytics 8.3.47  Python-3.12.6 torch-2.5.1+cu118 CUDA:0 (NVIDIA GeForce RTX 4090, 24564MiB)\n",
            "\u001b[34m\u001b[1mengine\\trainer: \u001b[0mtask=detect, mode=train, model=C:/Users/mtj02/runs/detect/default_training_run2/weights/best.pt, data=config.yaml, epochs=5, time=None, patience=5, batch=16, imgsz=640, save=True, save_period=-1, cache=False, device=None, workers=8, project=None, name=batch_16, exist_ok=False, pretrained=True, optimizer=auto, verbose=True, seed=0, deterministic=True, single_cls=False, rect=False, cos_lr=False, close_mosaic=10, resume=False, amp=True, fraction=1.0, profile=False, freeze=None, multi_scale=False, overlap_mask=True, mask_ratio=4, dropout=0.0, val=True, split=val, save_json=False, save_hybrid=False, conf=None, iou=0.7, max_det=300, half=False, dnn=False, plots=True, source=None, vid_stride=1, stream_buffer=False, visualize=False, augment=False, agnostic_nms=False, classes=None, retina_masks=False, embed=None, show=False, save_frames=False, save_txt=False, save_conf=False, save_crop=False, show_labels=True, show_conf=True, show_boxes=True, line_width=None, format=torchscript, keras=False, optimize=False, int8=False, dynamic=False, simplify=True, opset=None, workspace=None, nms=False, lr0=0.0001, lrf=0.01, momentum=0.937, weight_decay=0.0005, warmup_epochs=3.0, warmup_momentum=0.8, warmup_bias_lr=0.0, box=7.5, cls=0.5, dfl=1.5, pose=12.0, kobj=1.0, nbs=64, hsv_h=0.015, hsv_s=0.7, hsv_v=0.4, degrees=0.0, translate=0.1, scale=0.5, shear=0.0, perspective=0.0, flipud=0.0, fliplr=0.5, bgr=0.0, mosaic=1.0, mixup=0.0, copy_paste=0.0, copy_paste_mode=flip, auto_augment=randaugment, erasing=0.4, crop_fraction=1.0, cfg=None, tracker=botsort.yaml, save_dir=C:\\Users\\mtj02\\runs\\detect\\batch_16\n",
            "\n",
            "                   from  n    params  module                                       arguments                     \n",
            "  0                  -1  1       928  ultralytics.nn.modules.conv.Conv             [3, 32, 3, 2]                 \n",
            "  1                  -1  1     18560  ultralytics.nn.modules.conv.Conv             [32, 64, 3, 2]                \n",
            "  2                  -1  1     29056  ultralytics.nn.modules.block.C2f             [64, 64, 1, True]             \n",
            "  3                  -1  1     73984  ultralytics.nn.modules.conv.Conv             [64, 128, 3, 2]               \n",
            "  4                  -1  2    197632  ultralytics.nn.modules.block.C2f             [128, 128, 2, True]           \n",
            "  5                  -1  1    295424  ultralytics.nn.modules.conv.Conv             [128, 256, 3, 2]              \n",
            "  6                  -1  2    788480  ultralytics.nn.modules.block.C2f             [256, 256, 2, True]           \n",
            "  7                  -1  1   1180672  ultralytics.nn.modules.conv.Conv             [256, 512, 3, 2]              \n",
            "  8                  -1  1   1838080  ultralytics.nn.modules.block.C2f             [512, 512, 1, True]           \n",
            "  9                  -1  1    656896  ultralytics.nn.modules.block.SPPF            [512, 512, 5]                 \n",
            " 10                  -1  1         0  torch.nn.modules.upsampling.Upsample         [None, 2, 'nearest']          \n",
            " 11             [-1, 6]  1         0  ultralytics.nn.modules.conv.Concat           [1]                           \n",
            " 12                  -1  1    591360  ultralytics.nn.modules.block.C2f             [768, 256, 1]                 \n",
            " 13                  -1  1         0  torch.nn.modules.upsampling.Upsample         [None, 2, 'nearest']          \n",
            " 14             [-1, 4]  1         0  ultralytics.nn.modules.conv.Concat           [1]                           \n",
            " 15                  -1  1    148224  ultralytics.nn.modules.block.C2f             [384, 128, 1]                 \n",
            " 16                  -1  1    147712  ultralytics.nn.modules.conv.Conv             [128, 128, 3, 2]              \n",
            " 17            [-1, 12]  1         0  ultralytics.nn.modules.conv.Concat           [1]                           \n",
            " 18                  -1  1    493056  ultralytics.nn.modules.block.C2f             [384, 256, 1]                 \n",
            " 19                  -1  1    590336  ultralytics.nn.modules.conv.Conv             [256, 256, 3, 2]              \n",
            " 20             [-1, 9]  1         0  ultralytics.nn.modules.conv.Concat           [1]                           \n",
            " 21                  -1  1   1969152  ultralytics.nn.modules.block.C2f             [768, 512, 1]                 \n",
            " 22        [15, 18, 21]  1   2129980  ultralytics.nn.modules.head.Detect           [36, [128, 256, 512]]         \n",
            "Model summary: 225 layers, 11,149,532 parameters, 11,149,516 gradients, 28.7 GFLOPs\n",
            "\n",
            "Transferred 355/355 items from pretrained weights\n",
            "\u001b[34m\u001b[1mTensorBoard: \u001b[0mStart with 'tensorboard --logdir C:\\Users\\mtj02\\runs\\detect\\batch_16', view at http://localhost:6006/\n",
            "Freezing layer 'model.22.dfl.conv.weight'\n",
            "\u001b[34m\u001b[1mAMP: \u001b[0mrunning Automatic Mixed Precision (AMP) checks...\n",
            "\u001b[34m\u001b[1mAMP: \u001b[0mchecks passed \n"
          ]
        },
        {
          "output_type": "stream",
          "name": "stderr",
          "text": [
            "\u001b[34m\u001b[1mtrain: \u001b[0mScanning C:\\Users\\mtj02\\Desktop\\FinalProject_Group1\\Datasets\\LicensePlateDataset\\labels\\train.cache... 167 image\u001b[0m\n",
            "\u001b[34m\u001b[1mval: \u001b[0mScanning C:\\Users\\mtj02\\Desktop\\FinalProject_Group1\\Datasets\\LicensePlateDataset\\labels\\val.cache... 42 images, 0 \u001b[0m\n"
          ]
        },
        {
          "output_type": "stream",
          "name": "stdout",
          "text": [
            "Plotting labels to C:\\Users\\mtj02\\runs\\detect\\batch_16\\labels.jpg... \n",
            "\u001b[34m\u001b[1moptimizer:\u001b[0m 'optimizer=auto' found, ignoring 'lr0=0.0001' and 'momentum=0.937' and determining best 'optimizer', 'lr0' and 'momentum' automatically... \n",
            "\u001b[34m\u001b[1moptimizer:\u001b[0m AdamW(lr=0.00025, momentum=0.9) with parameter groups 57 weight(decay=0.0), 64 weight(decay=0.0005), 63 bias(decay=0.0)\n",
            "\u001b[34m\u001b[1mTensorBoard: \u001b[0mmodel graph visualization added \n",
            "Image sizes 640 train, 640 val\n",
            "Using 8 dataloader workers\n",
            "Logging results to \u001b[1mC:\\Users\\mtj02\\runs\\detect\\batch_16\u001b[0m\n",
            "Starting training for 5 epochs...\n",
            "\n",
            "      Epoch    GPU_mem   box_loss   cls_loss   dfl_loss  Instances       Size\n"
          ]
        },
        {
          "output_type": "stream",
          "name": "stderr",
          "text": [
            "        1/5      4.33G     0.9677      1.929      1.053        125        640: 100%|██████████| 11/11 [00:01<00:00,  9.\n",
            "                 Class     Images  Instances      Box(P          R      mAP50  mAP50-95): 100%|██████████| 2/2 [00:00<0"
          ]
        },
        {
          "output_type": "stream",
          "name": "stdout",
          "text": [
            "                   all         42        413      0.746      0.438      0.495      0.383\n"
          ]
        },
        {
          "output_type": "stream",
          "name": "stderr",
          "text": [
            "\n"
          ]
        },
        {
          "output_type": "stream",
          "name": "stdout",
          "text": [
            "\n",
            "      Epoch    GPU_mem   box_loss   cls_loss   dfl_loss  Instances       Size\n"
          ]
        },
        {
          "output_type": "stream",
          "name": "stderr",
          "text": [
            "        2/5         4G     0.9908      1.948      1.048        107        640: 100%|██████████| 11/11 [00:00<00:00, 12.\n",
            "                 Class     Images  Instances      Box(P          R      mAP50  mAP50-95): 100%|██████████| 2/2 [00:00<0"
          ]
        },
        {
          "output_type": "stream",
          "name": "stdout",
          "text": [
            "                   all         42        413      0.774      0.431      0.506      0.389\n"
          ]
        },
        {
          "output_type": "stream",
          "name": "stderr",
          "text": [
            "\n"
          ]
        },
        {
          "output_type": "stream",
          "name": "stdout",
          "text": [
            "\n",
            "      Epoch    GPU_mem   box_loss   cls_loss   dfl_loss  Instances       Size\n"
          ]
        },
        {
          "output_type": "stream",
          "name": "stderr",
          "text": [
            "        3/5      3.99G     0.9432      1.903      1.029        129        640: 100%|██████████| 11/11 [00:00<00:00, 13.\n",
            "                 Class     Images  Instances      Box(P          R      mAP50  mAP50-95): 100%|██████████| 2/2 [00:00<0"
          ]
        },
        {
          "output_type": "stream",
          "name": "stdout",
          "text": [
            "                   all         42        413      0.773      0.446      0.515      0.399\n"
          ]
        },
        {
          "output_type": "stream",
          "name": "stderr",
          "text": [
            "\n"
          ]
        },
        {
          "output_type": "stream",
          "name": "stdout",
          "text": [
            "\n",
            "      Epoch    GPU_mem   box_loss   cls_loss   dfl_loss  Instances       Size\n"
          ]
        },
        {
          "output_type": "stream",
          "name": "stderr",
          "text": [
            "        4/5      3.98G     0.9735      1.867      1.068        128        640: 100%|██████████| 11/11 [00:00<00:00, 13.\n",
            "                 Class     Images  Instances      Box(P          R      mAP50  mAP50-95): 100%|██████████| 2/2 [00:00<0"
          ]
        },
        {
          "output_type": "stream",
          "name": "stdout",
          "text": [
            "                   all         42        413      0.782      0.451      0.521      0.405\n"
          ]
        },
        {
          "output_type": "stream",
          "name": "stderr",
          "text": [
            "\n"
          ]
        },
        {
          "output_type": "stream",
          "name": "stdout",
          "text": [
            "\n",
            "      Epoch    GPU_mem   box_loss   cls_loss   dfl_loss  Instances       Size\n"
          ]
        },
        {
          "output_type": "stream",
          "name": "stderr",
          "text": [
            "        5/5      3.98G     0.9946      1.906      1.061        136        640: 100%|██████████| 11/11 [00:00<00:00, 13.\n",
            "                 Class     Images  Instances      Box(P          R      mAP50  mAP50-95): 100%|██████████| 2/2 [00:00<0"
          ]
        },
        {
          "output_type": "stream",
          "name": "stdout",
          "text": [
            "                   all         42        413      0.788      0.433      0.527       0.41\n"
          ]
        },
        {
          "output_type": "stream",
          "name": "stderr",
          "text": [
            "\n"
          ]
        },
        {
          "output_type": "stream",
          "name": "stdout",
          "text": [
            "\n",
            "5 epochs completed in 0.036 hours.\n",
            "Optimizer stripped from C:\\Users\\mtj02\\runs\\detect\\batch_16\\weights\\last.pt, 22.5MB\n",
            "Optimizer stripped from C:\\Users\\mtj02\\runs\\detect\\batch_16\\weights\\best.pt, 22.5MB\n",
            "\n",
            "Validating C:\\Users\\mtj02\\runs\\detect\\batch_16\\weights\\best.pt...\n",
            "Ultralytics 8.3.47  Python-3.12.6 torch-2.5.1+cu118 CUDA:0 (NVIDIA GeForce RTX 4090, 24564MiB)\n",
            "Model summary (fused): 168 layers, 11,139,516 parameters, 0 gradients, 28.5 GFLOPs\n"
          ]
        },
        {
          "output_type": "stream",
          "name": "stderr",
          "text": [
            "                 Class     Images  Instances      Box(P          R      mAP50  mAP50-95): 100%|██████████| 2/2 [00:00<0\n"
          ]
        },
        {
          "output_type": "stream",
          "name": "stdout",
          "text": [
            "                   all         42        413      0.788      0.434      0.526       0.41\n",
            "                     A         11         13      0.588      0.846      0.769      0.543\n",
            "                     B         10         10          1      0.457      0.846      0.688\n",
            "                     C         12         12       0.34      0.345      0.332      0.256\n",
            "                     D          5          5          1          0      0.329      0.288\n",
            "                     E          7          8      0.883       0.25      0.388      0.309\n",
            "                     F          2          2          1          0     0.0905     0.0814\n",
            "                     H         27         29      0.535      0.952      0.909      0.715\n",
            "                     J          1          1          1          0     0.0163      0.013\n",
            "                     K          6          6      0.533      0.833      0.855      0.634\n",
            "                     L          6          6      0.845      0.667       0.84      0.686\n",
            "                     M         21         21      0.558      0.952      0.875      0.669\n",
            "                     N         11         11          0          0       0.23      0.173\n",
            "                     O          2          2          0          0          0          0\n",
            "                     P          5          5          1          0     0.0175     0.0155\n",
            "                     Q          1          1          1          0          0          0\n",
            "                     R          6          7          1          0      0.541      0.425\n",
            "                     S          3          3          1          0      0.403      0.345\n",
            "                     T         15         15          1      0.915      0.982      0.789\n",
            "                     U          3          3          1          0      0.146      0.123\n",
            "                     V          1          1          1          0     0.0498     0.0398\n",
            "                     W          3          3          1          0      0.106     0.0886\n",
            "                     X          2          2          1          0          0          0\n",
            "                     Y          1          1          1          0          0          0\n",
            "                     Z          1          1          1          0      0.332      0.298\n",
            "                     0         26         36      0.672      0.944      0.917       0.69\n",
            "                     1         24         35      0.805        0.8      0.821       0.57\n",
            "                     2         20         27      0.902      0.889       0.97      0.715\n",
            "                     3         18         22      0.668      0.773      0.736      0.592\n",
            "                     4         23         29      0.922      0.811      0.935      0.704\n",
            "                     5         19         25       0.79      0.904      0.932       0.72\n",
            "                     6         16         22       0.69      0.909      0.913      0.705\n",
            "                     7          8         13      0.677          1      0.954      0.805\n",
            "                     8         15         19      0.771      0.789      0.877      0.708\n",
            "                     9         13         17      0.608      0.706      0.788       0.56\n",
            "Speed: 0.2ms preprocess, 0.6ms inference, 0.0ms loss, 0.7ms postprocess per image\n",
            "Results saved to \u001b[1mC:\\Users\\mtj02\\runs\\detect\\batch_16\u001b[0m\n",
            "New https://pypi.org/project/ultralytics/8.3.48 available  Update with 'pip install -U ultralytics'\n",
            "Ultralytics 8.3.47  Python-3.12.6 torch-2.5.1+cu118 CUDA:0 (NVIDIA GeForce RTX 4090, 24564MiB)\n",
            "\u001b[34m\u001b[1mengine\\trainer: \u001b[0mtask=detect, mode=train, model=C:/Users/mtj02/runs/detect/default_training_run2/weights/best.pt, data=config.yaml, epochs=5, time=None, patience=5, batch=32, imgsz=640, save=True, save_period=-1, cache=False, device=None, workers=8, project=None, name=batch_32, exist_ok=False, pretrained=True, optimizer=auto, verbose=True, seed=0, deterministic=True, single_cls=False, rect=False, cos_lr=False, close_mosaic=10, resume=False, amp=True, fraction=1.0, profile=False, freeze=None, multi_scale=False, overlap_mask=True, mask_ratio=4, dropout=0.0, val=True, split=val, save_json=False, save_hybrid=False, conf=None, iou=0.7, max_det=300, half=False, dnn=False, plots=True, source=None, vid_stride=1, stream_buffer=False, visualize=False, augment=False, agnostic_nms=False, classes=None, retina_masks=False, embed=None, show=False, save_frames=False, save_txt=False, save_conf=False, save_crop=False, show_labels=True, show_conf=True, show_boxes=True, line_width=None, format=torchscript, keras=False, optimize=False, int8=False, dynamic=False, simplify=True, opset=None, workspace=None, nms=False, lr0=0.0001, lrf=0.01, momentum=0.937, weight_decay=0.0005, warmup_epochs=3.0, warmup_momentum=0.8, warmup_bias_lr=0.0, box=7.5, cls=0.5, dfl=1.5, pose=12.0, kobj=1.0, nbs=64, hsv_h=0.015, hsv_s=0.7, hsv_v=0.4, degrees=0.0, translate=0.1, scale=0.5, shear=0.0, perspective=0.0, flipud=0.0, fliplr=0.5, bgr=0.0, mosaic=1.0, mixup=0.0, copy_paste=0.0, copy_paste_mode=flip, auto_augment=randaugment, erasing=0.4, crop_fraction=1.0, cfg=None, tracker=botsort.yaml, save_dir=C:\\Users\\mtj02\\runs\\detect\\batch_32\n",
            "\n",
            "                   from  n    params  module                                       arguments                     \n",
            "  0                  -1  1       928  ultralytics.nn.modules.conv.Conv             [3, 32, 3, 2]                 \n",
            "  1                  -1  1     18560  ultralytics.nn.modules.conv.Conv             [32, 64, 3, 2]                \n",
            "  2                  -1  1     29056  ultralytics.nn.modules.block.C2f             [64, 64, 1, True]             \n",
            "  3                  -1  1     73984  ultralytics.nn.modules.conv.Conv             [64, 128, 3, 2]               \n",
            "  4                  -1  2    197632  ultralytics.nn.modules.block.C2f             [128, 128, 2, True]           \n",
            "  5                  -1  1    295424  ultralytics.nn.modules.conv.Conv             [128, 256, 3, 2]              \n",
            "  6                  -1  2    788480  ultralytics.nn.modules.block.C2f             [256, 256, 2, True]           \n",
            "  7                  -1  1   1180672  ultralytics.nn.modules.conv.Conv             [256, 512, 3, 2]              \n",
            "  8                  -1  1   1838080  ultralytics.nn.modules.block.C2f             [512, 512, 1, True]           \n",
            "  9                  -1  1    656896  ultralytics.nn.modules.block.SPPF            [512, 512, 5]                 \n",
            " 10                  -1  1         0  torch.nn.modules.upsampling.Upsample         [None, 2, 'nearest']          \n",
            " 11             [-1, 6]  1         0  ultralytics.nn.modules.conv.Concat           [1]                           \n",
            " 12                  -1  1    591360  ultralytics.nn.modules.block.C2f             [768, 256, 1]                 \n",
            " 13                  -1  1         0  torch.nn.modules.upsampling.Upsample         [None, 2, 'nearest']          \n",
            " 14             [-1, 4]  1         0  ultralytics.nn.modules.conv.Concat           [1]                           \n",
            " 15                  -1  1    148224  ultralytics.nn.modules.block.C2f             [384, 128, 1]                 \n",
            " 16                  -1  1    147712  ultralytics.nn.modules.conv.Conv             [128, 128, 3, 2]              \n",
            " 17            [-1, 12]  1         0  ultralytics.nn.modules.conv.Concat           [1]                           \n",
            " 18                  -1  1    493056  ultralytics.nn.modules.block.C2f             [384, 256, 1]                 \n",
            " 19                  -1  1    590336  ultralytics.nn.modules.conv.Conv             [256, 256, 3, 2]              \n",
            " 20             [-1, 9]  1         0  ultralytics.nn.modules.conv.Concat           [1]                           \n",
            " 21                  -1  1   1969152  ultralytics.nn.modules.block.C2f             [768, 512, 1]                 \n",
            " 22        [15, 18, 21]  1   2129980  ultralytics.nn.modules.head.Detect           [36, [128, 256, 512]]         \n",
            "Model summary: 225 layers, 11,149,532 parameters, 11,149,516 gradients, 28.7 GFLOPs\n",
            "\n",
            "Transferred 355/355 items from pretrained weights\n",
            "\u001b[34m\u001b[1mTensorBoard: \u001b[0mStart with 'tensorboard --logdir C:\\Users\\mtj02\\runs\\detect\\batch_32', view at http://localhost:6006/\n",
            "Freezing layer 'model.22.dfl.conv.weight'\n",
            "\u001b[34m\u001b[1mAMP: \u001b[0mrunning Automatic Mixed Precision (AMP) checks...\n",
            "\u001b[34m\u001b[1mAMP: \u001b[0mchecks passed \n"
          ]
        },
        {
          "output_type": "stream",
          "name": "stderr",
          "text": [
            "\u001b[34m\u001b[1mtrain: \u001b[0mScanning C:\\Users\\mtj02\\Desktop\\FinalProject_Group1\\Datasets\\LicensePlateDataset\\labels\\train.cache... 167 image\u001b[0m\n",
            "\u001b[34m\u001b[1mval: \u001b[0mScanning C:\\Users\\mtj02\\Desktop\\FinalProject_Group1\\Datasets\\LicensePlateDataset\\labels\\val.cache... 42 images, 0 \u001b[0m\n"
          ]
        },
        {
          "output_type": "stream",
          "name": "stdout",
          "text": [
            "Plotting labels to C:\\Users\\mtj02\\runs\\detect\\batch_32\\labels.jpg... \n",
            "\u001b[34m\u001b[1moptimizer:\u001b[0m 'optimizer=auto' found, ignoring 'lr0=0.0001' and 'momentum=0.937' and determining best 'optimizer', 'lr0' and 'momentum' automatically... \n",
            "\u001b[34m\u001b[1moptimizer:\u001b[0m AdamW(lr=0.00025, momentum=0.9) with parameter groups 57 weight(decay=0.0), 64 weight(decay=0.0005), 63 bias(decay=0.0)\n",
            "\u001b[34m\u001b[1mTensorBoard: \u001b[0mmodel graph visualization added \n",
            "Image sizes 640 train, 640 val\n",
            "Using 8 dataloader workers\n",
            "Logging results to \u001b[1mC:\\Users\\mtj02\\runs\\detect\\batch_32\u001b[0m\n",
            "Starting training for 5 epochs...\n",
            "\n",
            "      Epoch    GPU_mem   box_loss   cls_loss   dfl_loss  Instances       Size\n"
          ]
        },
        {
          "output_type": "stream",
          "name": "stderr",
          "text": [
            "        1/5       7.7G     0.9433      1.741      1.026        133        640: 100%|██████████| 6/6 [00:02<00:00,  2.72\n",
            "                 Class     Images  Instances      Box(P          R      mAP50  mAP50-95): 100%|██████████| 1/1 [00:00<0"
          ]
        },
        {
          "output_type": "stream",
          "name": "stdout",
          "text": [
            "                   all         42        413      0.789      0.433      0.524      0.408\n"
          ]
        },
        {
          "output_type": "stream",
          "name": "stderr",
          "text": [
            "\n"
          ]
        },
        {
          "output_type": "stream",
          "name": "stdout",
          "text": [
            "\n",
            "      Epoch    GPU_mem   box_loss   cls_loss   dfl_loss  Instances       Size\n"
          ]
        },
        {
          "output_type": "stream",
          "name": "stderr",
          "text": [
            "        2/5      7.51G     0.9668      1.801      1.047        134        640: 100%|██████████| 6/6 [00:01<00:00,  5.57\n",
            "                 Class     Images  Instances      Box(P          R      mAP50  mAP50-95): 100%|██████████| 1/1 [00:00<0\n"
          ]
        },
        {
          "output_type": "stream",
          "name": "stdout",
          "text": [
            "                   all         42        413      0.795      0.431      0.529      0.411\n",
            "\n",
            "      Epoch    GPU_mem   box_loss   cls_loss   dfl_loss  Instances       Size\n"
          ]
        },
        {
          "output_type": "stream",
          "name": "stderr",
          "text": [
            "        3/5      7.73G     0.9501      1.815      1.034        185        640: 100%|██████████| 6/6 [00:00<00:00,  7.45\n",
            "                 Class     Images  Instances      Box(P          R      mAP50  mAP50-95): 100%|██████████| 1/1 [00:00<0"
          ]
        },
        {
          "output_type": "stream",
          "name": "stdout",
          "text": [
            "                   all         42        413      0.794      0.434      0.535      0.415\n"
          ]
        },
        {
          "output_type": "stream",
          "name": "stderr",
          "text": [
            "\n"
          ]
        },
        {
          "output_type": "stream",
          "name": "stdout",
          "text": [
            "\n",
            "      Epoch    GPU_mem   box_loss   cls_loss   dfl_loss  Instances       Size\n"
          ]
        },
        {
          "output_type": "stream",
          "name": "stderr",
          "text": [
            "        4/5      7.42G     0.9697      1.799      1.055        152        640: 100%|██████████| 6/6 [00:00<00:00,  7.56\n",
            "                 Class     Images  Instances      Box(P          R      mAP50  mAP50-95): 100%|██████████| 1/1 [00:00<0"
          ]
        },
        {
          "output_type": "stream",
          "name": "stdout",
          "text": [
            "                   all         42        413      0.803      0.424      0.538      0.417\n"
          ]
        },
        {
          "output_type": "stream",
          "name": "stderr",
          "text": [
            "\n"
          ]
        },
        {
          "output_type": "stream",
          "name": "stdout",
          "text": [
            "\n",
            "      Epoch    GPU_mem   box_loss   cls_loss   dfl_loss  Instances       Size\n"
          ]
        },
        {
          "output_type": "stream",
          "name": "stderr",
          "text": [
            "        5/5      7.49G     0.9691      1.793      1.047        132        640: 100%|██████████| 6/6 [00:00<00:00,  7.69\n",
            "                 Class     Images  Instances      Box(P          R      mAP50  mAP50-95): 100%|██████████| 1/1 [00:00<0\n"
          ]
        },
        {
          "output_type": "stream",
          "name": "stdout",
          "text": [
            "                   all         42        413      0.802      0.428      0.538      0.418\n",
            "\n",
            "5 epochs completed in 0.037 hours.\n",
            "Optimizer stripped from C:\\Users\\mtj02\\runs\\detect\\batch_32\\weights\\last.pt, 22.5MB\n",
            "Optimizer stripped from C:\\Users\\mtj02\\runs\\detect\\batch_32\\weights\\best.pt, 22.5MB\n",
            "\n",
            "Validating C:\\Users\\mtj02\\runs\\detect\\batch_32\\weights\\best.pt...\n",
            "Ultralytics 8.3.47  Python-3.12.6 torch-2.5.1+cu118 CUDA:0 (NVIDIA GeForce RTX 4090, 24564MiB)\n",
            "Model summary (fused): 168 layers, 11,139,516 parameters, 0 gradients, 28.5 GFLOPs\n"
          ]
        },
        {
          "output_type": "stream",
          "name": "stderr",
          "text": [
            "                 Class     Images  Instances      Box(P          R      mAP50  mAP50-95): 100%|██████████| 1/1 [00:00<0\n"
          ]
        },
        {
          "output_type": "stream",
          "name": "stdout",
          "text": [
            "                   all         42        413      0.798       0.43      0.539      0.419\n",
            "                     A         11         13        0.6      0.846      0.792      0.544\n",
            "                     B         10         10          1      0.505      0.829      0.681\n",
            "                     C         12         12      0.264     0.0833      0.394      0.324\n",
            "                     D          5          5          1          0       0.39      0.343\n",
            "                     E          7          8      0.808       0.25      0.423      0.332\n",
            "                     F          2          2          1          0     0.0711      0.064\n",
            "                     H         27         29      0.587      0.931      0.915      0.712\n",
            "                     J          1          1          1          0     0.0262     0.0209\n",
            "                     K          6          6       0.56      0.833      0.861      0.639\n",
            "                     L          6          6      0.793      0.833      0.834      0.682\n",
            "                     M         21         21      0.699      0.952      0.897      0.675\n",
            "                     N         11         11     0.0527     0.0144      0.263      0.201\n",
            "                     O          2          2          0          0          0          0\n",
            "                     P          5          5          1          0     0.0194     0.0168\n",
            "                     Q          1          1          1          0          0          0\n",
            "                     R          6          7          1          0      0.632      0.495\n",
            "                     S          3          3          1          0      0.405      0.346\n",
            "                     T         15         15          1      0.861       0.98      0.772\n",
            "                     U          3          3          1          0      0.161      0.131\n",
            "                     V          1          1          1          0     0.0452     0.0407\n",
            "                     W          3          3          1          0      0.107     0.0891\n",
            "                     X          2          2          1          0     0.0236     0.0165\n",
            "                     Y          1          1          1          0          0          0\n",
            "                     Z          1          1          1          0      0.249      0.224\n",
            "                     0         26         36      0.686      0.944      0.917      0.699\n",
            "                     1         24         35      0.847      0.792      0.843      0.578\n",
            "                     2         20         27      0.898      0.889      0.974      0.721\n",
            "                     3         18         22       0.62      0.727      0.753      0.601\n",
            "                     4         23         29      0.921        0.8      0.942      0.701\n",
            "                     5         19         25      0.811       0.88       0.95      0.733\n",
            "                     6         16         22      0.762      0.909      0.921      0.718\n",
            "                     7          8         13      0.695          1      0.972      0.817\n",
            "                     8         15         19      0.839      0.789      0.882      0.705\n",
            "                     9         13         17      0.705      0.765      0.855      0.638\n",
            "Speed: 0.2ms preprocess, 0.7ms inference, 0.0ms loss, 0.7ms postprocess per image\n",
            "Results saved to \u001b[1mC:\\Users\\mtj02\\runs\\detect\\batch_32\u001b[0m\n"
          ]
        }
      ]
    },
    {
      "cell_type": "markdown",
      "source": [
        "We found that **batch size = 32** performs best. Now try different **epochs**."
      ],
      "metadata": {
        "id": "9ikEfyUyP4dq"
      }
    },
    {
      "cell_type": "code",
      "source": [
        "for epoch in [10, 30, 50, 100]:\n",
        "  model.train(data=\"config.yaml\",epochs=epoch,patience=5,batch=8, lr0=0.0001,imgsz=640, name=f\"epoch_{epoch}\")"
      ],
      "metadata": {
        "id": "35d6cc0hFxK7"
      },
      "execution_count": null,
      "outputs": []
    }
  ]
}