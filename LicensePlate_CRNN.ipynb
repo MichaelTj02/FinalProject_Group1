{
  "nbformat": 4,
  "nbformat_minor": 0,
  "metadata": {
    "colab": {
      "provenance": [],
      "toc_visible": true,
      "authorship_tag": "ABX9TyNURjERFYbLNB+l4Y0rrB9n",
      "include_colab_link": true
    },
    "kernelspec": {
      "name": "python3",
      "display_name": "Python 3"
    },
    "language_info": {
      "name": "python"
    }
  },
  "cells": [
    {
      "cell_type": "markdown",
      "metadata": {
        "id": "view-in-github",
        "colab_type": "text"
      },
      "source": [
        "<a href=\"https://colab.research.google.com/github/MichaelTj02/FinalProject_Group1/blob/main/LicensePlate_CRNN.ipynb\" target=\"_parent\"><img src=\"https://colab.research.google.com/assets/colab-badge.svg\" alt=\"Open In Colab\"/></a>"
      ]
    },
    {
      "cell_type": "markdown",
      "source": [
        "# Extract license plate characters using CRNN"
      ],
      "metadata": {
        "id": "xVZLu0ADut1I"
      }
    },
    {
      "cell_type": "markdown",
      "source": [
        "Dataset loader"
      ],
      "metadata": {
        "id": "StoN8pZpvNff"
      }
    },
    {
      "cell_type": "code",
      "execution_count": 40,
      "metadata": {
        "id": "J53xyGQ9uqhl"
      },
      "outputs": [],
      "source": [
        "# Create dataset.py file using this code\n",
        "import os\n",
        "from PIL import Image\n",
        "import torch\n",
        "from torch.utils.data import Dataset\n",
        "\n",
        "class LicensePlateDataset(Dataset):\n",
        "    def __init__(self, label_file, image_dir, transform=None):\n",
        "        self.image_dir = image_dir\n",
        "        self.transform = transform\n",
        "        self.data = []\n",
        "\n",
        "        # Read the label file and parse it\n",
        "        with open(label_file, \"r\") as f:\n",
        "            for line in f:\n",
        "                parts = line.strip().split()\n",
        "                image_name = parts[0]  # Image name\n",
        "                text = parts[1]        # Label text\n",
        "                self.data.append((image_name, text))\n",
        "\n",
        "    def __len__(self):\n",
        "        return len(self.data)\n",
        "\n",
        "    def __getitem__(self, idx):\n",
        "        image_name, text = self.data[idx]\n",
        "        image_path = os.path.join(self.image_dir, image_name)\n",
        "        image = Image.open(image_path).convert(\"RGB\")\n",
        "\n",
        "        # Apply transformations if provided\n",
        "        if self.transform:\n",
        "            image = self.transform(image)\n",
        "\n",
        "        # Convert text to tensor (optional: depends on your CRNN implementation)\n",
        "        label = torch.tensor([ord(c) for c in text], dtype=torch.long)  # Example: ASCII encoding\n",
        "\n",
        "        return image, label\n",
        "\n"
      ]
    },
    {
      "cell_type": "markdown",
      "source": [
        "Define CRNN model"
      ],
      "metadata": {
        "id": "dObquhabvOxJ"
      }
    },
    {
      "cell_type": "code",
      "source": [
        "# Create model.py file using this code\n",
        "import torch\n",
        "import torch.nn as nn\n",
        "\n",
        "class CRNN(nn.Module):\n",
        "    def __init__(self, num_classes, input_dim=1, hidden_dim=256):\n",
        "        super(CRNN, self).__init__()\n",
        "        # CNN layers\n",
        "        self.cnn = nn.Sequential(\n",
        "            nn.Conv2d(input_dim, 64, kernel_size=3, stride=1, padding=1),\n",
        "            nn.ReLU(),\n",
        "            nn.MaxPool2d(2, 2),\n",
        "            nn.Conv2d(64, 128, kernel_size=3, stride=1, padding=1),\n",
        "            nn.ReLU(),\n",
        "            nn.MaxPool2d(2, 2)\n",
        "        )\n",
        "\n",
        "        # RNN layers\n",
        "        self.rnn = nn.LSTM(128 * 8 * 8, hidden_dim, batch_first=True, bidirectional=True)\n",
        "        self.fc = nn.Linear(hidden_dim * 2, num_classes)\n",
        "\n",
        "    def forward(self, x):\n",
        "        x = self.cnn(x)  # Apply CNN\n",
        "        x = x.view(x.size(0), -1, 128)  # Reshape for LSTM\n",
        "        x, _ = self.rnn(x)  # Apply LSTM\n",
        "        x = self.fc(x[:, -1, :])  # Fully connected layer\n",
        "        return x\n"
      ],
      "metadata": {
        "id": "qxt-EiK6vKEj"
      },
      "execution_count": 11,
      "outputs": []
    },
    {
      "cell_type": "markdown",
      "source": [
        "# Train CRNN with the dataset"
      ],
      "metadata": {
        "id": "4cD_g5Mxvbts"
      }
    },
    {
      "cell_type": "code",
      "source": [
        "# Setup paths and imports\n",
        "import os\n",
        "import torch\n",
        "\n",
        "import sys\n",
        "sys.path.append(r\"C:\\Users\\mtj02\\Desktop\\FinalProject_Group1\\Datasets\\LicensePlateDataset\")\n",
        "from dataset import LicensePlateDataset\n",
        "\n",
        "from model import CRNN\n",
        "from torch.utils.data import DataLoader\n",
        "from torchvision.transforms import Compose, Resize, ToTensor\n",
        "\n",
        "# Define paths\n",
        "project_dir = r\"C:\\Users\\mtj02\\Desktop\\FinalProject_Group1\\Datasets\\LicensePlateDataset\""
      ],
      "metadata": {
        "id": "Ee898Msgvj07"
      },
      "execution_count": 7,
      "outputs": []
    },
    {
      "cell_type": "code",
      "source": [
        "from torch.nn.utils.rnn import pad_sequence\n",
        "\n",
        "def collate_fn(batch):\n",
        "    images, labels = zip(*batch)\n",
        "\n",
        "    # Stack images into a tensor\n",
        "    images = torch.stack(images)\n",
        "\n",
        "    # Convert labels to tensors and pad them\n",
        "    labels = pad_sequence(labels, batch_first=True, padding_value=0)  # Use 0 as the padding value\n",
        "\n",
        "    return images, labels"
      ],
      "metadata": {
        "id": "KQfJCg4q59e8"
      },
      "execution_count": 8,
      "outputs": []
    },
    {
      "cell_type": "code",
      "source": [
        "from torchvision import transforms\n",
        "from torch.utils.data import DataLoader\n",
        "\n",
        "# Define the paths to the dataset and labels\n",
        "train_image_dir = r\"C:\\Users\\mtj02\\Desktop\\FinalProject_Group1\\Datasets\\LicensePlateDataset\\train\\images\"\n",
        "train_label_file = r\"C:\\Users\\mtj02\\Desktop\\FinalProject_Group1\\Datasets\\LicensePlateDataset\\train_labels.txt\"\n",
        "val_image_dir = r\"C:\\Users\\mtj02\\Desktop\\FinalProject_Group1\\Datasets\\LicensePlateDataset\\val\\images\"\n",
        "val_label_file = r\"C:\\Users\\mtj02\\Desktop\\FinalProject_Group1\\Datasets\\LicensePlateDataset\\val_labels.txt\"\n",
        "\n",
        "# Define image transformations\n",
        "transform = transforms.Compose([\n",
        "    transforms.Resize((32, 128)),  # Resize to fixed dimensions\n",
        "    transforms.ToTensor(),        # Convert to tensor\n",
        "    transforms.Normalize((0.5,), (0.5,))  # Normalize the image\n",
        "])\n",
        "\n",
        "# Load the datasets\n",
        "train_dataset = LicensePlateDataset(train_label_file, train_image_dir, transform=transform)\n",
        "val_dataset = LicensePlateDataset(val_label_file, val_image_dir, transform=transform)\n",
        "\n",
        "# Create DataLoaders\n",
        "batch_size = 32\n",
        "train_loader = DataLoader(train_dataset, batch_size=batch_size, shuffle=True, collate_fn=collate_fn)\n",
        "val_loader = DataLoader(val_dataset, batch_size=batch_size, shuffle=False, collate_fn=collate_fn)\n",
        "\n",
        "print(f\"Training dataset size: {len(train_dataset)}\")\n",
        "print(f\"Validation dataset size: {len(val_dataset)}\")\n",
        "\n",
        "# Test the first batch from the DataLoader\n",
        "for images, labels in train_loader:\n",
        "    print(f\"Batch image shape: {images.shape}\")\n",
        "    print(f\"Batch labels shape: {labels.shape}\")\n",
        "    break\n"
      ],
      "metadata": {
        "colab": {
          "base_uri": "https://localhost:8080/"
        },
        "id": "OX0SdmfjvfIJ",
        "outputId": "8d346aef-8d87-441b-e63a-8c15d9cda140"
      },
      "execution_count": 9,
      "outputs": [
        {
          "output_type": "stream",
          "name": "stdout",
          "text": [
            "Training dataset size: 167\n",
            "Validation dataset size: 42\n",
            "Batch image shape: torch.Size([32, 3, 32, 128])\n",
            "Batch labels shape: torch.Size([32, 11])\n"
          ]
        }
      ]
    }
  ]
}