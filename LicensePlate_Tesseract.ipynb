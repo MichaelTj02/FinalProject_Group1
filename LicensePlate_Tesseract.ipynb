{
  "nbformat": 4,
  "nbformat_minor": 0,
  "metadata": {
    "colab": {
      "provenance": [],
      "authorship_tag": "ABX9TyPgXIin+mKdQNTdvfNBVXeL",
      "include_colab_link": true
    },
    "kernelspec": {
      "name": "python3",
      "display_name": "Python 3"
    },
    "language_info": {
      "name": "python"
    }
  },
  "cells": [
    {
      "cell_type": "markdown",
      "metadata": {
        "id": "view-in-github",
        "colab_type": "text"
      },
      "source": [
        "<a href=\"https://colab.research.google.com/github/MichaelTj02/FinalProject_Group1/blob/main/LicensePlate_Tesseract.ipynb\" target=\"_parent\"><img src=\"https://colab.research.google.com/assets/colab-badge.svg\" alt=\"Open In Colab\"/></a>"
      ]
    },
    {
      "cell_type": "markdown",
      "source": [
        "# **License plate character detection using Tesseract OCR**"
      ],
      "metadata": {
        "id": "mwGACcY85Tmq"
      }
    },
    {
      "cell_type": "markdown",
      "source": [
        "Convert XML labels to .box for Tesseract compatibility"
      ],
      "metadata": {
        "id": "QVLqtGTF5ZdC"
      }
    },
    {
      "cell_type": "code",
      "execution_count": null,
      "metadata": {
        "id": "MbVaMVNy5Pqq"
      },
      "outputs": [],
      "source": [
        "import os\n",
        "import xml.etree.ElementTree as ET\n",
        "\n",
        "# Define function to convert XML to .box\n",
        "def convert_xml_to_box(xml_path, image_name, output_dir):\n",
        "    tree = ET.parse(xml_path)\n",
        "    root = tree.getroot()\n",
        "\n",
        "    box_path = os.path.join(output_dir, image_name + \".box\")\n",
        "    with open(box_path, \"w\") as box_file:\n",
        "        for obj in root.findall(\"object\"):\n",
        "            character = obj.find(\"name\").text\n",
        "            bndbox = obj.find(\"bndbox\")\n",
        "            xmin = int(bndbox.find(\"xmin\").text)\n",
        "            ymin = int(bndbox.find(\"ymin\").text)\n",
        "            xmax = int(bndbox.find(\"xmax\").text)\n",
        "            ymax = int(bndbox.find(\"ymax\").text)\n",
        "\n",
        "            # Write in Tesseract .box format\n",
        "            box_file.write(f\"{character} {xmin} {ymin} {xmax} {ymax} 0\\n\")\n",
        "\n",
        "# Process all XML files in train and test folders\n",
        "def process_labels(label_dir, output_dir):\n",
        "    for split in [\"train\", \"test\"]:\n",
        "        split_dir = os.path.join(label_dir, split)\n",
        "        output_split_dir = os.path.join(output_dir, split)\n",
        "        os.makedirs(output_split_dir, exist_ok=True)\n",
        "\n",
        "        for xml_file in os.listdir(split_dir):\n",
        "            if xml_file.endswith(\".xml\"):\n",
        "                image_name = os.path.splitext(xml_file)[0]\n",
        "                xml_path = os.path.join(split_dir, xml_file)\n",
        "                convert_xml_to_box(xml_path, image_name, output_split_dir)\n",
        "\n",
        "# Example usage\n",
        "label_dir = r\"C:\\Users\\mtj02\\Desktop\\FinalProject_Group1\\Datasets\\LicensePlateDataset\\labels\"\n",
        "output_dir = \"/path/to/box_files\"\n",
        "process_labels(label_dir, output_dir)"
      ]
    }
  ]
}