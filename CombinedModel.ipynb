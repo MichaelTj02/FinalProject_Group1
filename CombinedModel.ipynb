{
  "nbformat": 4,
  "nbformat_minor": 0,
  "metadata": {
    "colab": {
      "provenance": [],
      "authorship_tag": "ABX9TyPz7+wunYorNQKqNbV2dXay",
      "include_colab_link": true
    },
    "kernelspec": {
      "name": "python3",
      "display_name": "Python 3"
    },
    "language_info": {
      "name": "python"
    }
  },
  "cells": [
    {
      "cell_type": "markdown",
      "metadata": {
        "id": "view-in-github",
        "colab_type": "text"
      },
      "source": [
        "<a href=\"https://colab.research.google.com/github/MichaelTj02/FinalProject_Group1/blob/main/CombinedModel.ipynb\" target=\"_parent\"><img src=\"https://colab.research.google.com/assets/colab-badge.svg\" alt=\"Open In Colab\"/></a>"
      ]
    },
    {
      "cell_type": "code",
      "execution_count": null,
      "metadata": {
        "id": "HUfSBPGFh5kZ"
      },
      "outputs": [],
      "source": [
        "from ultralytics import YOLO\n",
        "import cv2"
      ]
    },
    {
      "cell_type": "markdown",
      "source": [
        "# Combined model"
      ],
      "metadata": {
        "id": "MwMtysg-iCAz"
      }
    },
    {
      "cell_type": "code",
      "source": [
        "# Load YOLOv8 models\n",
        "helmet_model = YOLO(r\"C:\\Users\\mtj02\\Desktop\\FinalProject_Group1\\Best_Motorcycle\\weights\\best.pt\")\n",
        "plate_model = YOLO(r\"C:\\Users\\mtj02\\Desktop\\FinalProject_Group1\\Best_LicensePlate\\weights\\best.pt\")"
      ],
      "metadata": {
        "id": "zy-l2beGiKpL"
      },
      "execution_count": null,
      "outputs": []
    },
    {
      "cell_type": "code",
      "source": [
        "# Load the image\n",
        "image = cv2.imread(\"path_to_image.jpg\")"
      ],
      "metadata": {
        "id": "jUY87BzEikp-"
      },
      "execution_count": null,
      "outputs": []
    }
  ]
}